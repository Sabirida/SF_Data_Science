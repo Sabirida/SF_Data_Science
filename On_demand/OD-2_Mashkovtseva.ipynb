{
 "cells": [
  {
   "cell_type": "markdown",
   "metadata": {},
   "source": [
    "### OD-2. Оценка продуктовой фичи \n",
    "\n",
    "*Работу выполнила: Машковцева Дарья*\n",
    "\n",
    "Цели\n",
    "\n",
    "* Посчитать долю пользователей, листавших ленту, Retention Rate и ARPPU до и после внедрения фичи.\n",
    "* Сформировать выводы по анализу."
   ]
  },
  {
   "cell_type": "code",
   "execution_count": 36,
   "metadata": {},
   "outputs": [],
   "source": [
    "%matplotlib inline\n",
    "import pandas as pd\n",
    "import numpy as np\n",
    "import psycopg2\n",
    "import psycopg2.extras "
   ]
  },
  {
   "cell_type": "code",
   "execution_count": 37,
   "metadata": {},
   "outputs": [],
   "source": [
    "# Подсчитаем количество зарегистрировавшихся пользователей registered_users_count за май и июнь 2019 года в разрезе registration_date — дней регистрации.\n",
    "\n",
    "def getRegisteredUsersCount():\n",
    "    query = '''SELECT r.registration_date, count(distinct(r.user_id)) as registered_users_count\n",
    "    FROM case9.registration r\n",
    "    WHERE r.registration_date >= '2019-05-01' and r.registration_date < '2019-07-01'\n",
    "    GROUP BY 1\n",
    "    '''.format()\n",
    "    conn = psycopg2.connect(\"dbname='skillfactory' user='skillfactory' host='84.201.134.129' password='cCkxxLVrDE8EbvjueeMedPKt' port=5432\")\n",
    "    dict_cur = conn.cursor(cursor_factory=psycopg2.extras.DictCursor)\n",
    "    dict_cur.execute(query)\n",
    "    rows = dict_cur.fetchall()\n",
    "    data = []\n",
    "    for row in rows:\n",
    "        data.append(dict(row))\n",
    "    return data\n",
    "\n",
    "registered_users_count = pd.DataFrame(getRegisteredUsersCount())\n",
    "registered_users_count['registration_date'] = pd.to_datetime(registered_users_count['registration_date'])"
   ]
  },
  {
   "cell_type": "code",
   "execution_count": 38,
   "metadata": {},
   "outputs": [],
   "source": [
    "# Получим данные об активных пользователях из базы и подсчитаем по дням количество активных пользователей active_users_count \n",
    "# с указанием даты регистрации registration_date.\n",
    "\n",
    "registered_users_count['registration_date'] = pd.to_datetime(registered_users_count['registration_date'])\n",
    "def getActiveUsersCountWithCohorts():\n",
    "    query = '''SELECT ac.activity_date, r.registration_date, count(distinct(ac.user_id)) as active_users_count\n",
    "    FROM case9.user_activity ac\n",
    "    LEFT JOIN case9.registration r ON r.user_id = ac.user_id\n",
    "    WHERE r.registration_date >= '2019-05-01' and r.registration_date < '2019-07-01'\n",
    "    GROUP BY 1,2\n",
    "    '''.format()\n",
    "    conn = psycopg2.connect(\"dbname='skillfactory' user='skillfactory' host='84.201.134.129' password='cCkxxLVrDE8EbvjueeMedPKt' port=5432\")\n",
    "    dict_cur = conn.cursor(cursor_factory=psycopg2.extras.DictCursor)\n",
    "    dict_cur.execute(query)\n",
    "    rows = dict_cur.fetchall()\n",
    "    data = []\n",
    "    for row in rows:\n",
    "        data.append(dict(row))\n",
    "    return data\n",
    "\n",
    "active_users_count_with_cohorts = pd.DataFrame(getActiveUsersCountWithCohorts())\n",
    "for col in ['activity_date','registration_date']:\n",
    "    active_users_count_with_cohorts[col] = pd.to_datetime(active_users_count_with_cohorts[col])"
   ]
  },
  {
   "cell_type": "code",
   "execution_count": 39,
   "metadata": {},
   "outputs": [],
   "source": [
    "# Объединяем две таблицы\n",
    "\n",
    "retention_table = active_users_count_with_cohorts.merge(registered_users_count,on=['registration_date'],how='left')"
   ]
  },
  {
   "cell_type": "code",
   "execution_count": 40,
   "metadata": {},
   "outputs": [],
   "source": [
    "# Найдем RETENTION RATE\n",
    "\n",
    "retention_table['retention_rate'] = retention_table['active_users_count'] / retention_table['registered_users_count']\n",
    "retention_table['lifetime'] = retention_table['activity_date'] - retention_table['registration_date']\n",
    "retention_table['lifetime'] = retention_table['lifetime']/np.timedelta64(1,'D')\n",
    "retention_table['lifetime'] = retention_table['lifetime'].astype(int) # Приведем тип к целому числу"
   ]
  },
  {
   "cell_type": "code",
   "execution_count": 41,
   "metadata": {},
   "outputs": [],
   "source": [
    "# Получим данные о доходах\n",
    "\n",
    "def getRevenue():\n",
    "    query = '''SELECT re.date, r.registration_date, count(distinct(re.user_id)) as users_count_with_revenue, sum(re.revenue) as revenue\n",
    "    FROM case9.user_revenue re\n",
    "    LEFT JOIN case9.registration r ON r.user_id = re.user_id\n",
    "    WHERE r.registration_date >= '2019-05-01' and r.registration_date < '2019-07-01'\n",
    "    GROUP BY 1,2\n",
    "    '''.format()\n",
    "    conn = psycopg2.connect(\"dbname='skillfactory' user='skillfactory' host='84.201.134.129' password='cCkxxLVrDE8EbvjueeMedPKt' port=5432\")\n",
    "    dict_cur = conn.cursor(cursor_factory=psycopg2.extras.DictCursor)\n",
    "    dict_cur.execute(query)\n",
    "    rows = dict_cur.fetchall()\n",
    "    data = []\n",
    "    for row in rows:\n",
    "        data.append(dict(row))\n",
    "    return data\n",
    "\n",
    "revenue = pd.DataFrame(getRevenue())\n",
    "for col in ['date','registration_date']:\n",
    "    revenue[col] = pd.to_datetime(revenue[col])\n",
    "revenue = revenue.rename(columns={'date':'activity_date'})"
   ]
  },
  {
   "cell_type": "code",
   "execution_count": 42,
   "metadata": {},
   "outputs": [],
   "source": [
    "# Объединяем две таблицы\n",
    "\n",
    "retention_table_with_revenue = retention_table.merge(revenue,on=['registration_date','activity_date'],how='left')\n",
    "for col in ['revenue','users_count_with_revenue']:\n",
    "    retention_table_with_revenue[col] = retention_table_with_revenue[col].fillna(0)\n",
    "retention_table_with_revenue['users_count_with_revenue'] = retention_table_with_revenue['users_count_with_revenue'].astype(int)"
   ]
  },
  {
   "cell_type": "code",
   "execution_count": 43,
   "metadata": {},
   "outputs": [
    {
     "name": "stdout",
     "output_type": "stream",
     "text": [
      "12.933000957960866\n"
     ]
    }
   ],
   "source": [
    "# Рассчитаем Retention Rate седьмого дня за май 2019\n",
    "\n",
    "retention_may = retention_table_with_revenue[retention_table_with_revenue['registration_date']>=\"2019-05-01\"]\n",
    "retention_may = retention_may[retention_may['registration_date']<\"2019-06-01\"]\n",
    "retention_may_7 = retention_may[retention_may['lifetime']==7]\n",
    "\n",
    "# Рассчитываем Retention Rate за май 2019\n",
    "\n",
    "print(((retention_may_7['active_users_count'].sum())*100 / retention_may_7['registered_users_count'].sum()))"
   ]
  },
  {
   "cell_type": "code",
   "execution_count": 44,
   "metadata": {},
   "outputs": [
    {
     "name": "stdout",
     "output_type": "stream",
     "text": [
      "12.560867530346634\n"
     ]
    }
   ],
   "source": [
    "# Рассчитаем Retention Rate седьмого дня за июнь 2019\n",
    "\n",
    "retention_june = retention_table_with_revenue[retention_table_with_revenue['registration_date']>=\"2019-06-01\"]\n",
    "retention_june = retention_june[retention_june['registration_date']<\"2019-07-01\"]\n",
    "retention_june_7 = retention_june[retention_june['lifetime']==7]\n",
    "\n",
    "# Рассчитываем Retention Rate за июнь 2019\n",
    "\n",
    "print(((retention_june_7['active_users_count'].sum())*100 / retention_june_7['registered_users_count'].sum()))"
   ]
  },
  {
   "cell_type": "code",
   "execution_count": 45,
   "metadata": {},
   "outputs": [
    {
     "name": "stdout",
     "output_type": "stream",
     "text": [
      "0.30612459519478075\n"
     ]
    }
   ],
   "source": [
    "# Рассчитаем ARPPU за май 2019\n",
    "\n",
    "print(retention_may['revenue'].sum() /retention_may['users_count_with_revenue'].sum())"
   ]
  },
  {
   "cell_type": "code",
   "execution_count": 46,
   "metadata": {},
   "outputs": [
    {
     "name": "stdout",
     "output_type": "stream",
     "text": [
      "0.3931939549251713\n"
     ]
    }
   ],
   "source": [
    "# Рассчитаем ARPPU за июнь 2019\n",
    "\n",
    "print(retention_june['revenue'].sum() /retention_june['users_count_with_revenue'].sum())"
   ]
  },
  {
   "cell_type": "markdown",
   "metadata": {},
   "source": [
    "Выводы:\n",
    "* Был рассчитан коэффициент удержания пользователя Retention Rate за седьмой день. За май 2019 составляет 12,93%, а за июнь - 12,56%. \n",
    "* Была рассчитана средняя выручка от активного пользователя ARPPU. В мае 2019 она составила - 0.31, в июне - 0.39. \n",
    "\n",
    "Показатели после внедрения фичи не уменьшились, поэтому можно считать фичу эффективной. \n",
    "Но чтобы более точно сказать, что влияет на повышение ARPPU, необходимо провести дополнительный анализ."
   ]
  }
 ],
 "metadata": {
  "interpreter": {
   "hash": "aecd030d4c8316a52bf122072e28f84bcc79844c2684e041fef2e3f1d9f59078"
  },
  "kernelspec": {
   "display_name": "Python 3.10.0 64-bit",
   "language": "python",
   "name": "python3"
  },
  "language_info": {
   "codemirror_mode": {
    "name": "ipython",
    "version": 3
   },
   "file_extension": ".py",
   "mimetype": "text/x-python",
   "name": "python",
   "nbconvert_exporter": "python",
   "pygments_lexer": "ipython3",
   "version": "3.10.0"
  },
  "orig_nbformat": 4
 },
 "nbformat": 4,
 "nbformat_minor": 2
}
