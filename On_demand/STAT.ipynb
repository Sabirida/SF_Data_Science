{
 "cells": [
  {
   "cell_type": "code",
   "execution_count": 8,
   "metadata": {},
   "outputs": [],
   "source": [
    "from scipy.stats import norm\n",
    "from scipy.stats import t"
   ]
  },
  {
   "cell_type": "markdown",
   "metadata": {},
   "source": [
    "Найти вероятность непрерывной случайной величины вы можете, обратившись к функции norm.cdf(z). \n"
   ]
  },
  {
   "cell_type": "code",
   "execution_count": 3,
   "metadata": {},
   "outputs": [
    {
     "data": {
      "text/plain": [
       "0.8413447460685429"
      ]
     },
     "execution_count": 3,
     "metadata": {},
     "output_type": "execute_result"
    }
   ],
   "source": [
    "norm.cdf(1)"
   ]
  },
  {
   "cell_type": "code",
   "execution_count": 4,
   "metadata": {},
   "outputs": [
    {
     "data": {
      "text/plain": [
       "1.2815515655446004"
      ]
     },
     "execution_count": 4,
     "metadata": {},
     "output_type": "execute_result"
    }
   ],
   "source": [
    "norm.ppf(0.9)"
   ]
  },
  {
   "cell_type": "code",
   "execution_count": 5,
   "metadata": {},
   "outputs": [
    {
     "name": "stdout",
     "output_type": "stream",
     "text": [
      "0.03\n"
     ]
    }
   ],
   "source": [
    "print(round(norm.cdf(-1.87),2))"
   ]
  },
  {
   "cell_type": "markdown",
   "metadata": {},
   "source": [
    "Как находить вероятности и значения для любой нормальной величины?\n",
    "\n",
    "Таким же образом при помощи Python можно находить вероятности и значения для любой нормальной величины, а не только z, если известны ее параметры: среднее и стандартное отклонение.\n",
    "\n",
    "Для этого есть функции norm.cdf(x, loc = 0, scale = 1) и norm.ppf(q, loc = 0, scale = 1).\n",
    "\n",
    "Присмотримся к ним чуть внимательнее.\n",
    "\n",
    "norm.cdf(x, loc = 0, scale = 1)\n",
    "\n",
    "где\n",
    "\n",
    "x — значение, для которого строится распределение;\n",
    "loc — среднее арифметическое распределения;\n",
    "scale — стандартное отклонение распределения.\n",
    "norm.cdf(x, loc = 0, scale = 1) возвращает нормальную функцию распределения для указанного среднего и стандартного отклонения.\n",
    "\n",
    "norm.ppf(q, loc = 0, scale = 1)\n",
    "\n",
    "где\n",
    "\n",
    "q — вероятность, соответствующая нормальному распределению;\n",
    "loc — среднее арифметическое распределения;\n",
    "scale — стандартное отклонение распределения.\n",
    "norm.ppf(q, loc = 0, scale = 1) возвращает обратное нормальное распределение для указанного среднего и стандартного отклонения."
   ]
  },
  {
   "cell_type": "code",
   "execution_count": 10,
   "metadata": {},
   "outputs": [
    {
     "data": {
      "text/plain": [
       "0.6914624612740131"
      ]
     },
     "execution_count": 10,
     "metadata": {},
     "output_type": "execute_result"
    }
   ],
   "source": [
    "# norm.cdf(x, loc = 0, scale = 1)\n",
    "norm.cdf(5, 4, 2)"
   ]
  },
  {
   "cell_type": "code",
   "execution_count": 11,
   "metadata": {},
   "outputs": [
    {
     "data": {
      "text/plain": [
       "5.348979500392163"
      ]
     },
     "execution_count": 11,
     "metadata": {},
     "output_type": "execute_result"
    }
   ],
   "source": [
    "# norm.ppf(q, loc = 0, scale = 1)\n",
    "norm.ppf(0.75, 4, 2)"
   ]
  },
  {
   "cell_type": "code",
   "execution_count": 17,
   "metadata": {},
   "outputs": [
    {
     "data": {
      "text/plain": [
       "2.3263478740408408"
      ]
     },
     "execution_count": 17,
     "metadata": {},
     "output_type": "execute_result"
    }
   ],
   "source": [
    "norm.ppf(0.99)"
   ]
  },
  {
   "cell_type": "code",
   "execution_count": 22,
   "metadata": {},
   "outputs": [
    {
     "data": {
      "text/plain": [
       "0.1734811231144066"
      ]
     },
     "execution_count": 22,
     "metadata": {},
     "output_type": "execute_result"
    }
   ],
   "source": [
    "norm.ppf(0.16, 0.2, ((0.16/225) ** (1/2)))"
   ]
  },
  {
   "cell_type": "code",
   "execution_count": 23,
   "metadata": {},
   "outputs": [
    {
     "data": {
      "text/plain": [
       "4.441714715457811e-186"
      ]
     },
     "execution_count": 23,
     "metadata": {},
     "output_type": "execute_result"
    }
   ],
   "source": [
    "norm.cdf(5, 70, (5/(5 ** (1/2))))"
   ]
  },
  {
   "cell_type": "code",
   "execution_count": 25,
   "metadata": {},
   "outputs": [
    {
     "data": {
      "text/plain": [
       "0.5987063256829237"
      ]
     },
     "execution_count": 25,
     "metadata": {},
     "output_type": "execute_result"
    }
   ],
   "source": [
    "norm.cdf(730, 700, 120)"
   ]
  },
  {
   "cell_type": "markdown",
   "metadata": {},
   "source": [
    "УСЛОВИЯ ЗАДАЧИ №1\n",
    "\n",
    "Управляющий супермаркета хочет оценить, сколько денег покупатели тратят за один поход в супермаркет в среднем. На основании ранее собранных данных известно, что расходы одного покупателя распределены приблизительно нормально. Управляющий взял случайную выборку из 15 покупателей и выяснил, что их средние расходы равны  рублей, а выборочное стандартное отклонение равно  рублей.\n",
    "Давайте поможем управляющему, решив несколько задачек с помощью Python.\n",
    "Напомним, что выражение в формуле доверительного интервала, указанное после знака ±, называется пределом погрешности. Предел погрешности можно также найти с помощью Python.\n",
    "\n",
    "Для случая с известным значением σ предел погрешности и его интервалы\n",
    "можно найти, используя функцию confidence_interval_norm():\n",
    "\n",
    "Для случая с неизвестным  предел погрешности находится через confidence_interval_t().\n",
    "\n",
    "В обоих случаях:\n",
    "\n",
    "первый аргумент функции — уровень значимости ;\n",
    "второй — выборочное отклонение  или  ;\n",
    "третий — размер выборки ;"
   ]
  },
  {
   "cell_type": "code",
   "execution_count": null,
   "metadata": {},
   "outputs": [],
   "source": [
    "from scipy.stats import norm\n",
    "import math\n",
    "\n",
    "def confidence_interval_norm(alpha, sigma, n, mean):\n",
    "    value = -norm.ppf(alpha / 2) * sigma / math.sqrt(n)\n",
    "    return mean - value, mean + value"
   ]
  },
  {
   "cell_type": "code",
   "execution_count": null,
   "metadata": {},
   "outputs": [],
   "source": [
    "from scipy.stats import t\n",
    "import math\n",
    "\n",
    "def confidence_interval_t(alpha, s, n, mean):\n",
    "    value = -t.ppf(alpha / 2, n - 1) * s / math.sqrt(n)\n",
    "    return mean - value, mean + value"
   ]
  },
  {
   "cell_type": "code",
   "execution_count": 6,
   "metadata": {},
   "outputs": [
    {
     "name": "stdout",
     "output_type": "stream",
     "text": [
      "(1778.4873833741433, 2221.5126166258565)\n"
     ]
    }
   ],
   "source": [
    "from scipy.stats import t\n",
    "import math\n",
    "\n",
    "def confidence_interval_t(alpha, s, n, mean):\n",
    "    value = -t.ppf(alpha / 2, n - 1) * s / math.sqrt(n)\n",
    "    return mean - value, mean + value\n",
    "\n",
    "print(confidence_interval_t(0.05, 400, 15, 2000))"
   ]
  },
  {
   "cell_type": "markdown",
   "metadata": {},
   "source": [
    "УСЛОВИЯ ЗАДАЧИ №2\n",
    "\n",
    "Чиновника интересует сумма подоходного налога, выплачиваемого домохозяйствами за год. На случайной выборке из 250 домохозяйств был посчитан средний размер выплаченного налога, и он составил $3540. Также на основании ранее предоставленных данных из налоговой инспекции известно истинное стандартное отклонение величины подоходного налога, равное $1150.\n",
    "Необходимо найти 99% доверительный интервал для истинного среднего значения налоговых выплат за год."
   ]
  },
  {
   "cell_type": "code",
   "execution_count": 7,
   "metadata": {},
   "outputs": [
    {
     "name": "stdout",
     "output_type": "stream",
     "text": [
      "(3352.6537883505453, 3727.3462116494547)\n"
     ]
    }
   ],
   "source": [
    "from scipy.stats import norm\n",
    "import math\n",
    "\n",
    "def confidence_interval_norm(alpha, sigma, n, mean):\n",
    "    value = -norm.ppf(alpha / 2) * sigma / math.sqrt(n)\n",
    "    return mean - value, mean + value\n",
    "\n",
    "print(confidence_interval_norm(0.01, 1150, 250, 3540))"
   ]
  },
  {
   "cell_type": "markdown",
   "metadata": {},
   "source": [
    "УСЛОВИЯ ЗАДАЧИ №3\n",
    "Ниже представлена случайная выборка значений величины , распределенной нормально. \n",
    "\n",
    "1.2\t0.2\t1.6\t1.9\t-0.4\t0.5\t1.4\t1.7\t2.5\t1.3\n",
    "Необходимо построить доверительный интервал для истинного среднего значения .\n",
    "\n",
    "Вычислите необходимые выборочные статистики и найдите 95% доверительный интервал для . Укажите нижнюю и верхнюю границу интервала с округлением до двух знаков после разделительной точки."
   ]
  },
  {
   "cell_type": "code",
   "execution_count": 11,
   "metadata": {},
   "outputs": [
    {
     "name": "stdout",
     "output_type": "stream",
     "text": [
      "(0    0.573288\n",
      "dtype: float64, 0    1.806712\n",
      "dtype: float64)\n"
     ]
    }
   ],
   "source": [
    "import pandas as pd\n",
    "from scipy.stats import t\n",
    "import math\n",
    "\n",
    "X = [1.2, 0.2, 1.6, 1.9, -0.4, 0.5, 1.4, 1.7, 2.5, 1.3]\n",
    "\n",
    "df_X = pd.DataFrame(X)\n",
    "mu = df_X.mean()\n",
    "sigma = df_X.std()\n",
    "\n",
    "def confidence_interval_t(alpha, s, n, mean):\n",
    "    value = -t.ppf(alpha / 2, n - 1) * s / math.sqrt(n)\n",
    "    return mean - value, mean + value\n",
    "\n",
    "print(confidence_interval_t(0.05, sigma, 10, mu))"
   ]
  },
  {
   "cell_type": "markdown",
   "metadata": {},
   "source": [
    "Находим z-критическое и t-критическое\n",
    "\n",
    "Найти значение любого -критического можно самостоятельно в Python, используя функцию norm.ppf(). Импортируем необходимую для этого библиотеку: "
   ]
  },
  {
   "cell_type": "code",
   "execution_count": 12,
   "metadata": {},
   "outputs": [],
   "source": [
    "from scipy.stats import norm "
   ]
  },
  {
   "cell_type": "markdown",
   "metadata": {},
   "source": [
    "Самый простой способ — найти и получить ответ как = -norm.ppf(α/2).\n",
    "\n",
    "Например, если уровень доверия  равен 97 %, значит . Тогда мы найдём  как = -norm.ppf(0.015), то есть ."
   ]
  },
  {
   "cell_type": "code",
   "execution_count": 13,
   "metadata": {},
   "outputs": [
    {
     "name": "stdout",
     "output_type": "stream",
     "text": [
      "2.1700903775845606\n"
     ]
    }
   ],
   "source": [
    "alpha = 0.03\n",
    "value = -norm.ppf(alpha/2)\n",
    "print(value)"
   ]
  },
  {
   "cell_type": "markdown",
   "metadata": {},
   "source": [
    "Функция norm.ppf(x) возвращает значение \n",
    "к\n",
    "р\n",
    "и\n",
    "т\n",
    ", левее (ниже) которого лежит доля  левого хвоста стандартного нормального распределения. Выражение norm.ppf(α/2) вернёт , то есть значение \n",
    "к\n",
    "р\n",
    "и\n",
    "т\n",
    ", ниже которого  всех значений стандартного нормального распределения. Это число отрицательное, мы берём его со знаком минус, чтобы получить .\n",
    "\n",
    "Также можно находить значения t-критического  при помощи функции t.ppf((1 + p)/2, k). Первый аргумент — уровень доверия , а второй — количество степеней свободы , рассчитываемое как .\n",
    "\n",
    "Например, если нужно построить 95% доверительный интервал для среднего с использованием выборки размером в  наблюдений, когда  неизвестна, то  можно найти через:"
   ]
  },
  {
   "cell_type": "code",
   "execution_count": 14,
   "metadata": {},
   "outputs": [
    {
     "name": "stdout",
     "output_type": "stream",
     "text": [
      "-1.9842169515086827\n"
     ]
    }
   ],
   "source": [
    "# 0.95 - доверительный интервал, 100-1 число степеней свободы\n",
    "# для двустороннего t-теста\n",
    "value = t.ppf((1 - 0.95)/2, 100-1)\n",
    "print(value)"
   ]
  },
  {
   "cell_type": "code",
   "execution_count": 15,
   "metadata": {},
   "outputs": [
    {
     "name": "stdout",
     "output_type": "stream",
     "text": [
      "1.8119106729525978\n"
     ]
    }
   ],
   "source": [
    "# Найдите z-критическое для интервала с уровнем доверия 93 %. Укажите с точностью до двух знаков после разделительной точки.\n",
    "\n",
    "alpha = 0.07\n",
    "value = -norm.ppf(alpha/2)\n",
    "print(value)"
   ]
  },
  {
   "cell_type": "code",
   "execution_count": 16,
   "metadata": {},
   "outputs": [
    {
     "name": "stdout",
     "output_type": "stream",
     "text": [
      "2.575829303548901\n"
     ]
    }
   ],
   "source": [
    "# 1. Доверительный интервал для среднего  нормально распределённой величины , на выборке размером 10, если σ известна, на 99 % уровне доверия\n",
    "\n",
    "alpha = 0.01\n",
    "value = -norm.ppf(alpha/2)\n",
    "print(value)"
   ]
  },
  {
   "cell_type": "code",
   "execution_count": 21,
   "metadata": {},
   "outputs": [
    {
     "name": "stdout",
     "output_type": "stream",
     "text": [
      "-3.2498355440153697\n"
     ]
    }
   ],
   "source": [
    "# 2. Доверительный интервал для среднего  нормально распределённой величины , на выборке размером 10, если σ  неизвестна, на 99% уровне доверия\n",
    "\n",
    "value = t.ppf(0.01/2, 10-1)\n",
    "print(value)"
   ]
  },
  {
   "cell_type": "code",
   "execution_count": 20,
   "metadata": {},
   "outputs": [
    {
     "name": "stdout",
     "output_type": "stream",
     "text": [
      "-1.9842169515086832\n"
     ]
    }
   ],
   "source": [
    "# 3. Доверительный интервал для среднего , на выборке размером 100, σ  неизвестна, на 95% уровне доверия\n",
    "\n",
    "value = t.ppf(0.05/2, 100-1)\n",
    "print(value)"
   ]
  },
  {
   "cell_type": "code",
   "execution_count": 22,
   "metadata": {},
   "outputs": [
    {
     "name": "stdout",
     "output_type": "stream",
     "text": [
      "1.9599639845400545\n"
     ]
    }
   ],
   "source": [
    "# 4. Доверительный интервал для пропорции , на выборке размером 100, на 95% уровне доверия\n",
    "\n",
    "alpha = 0.05\n",
    "value = -norm.ppf(alpha/2)\n",
    "print(value)"
   ]
  },
  {
   "cell_type": "markdown",
   "metadata": {},
   "source": [
    "#### Практика. Альтернативная и нулевая гипотезы\n",
    "\n",
    "Для расчёта p-value используйте формулу norm.cdf().\n",
    "\n",
    "Напомним, что эта функция находит площадь «левого хвоста» на графике плотности стандартного нормального распределения  — площадь под кривой налево от заданной точки ."
   ]
  },
  {
   "cell_type": "markdown",
   "metadata": {},
   "source": [
    "Задача 1. «И всё о том же с утра щебечет канарейка...»\n",
    "\n",
    "Производитель аккумуляторных батарей заявляет, что средний срок службы батарейки АА составляет 14 месяцев. Вы подозреваете, что на самом деле это число преувеличено.\n",
    "\n",
    "Чтобы проверить утверждение производителя, вы взяли случайную выборку из 64 батареек и посчитали выборочное среднее — 13.5 месяцев. Известно, что срок службы батарейки имеет стандартное отклонение два месяца. Для тестирования гипотезы используйте уровень значимости ."
   ]
  },
  {
   "cell_type": "code",
   "execution_count": 10,
   "metadata": {},
   "outputs": [
    {
     "data": {
      "text/plain": [
       "0.12776914283137897"
      ]
     },
     "execution_count": 10,
     "metadata": {},
     "output_type": "execute_result"
    }
   ],
   "source": [
    "norm.cdf(-1.137)"
   ]
  },
  {
   "cell_type": "code",
   "execution_count": 9,
   "metadata": {},
   "outputs": [
    {
     "data": {
      "text/plain": [
       "0.037049629068190204"
      ]
     },
     "execution_count": 9,
     "metadata": {},
     "output_type": "execute_result"
    }
   ],
   "source": [
    "1 - norm.cdf(1.786)"
   ]
  },
  {
   "cell_type": "markdown",
   "metadata": {},
   "source": [
    "Чтобы найти p-value для t-статистики, применяйте одну из функций:\n",
    "\n",
    "t.cdf() — если в альтернативной гипотезе стоит знак меньше.\n",
    "\n",
    "Эта функция находит площадь под «левым хвостом» на графике плотности распределения Стьюдента — площадь под кривой слева от заданной точки.\n",
    "\n",
    "1 - t.cdf(), если в альтернативной гипотезе стоит знак больше.\n",
    "\n",
    "Эта функция находит площадь под «правым хвостом» на графике плотности распределения Стьюдента — площадь под кривой справа от заданной точки.\n",
    "\n",
    "Вместо этой функции можно использовать метод t.sf() = 1 - t.cdf().\n",
    "\n",
    "(1 - t.cdf()) * 2 — если в альтернативной гипотезе стоит знак неравно.\n",
    "\n",
    "Эта функция считает площадь под «правым хвостом». Первый аргумент следует взять по модулю 2*(1 -t.cdf(abs(x), df).\n",
    "\n",
    "Функция scipy.stats.t.cdf() имеет два обязательных позиционных аргумента: x и df. Количество степеней свободы df — находим как ."
   ]
  },
  {
   "cell_type": "code",
   "execution_count": 16,
   "metadata": {},
   "outputs": [
    {
     "data": {
      "text/plain": [
       "0.07730217776927316"
      ]
     },
     "execution_count": 16,
     "metadata": {},
     "output_type": "execute_result"
    }
   ],
   "source": [
    "import pandas as pd\n",
    "from scipy.stats import t\n",
    "import math\n",
    "\n",
    "X = [6.1, 9.2, 11.5, 8.6, 12.1, 3.9, 8.4, 10.1, 9.4, 8.9]\n",
    "\n",
    "df_X = pd.DataFrame(X)\n",
    "mu = df_X.mean()\n",
    "sigma = df_X.std()\n",
    "\n",
    "t.cdf(-1.554, 9)"
   ]
  },
  {
   "cell_type": "code",
   "execution_count": 14,
   "metadata": {},
   "outputs": [
    {
     "ename": "TypeError",
     "evalue": "_parse_args() missing 1 required positional argument: 'df'",
     "output_type": "error",
     "traceback": [
      "\u001b[1;31m---------------------------------------------------------------------------\u001b[0m",
      "\u001b[1;31mTypeError\u001b[0m                                 Traceback (most recent call last)",
      "\u001b[1;32m~\\AppData\\Local\\Temp/ipykernel_8400/732365780.py\u001b[0m in \u001b[0;36m<module>\u001b[1;34m\u001b[0m\n\u001b[1;32m----> 1\u001b[1;33m \u001b[0mt\u001b[0m\u001b[1;33m.\u001b[0m\u001b[0mcdf\u001b[0m\u001b[1;33m(\u001b[0m\u001b[1;33m-\u001b[0m\u001b[1;36m1.554\u001b[0m\u001b[1;33m)\u001b[0m\u001b[1;33m\u001b[0m\u001b[1;33m\u001b[0m\u001b[0m\n\u001b[0m",
      "\u001b[1;32m~\\AppData\\Local\\Programs\\Python\\Python310\\lib\\site-packages\\scipy\\stats\\_distn_infrastructure.py\u001b[0m in \u001b[0;36mcdf\u001b[1;34m(self, x, *args, **kwds)\u001b[0m\n\u001b[0;32m   1946\u001b[0m \u001b[1;33m\u001b[0m\u001b[0m\n\u001b[0;32m   1947\u001b[0m         \"\"\"\n\u001b[1;32m-> 1948\u001b[1;33m         \u001b[0margs\u001b[0m\u001b[1;33m,\u001b[0m \u001b[0mloc\u001b[0m\u001b[1;33m,\u001b[0m \u001b[0mscale\u001b[0m \u001b[1;33m=\u001b[0m \u001b[0mself\u001b[0m\u001b[1;33m.\u001b[0m\u001b[0m_parse_args\u001b[0m\u001b[1;33m(\u001b[0m\u001b[1;33m*\u001b[0m\u001b[0margs\u001b[0m\u001b[1;33m,\u001b[0m \u001b[1;33m**\u001b[0m\u001b[0mkwds\u001b[0m\u001b[1;33m)\u001b[0m\u001b[1;33m\u001b[0m\u001b[1;33m\u001b[0m\u001b[0m\n\u001b[0m\u001b[0;32m   1949\u001b[0m         \u001b[0mx\u001b[0m\u001b[1;33m,\u001b[0m \u001b[0mloc\u001b[0m\u001b[1;33m,\u001b[0m \u001b[0mscale\u001b[0m \u001b[1;33m=\u001b[0m \u001b[0mmap\u001b[0m\u001b[1;33m(\u001b[0m\u001b[0masarray\u001b[0m\u001b[1;33m,\u001b[0m \u001b[1;33m(\u001b[0m\u001b[0mx\u001b[0m\u001b[1;33m,\u001b[0m \u001b[0mloc\u001b[0m\u001b[1;33m,\u001b[0m \u001b[0mscale\u001b[0m\u001b[1;33m)\u001b[0m\u001b[1;33m)\u001b[0m\u001b[1;33m\u001b[0m\u001b[1;33m\u001b[0m\u001b[0m\n\u001b[0;32m   1950\u001b[0m         \u001b[0margs\u001b[0m \u001b[1;33m=\u001b[0m \u001b[0mtuple\u001b[0m\u001b[1;33m(\u001b[0m\u001b[0mmap\u001b[0m\u001b[1;33m(\u001b[0m\u001b[0masarray\u001b[0m\u001b[1;33m,\u001b[0m \u001b[0margs\u001b[0m\u001b[1;33m)\u001b[0m\u001b[1;33m)\u001b[0m\u001b[1;33m\u001b[0m\u001b[1;33m\u001b[0m\u001b[0m\n",
      "\u001b[1;31mTypeError\u001b[0m: _parse_args() missing 1 required positional argument: 'df'"
     ]
    }
   ],
   "source": [
    "t.cdf(-1.554)"
   ]
  },
  {
   "cell_type": "code",
   "execution_count": null,
   "metadata": {},
   "outputs": [],
   "source": []
  },
  {
   "cell_type": "code",
   "execution_count": null,
   "metadata": {},
   "outputs": [],
   "source": []
  }
 ],
 "metadata": {
  "interpreter": {
   "hash": "aecd030d4c8316a52bf122072e28f84bcc79844c2684e041fef2e3f1d9f59078"
  },
  "kernelspec": {
   "display_name": "Python 3.10.0 64-bit",
   "language": "python",
   "name": "python3"
  },
  "language_info": {
   "codemirror_mode": {
    "name": "ipython",
    "version": 3
   },
   "file_extension": ".py",
   "mimetype": "text/x-python",
   "name": "python",
   "nbconvert_exporter": "python",
   "pygments_lexer": "ipython3",
   "version": "3.10.0"
  },
  "orig_nbformat": 4
 },
 "nbformat": 4,
 "nbformat_minor": 2
}
