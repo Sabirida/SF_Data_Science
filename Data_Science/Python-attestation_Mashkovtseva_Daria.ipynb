{
 "cells": [
  {
   "cell_type": "markdown",
   "id": "25bb6bc5-fbd2-400a-9e01-cba18415fe9d",
   "metadata": {},
   "source": [
    "## <center> Аттестация. Практическое задание в Jupyter"
   ]
  },
  {
   "cell_type": "markdown",
   "id": "74c91391-dc17-4d6a-bbf8-489617260e61",
   "metadata": {},
   "source": [
    "В данном блоке вам предстоит решить задачу, которую автор когда-то решал на одном из своих собеседований.\n",
    "Вам предоставлена таблица с данными (скачать файл можно на платформе) о ежедневной выработке энергии солнечными батареями. Информация в ней содержится в двух столбцах: \n",
    "* date - дата наблюдения\n",
    "* cum_power - накопленная (кумулятивная) выработка энергии на указанный день\n",
    "\n",
    "То есть перед вами классический пример временного ряда: числовой показатель, зависящий от времени. Давайте с ним поработаем.\n"
   ]
  },
  {
   "cell_type": "code",
   "execution_count": 158,
   "id": "b3bad4ea-f1e8-47a4-a8f9-7c7ec263e5cb",
   "metadata": {},
   "outputs": [],
   "source": [
    "import pandas as pd\n",
    "import numpy as np\n",
    "\n",
    "df = pd.read_csv('data\\solarpower.csv', sep=',')\n",
    "df['date'] = pd.to_datetime(df['date'])\n",
    "df = df.astype({'cum_power': 'Int64'})"
   ]
  },
  {
   "cell_type": "markdown",
   "id": "d4014255-56cb-4ca8-9ebc-34003a9177d1",
   "metadata": {},
   "source": [
    "1. В нашем временном ряде есть несколько пропусков, они обозначены числом -1. Заполните пропуски средним арифметическим между двумя соседними наблюдениями: </p>\n",
    "    $$x^*_i  = \\frac{x_{i-1} + x_{i+1}}{2}$$ \n",
    "    \n",
    "Совет: проще всего будет сделать это, используя цикл по индексам элементов столбца cum_power, но вы можете предложить более изящное решение.\n"
   ]
  },
  {
   "cell_type": "code",
   "execution_count": 159,
   "id": "a79a000e",
   "metadata": {},
   "outputs": [],
   "source": [
    "for i in df.index:\n",
    "    if df['cum_power'][i] == -1:\n",
    "        df['cum_power'][i]=(df['cum_power'][i-1]+df['cum_power'][i+1])/2"
   ]
  },
  {
   "cell_type": "markdown",
   "id": "2fe6fd75-0332-4b3d-a89c-d96f42617c6e",
   "metadata": {},
   "source": [
    "2. Теперь, когда таблица заполнена, создайте столбец day_power - ежедневный прирост выработки солнечной энергии.\n",
    "\n",
    "    После чего создайте данные о ежемесячной выработке энергии на каждый год. \n",
    "    \n",
    "Совет: для того, чтобы выделить из даты год и месяц проще всего воспользоваться методом аксессора dt.to_period('M'), который позволяет выделять периоды, в данном случае 'М' - месяц."
   ]
  },
  {
   "cell_type": "code",
   "execution_count": 163,
   "id": "537351c6-6973-42a7-96a3-7479215da95a",
   "metadata": {},
   "outputs": [
    {
     "data": {
      "text/html": [
       "<div>\n",
       "<style scoped>\n",
       "    .dataframe tbody tr th:only-of-type {\n",
       "        vertical-align: middle;\n",
       "    }\n",
       "\n",
       "    .dataframe tbody tr th {\n",
       "        vertical-align: top;\n",
       "    }\n",
       "\n",
       "    .dataframe thead th {\n",
       "        text-align: right;\n",
       "    }\n",
       "</style>\n",
       "<table border=\"1\" class=\"dataframe\">\n",
       "  <thead>\n",
       "    <tr style=\"text-align: right;\">\n",
       "      <th></th>\n",
       "      <th>period_date</th>\n",
       "      <th>cum_power</th>\n",
       "      <th>day_power</th>\n",
       "    </tr>\n",
       "  </thead>\n",
       "  <tbody>\n",
       "    <tr>\n",
       "      <th>0</th>\n",
       "      <td>2017-01</td>\n",
       "      <td>624746</td>\n",
       "      <td>97</td>\n",
       "    </tr>\n",
       "    <tr>\n",
       "      <th>1</th>\n",
       "      <td>2017-02</td>\n",
       "      <td>567197</td>\n",
       "      <td>104</td>\n",
       "    </tr>\n",
       "    <tr>\n",
       "      <th>2</th>\n",
       "      <td>2017-03</td>\n",
       "      <td>633782</td>\n",
       "      <td>334</td>\n",
       "    </tr>\n",
       "    <tr>\n",
       "      <th>3</th>\n",
       "      <td>2017-04</td>\n",
       "      <td>626551</td>\n",
       "      <td>489</td>\n",
       "    </tr>\n",
       "    <tr>\n",
       "      <th>4</th>\n",
       "      <td>2017-05</td>\n",
       "      <td>663651</td>\n",
       "      <td>589</td>\n",
       "    </tr>\n",
       "  </tbody>\n",
       "</table>\n",
       "</div>"
      ],
      "text/plain": [
       "  period_date  cum_power  day_power\n",
       "0     2017-01     624746         97\n",
       "1     2017-02     567197        104\n",
       "2     2017-03     633782        334\n",
       "3     2017-04     626551        489\n",
       "4     2017-05     663651        589"
      ]
     },
     "execution_count": 163,
     "metadata": {},
     "output_type": "execute_result"
    }
   ],
   "source": [
    "df_diff = df.diff()\n",
    "df['day_power'] = df_diff['cum_power']\n",
    "\n",
    "df['period_date'] = df['date'].dt.to_period('M')\n",
    "\n",
    "df_month = df.groupby('period_date', as_index=False).sum()\n",
    "df_month.head()"
   ]
  },
  {
   "cell_type": "markdown",
   "id": "1651a4e4-42d5-4dd2-94a2-2ae78030cbb7",
   "metadata": {},
   "source": [
    "3. Постройте график временного ряда - ежемесячной выработки солнечной энергии. Не забудьте подписать оси и сам график.\n",
    "Укажите в какие сезоны наблюдается подъем, а в какие спад?"
   ]
  },
  {
   "cell_type": "code",
   "execution_count": null,
   "id": "02e3f0ee",
   "metadata": {},
   "outputs": [],
   "source": []
  }
 ],
 "metadata": {
  "kernelspec": {
   "display_name": "Python 3 (ipykernel)",
   "language": "python",
   "name": "python3"
  },
  "language_info": {
   "codemirror_mode": {
    "name": "ipython",
    "version": 3
   },
   "file_extension": ".py",
   "mimetype": "text/x-python",
   "name": "python",
   "nbconvert_exporter": "python",
   "pygments_lexer": "ipython3",
   "version": "3.10.0"
  }
 },
 "nbformat": 4,
 "nbformat_minor": 5
}
