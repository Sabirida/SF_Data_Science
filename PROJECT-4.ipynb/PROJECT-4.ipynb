{
 "cells": [
  {
   "cell_type": "markdown",
   "metadata": {},
   "source": [
    "## PROJECT-4. Решение комплексной бизнес-задачи \n",
    "##### Работу выполнила: Машковцева Дарья"
   ]
  },
  {
   "cell_type": "markdown",
   "metadata": {},
   "source": [
    "##### ЦЕЛЬ\n",
    "Подготовить основу рекомендательной системы.\n",
    "\n",
    "##### ЗАДАЧИ\n",
    "* Подготовить и проанализировать данные с помощью SQL.\n",
    "* Обработать данные средствами Python.\n",
    "* Составить итоговую таблицу с рекомендациями.\n",
    "* Сделать вывод."
   ]
  },
  {
   "cell_type": "markdown",
   "metadata": {},
   "source": [
    "##### 1. SQL-запрос\n",
    "\n",
    "*Подготовим данные по продажам курсов в разрезе пользователей, купивших более одного курса.*\n",
    "\n",
    "*Выгрузим полученные данные в файл формата csv.*"
   ]
  },
  {
   "cell_type": "code",
   "execution_count": 26,
   "metadata": {},
   "outputs": [
    {
     "data": {
      "text/plain": [
       "\"\\nWITH user_count_cart AS\\n(SELECT ca.user_id, COUNT(DISTINCT it.resource_id) AS count_cart\\nFROM final.carts ca\\n    JOIN final.cart_items it ON ca.id=it.cart_id\\nWHERE ca.state = 'successful' AND it.resource_type = 'Course'\\nGROUP BY 1\\nHAVING COUNT(DISTINCT it.resource_id)>1),\\n\\nuser_resource AS\\n(SELECT ca.user_id, it.resource_id\\nFROM final.carts ca\\n    JOIN final.cart_items it ON ca.id=it.cart_id\\nWHERE ca.state = 'successful' AND it.resource_type = 'Course')\\n\\nSELECT user_id, resource_id\\nFROM user_count_cart LEFT JOIN user_resource USING(user_id)\\n\""
      ]
     },
     "execution_count": 26,
     "metadata": {},
     "output_type": "execute_result"
    }
   ],
   "source": [
    "'''\n",
    "WITH user_count_cart AS\n",
    "(SELECT ca.user_id, COUNT(DISTINCT it.resource_id) AS count_cart\n",
    "FROM final.carts ca\n",
    "    JOIN final.cart_items it ON ca.id=it.cart_id\n",
    "WHERE ca.state = 'successful' AND it.resource_type = 'Course'\n",
    "GROUP BY 1\n",
    "HAVING COUNT(DISTINCT it.resource_id)>1),\n",
    "\n",
    "user_resource AS\n",
    "(SELECT ca.user_id, it.resource_id\n",
    "FROM final.carts ca\n",
    "    JOIN final.cart_items it ON ca.id=it.cart_id\n",
    "WHERE ca.state = 'successful' AND it.resource_type = 'Course')\n",
    "\n",
    "SELECT user_id, resource_id\n",
    "FROM user_count_cart LEFT JOIN user_resource USING(user_id)\n",
    "'''"
   ]
  },
  {
   "cell_type": "markdown",
   "metadata": {},
   "source": [
    "##### 2. Обработка данных"
   ]
  },
  {
   "cell_type": "code",
   "execution_count": 27,
   "metadata": {},
   "outputs": [],
   "source": [
    "import pandas as pd\n",
    "import numpy as np\n",
    "\n",
    "user_data = pd.read_csv('data/query_result_2022-02-04T17_24_08.397175Z.csv', sep=',')"
   ]
  },
  {
   "cell_type": "markdown",
   "metadata": {},
   "source": [
    "*Найдем количество уникальных курсов из нашего датафрейма.*"
   ]
  },
  {
   "cell_type": "code",
   "execution_count": 28,
   "metadata": {},
   "outputs": [
    {
     "data": {
      "text/plain": [
       "126"
      ]
     },
     "execution_count": 28,
     "metadata": {},
     "output_type": "execute_result"
    }
   ],
   "source": [
    "unique_course = np.unique(user_data['resource_id']) \n",
    "len(unique_course)"
   ]
  },
  {
   "cell_type": "markdown",
   "metadata": {},
   "source": [
    "*Сгруппируем данные по пользователям.*"
   ]
  },
  {
   "cell_type": "code",
   "execution_count": 29,
   "metadata": {},
   "outputs": [
    {
     "data": {
      "text/html": [
       "<div>\n",
       "<style scoped>\n",
       "    .dataframe tbody tr th:only-of-type {\n",
       "        vertical-align: middle;\n",
       "    }\n",
       "\n",
       "    .dataframe tbody tr th {\n",
       "        vertical-align: top;\n",
       "    }\n",
       "\n",
       "    .dataframe thead th {\n",
       "        text-align: right;\n",
       "    }\n",
       "</style>\n",
       "<table border=\"1\" class=\"dataframe\">\n",
       "  <thead>\n",
       "    <tr style=\"text-align: right;\">\n",
       "      <th></th>\n",
       "      <th>user_id</th>\n",
       "      <th>resource_id</th>\n",
       "    </tr>\n",
       "  </thead>\n",
       "  <tbody>\n",
       "    <tr>\n",
       "      <th>0</th>\n",
       "      <td>51</td>\n",
       "      <td>[516, 1099]</td>\n",
       "    </tr>\n",
       "    <tr>\n",
       "      <th>1</th>\n",
       "      <td>6117</td>\n",
       "      <td>[356, 357, 1125]</td>\n",
       "    </tr>\n",
       "    <tr>\n",
       "      <th>2</th>\n",
       "      <td>10275</td>\n",
       "      <td>[553, 1147]</td>\n",
       "    </tr>\n",
       "    <tr>\n",
       "      <th>3</th>\n",
       "      <td>10457</td>\n",
       "      <td>[361, 1138]</td>\n",
       "    </tr>\n",
       "    <tr>\n",
       "      <th>4</th>\n",
       "      <td>17166</td>\n",
       "      <td>[356, 357]</td>\n",
       "    </tr>\n",
       "  </tbody>\n",
       "</table>\n",
       "</div>"
      ],
      "text/plain": [
       "   user_id       resource_id\n",
       "0       51       [516, 1099]\n",
       "1     6117  [356, 357, 1125]\n",
       "2    10275       [553, 1147]\n",
       "3    10457       [361, 1138]\n",
       "4    17166        [356, 357]"
      ]
     },
     "execution_count": 29,
     "metadata": {},
     "output_type": "execute_result"
    }
   ],
   "source": [
    "group_data = user_data.groupby('user_id')['resource_id'].apply(lambda x: list(np.unique(x))).reset_index()\n",
    "group_data.head()"
   ]
  },
  {
   "cell_type": "markdown",
   "metadata": {},
   "source": [
    "*С помощью модуля itertools разобьём все покупки курсов по парам. Получим список кортежей.*"
   ]
  },
  {
   "cell_type": "code",
   "execution_count": 30,
   "metadata": {},
   "outputs": [],
   "source": [
    "import itertools\n",
    "\n",
    "list_pairs = list()\n",
    "for res in group_data['resource_id']:\n",
    "    for pair in itertools.combinations(res, 2):\n",
    "        list_pairs.append(pair)"
   ]
  },
  {
   "cell_type": "markdown",
   "metadata": {},
   "source": [
    "*Посчитаем для каждой пары количество ее вхождений в список.*\n",
    "\n",
    "*Для этого будет использовтаь класс Counter из модуля collections. В результате получим словарь, где ключами будут являться пары курсов, а значениями - полученное количество вхождений, т.е. популярность пары курсов.* "
   ]
  },
  {
   "cell_type": "code",
   "execution_count": 31,
   "metadata": {},
   "outputs": [],
   "source": [
    "from collections import Counter\n",
    "\n",
    "dist_pairs = Counter(list_pairs)"
   ]
  },
  {
   "cell_type": "markdown",
   "metadata": {},
   "source": [
    "*Преобразуем словарь в датафрейм. Переименуем названия столбцов. Отсортируем по убыванию популярности пары курсов.*"
   ]
  },
  {
   "cell_type": "code",
   "execution_count": 32,
   "metadata": {},
   "outputs": [
    {
     "data": {
      "text/html": [
       "<div>\n",
       "<style scoped>\n",
       "    .dataframe tbody tr th:only-of-type {\n",
       "        vertical-align: middle;\n",
       "    }\n",
       "\n",
       "    .dataframe tbody tr th {\n",
       "        vertical-align: top;\n",
       "    }\n",
       "\n",
       "    .dataframe thead th {\n",
       "        text-align: right;\n",
       "    }\n",
       "</style>\n",
       "<table border=\"1\" class=\"dataframe\">\n",
       "  <thead>\n",
       "    <tr style=\"text-align: right;\">\n",
       "      <th></th>\n",
       "      <th>pair</th>\n",
       "      <th>count</th>\n",
       "    </tr>\n",
       "  </thead>\n",
       "  <tbody>\n",
       "    <tr>\n",
       "      <th>186</th>\n",
       "      <td>(551, 566)</td>\n",
       "      <td>797</td>\n",
       "    </tr>\n",
       "    <tr>\n",
       "      <th>381</th>\n",
       "      <td>(515, 551)</td>\n",
       "      <td>417</td>\n",
       "    </tr>\n",
       "    <tr>\n",
       "      <th>205</th>\n",
       "      <td>(489, 551)</td>\n",
       "      <td>311</td>\n",
       "    </tr>\n",
       "    <tr>\n",
       "      <th>105</th>\n",
       "      <td>(523, 551)</td>\n",
       "      <td>304</td>\n",
       "    </tr>\n",
       "    <tr>\n",
       "      <th>519</th>\n",
       "      <td>(566, 794)</td>\n",
       "      <td>290</td>\n",
       "    </tr>\n",
       "  </tbody>\n",
       "</table>\n",
       "</div>"
      ],
      "text/plain": [
       "           pair  count\n",
       "186  (551, 566)    797\n",
       "381  (515, 551)    417\n",
       "205  (489, 551)    311\n",
       "105  (523, 551)    304\n",
       "519  (566, 794)    290"
      ]
     },
     "execution_count": 32,
     "metadata": {},
     "output_type": "execute_result"
    }
   ],
   "source": [
    "pairs_data = pd.DataFrame.from_dict(dist_pairs, orient='index').reset_index()\n",
    "pairs_data.columns = ['pair', 'count']\n",
    "pairs_data = pairs_data.sort_values(by='count', ascending=False)\n",
    "pairs_data.head()"
   ]
  },
  {
   "cell_type": "markdown",
   "metadata": {},
   "source": [
    "*Для дальнейшей работы разобьем пару на отдельные столбцы. Лишний столбец удалим.*"
   ]
  },
  {
   "cell_type": "code",
   "execution_count": 33,
   "metadata": {},
   "outputs": [
    {
     "data": {
      "text/html": [
       "<div>\n",
       "<style scoped>\n",
       "    .dataframe tbody tr th:only-of-type {\n",
       "        vertical-align: middle;\n",
       "    }\n",
       "\n",
       "    .dataframe tbody tr th {\n",
       "        vertical-align: top;\n",
       "    }\n",
       "\n",
       "    .dataframe thead th {\n",
       "        text-align: right;\n",
       "    }\n",
       "</style>\n",
       "<table border=\"1\" class=\"dataframe\">\n",
       "  <thead>\n",
       "    <tr style=\"text-align: right;\">\n",
       "      <th></th>\n",
       "      <th>count</th>\n",
       "      <th>first</th>\n",
       "      <th>second</th>\n",
       "    </tr>\n",
       "  </thead>\n",
       "  <tbody>\n",
       "    <tr>\n",
       "      <th>186</th>\n",
       "      <td>797</td>\n",
       "      <td>551</td>\n",
       "      <td>566</td>\n",
       "    </tr>\n",
       "    <tr>\n",
       "      <th>381</th>\n",
       "      <td>417</td>\n",
       "      <td>515</td>\n",
       "      <td>551</td>\n",
       "    </tr>\n",
       "    <tr>\n",
       "      <th>205</th>\n",
       "      <td>311</td>\n",
       "      <td>489</td>\n",
       "      <td>551</td>\n",
       "    </tr>\n",
       "    <tr>\n",
       "      <th>105</th>\n",
       "      <td>304</td>\n",
       "      <td>523</td>\n",
       "      <td>551</td>\n",
       "    </tr>\n",
       "    <tr>\n",
       "      <th>519</th>\n",
       "      <td>290</td>\n",
       "      <td>566</td>\n",
       "      <td>794</td>\n",
       "    </tr>\n",
       "  </tbody>\n",
       "</table>\n",
       "</div>"
      ],
      "text/plain": [
       "     count  first  second\n",
       "186    797    551     566\n",
       "381    417    515     551\n",
       "205    311    489     551\n",
       "105    304    523     551\n",
       "519    290    566     794"
      ]
     },
     "execution_count": 33,
     "metadata": {},
     "output_type": "execute_result"
    }
   ],
   "source": [
    "pairs_data['first'] = pairs_data.apply(lambda x: x[0][0], axis=1)\n",
    "pairs_data['second'] = pairs_data.apply(lambda x: x[0][1], axis=1)\n",
    "pairs_data = pairs_data.drop(columns='pair', axis=1)\n",
    "pairs_data.head()"
   ]
  },
  {
   "cell_type": "markdown",
   "metadata": {},
   "source": [
    "##### 3. Построение таблицы с рекомендациями\n",
    "\n",
    "*Установим минимальную границу - какое количество раз считать слишком малым для определения рекомендации.*\n",
    "\n",
    "*Вычислим верхнюю квартиль, которая отделяет 25% наблюдений с наибольшими значениями от остальных 75%.*"
   ]
  },
  {
   "cell_type": "code",
   "execution_count": 54,
   "metadata": {},
   "outputs": [],
   "source": [
    "q_75 = np.percentile(pairs_data['count'], 75)"
   ]
  },
  {
   "cell_type": "markdown",
   "metadata": {},
   "source": [
    "*Напишем функцию-поиск двух самых популярных курсов-рекомендаций для заданного курса.*\n",
    "\n",
    "*На вход функции поступает курс, для которого осуществляется поиск, датафрейм и минимальная граница, для определения рекомендации.*"
   ]
  },
  {
   "cell_type": "code",
   "execution_count": 55,
   "metadata": {},
   "outputs": [],
   "source": [
    "def search_popular_pair(course, df, min_popular):\n",
    "    try:\n",
    "        max_popular = 0 \n",
    "        max_popular_2 = 0 \n",
    "        recommendation = 0 \n",
    "        recommendation_2 = 0 \n",
    "        #проходим по всему датафрейму и определение рекомендации №1 и рекомендации №2 для исходного курса\n",
    "        for i in df.index:\n",
    "            if course == df['first'][i]:\n",
    "                if df['count'][i] > max_popular:\n",
    "                    max_popular_2 = max_popular\n",
    "                    recommendation_2 = recommendation\n",
    "                    max_popular = df['count'][i]\n",
    "                    recommendation = df['second'][i]\n",
    "                elif df['count'][i] > max_popular_2:\n",
    "                    max_popular_2 = df['count'][i]\n",
    "                    recommendation_2 = df['second'][i]\n",
    "                    \n",
    "            elif course == df['second'][i]:\n",
    "                if df['count'][i] > max_popular:\n",
    "                    max_popular_2 = max_popular\n",
    "                    recommendation_2 = recommendation\n",
    "                    max_popular = df['count'][i]\n",
    "                    recommendation = df['first'][i]\n",
    "                elif df['count'][i] > max_popular_2:\n",
    "                    max_popular_2 = df['count'][i]\n",
    "                    recommendation_2 = df['first'][i]\n",
    "        \n",
    "        # если обе рекомендации найдены и удовлетворяют минимальной границе, то возвращаем их            \n",
    "        if max_popular > min_popular and max_popular_2 > min_popular:      \n",
    "            return recommendation, recommendation_2\n",
    "        # если рекомендация №2 не удовлятворяет минимальной границе, то определяем для нее новые рекомендации №2.1 и №2.2\n",
    "        elif max_popular > min_popular and max_popular_2 <= min_popular:\n",
    "            recom = search_popular_pair(recommendation_2, df, min_popular)\n",
    "            #если рекомендация №2.1 не совпадает с рекомендацией №1, то возвращаем их. Иначе возвращаем рекомендацию №2.2\n",
    "            if recommendation != recom[0]:\n",
    "                return recommendation, recom[0]\n",
    "            else: return recommendation, recom[1]\n",
    "        # если рекомендация №1 не удовлетворяет минимальной границе, то определяем для нее новые рекомендации №1.1 и №1.2\n",
    "        elif max_popular <= min_popular:\n",
    "            recom = search_popular_pair(recommendation, df, min_popular)\n",
    "            # если рекомендации №1.1 и №1.2 не совпадают с исходным курсом, то возвращаем их\n",
    "            if course != recom[0] and course != recom[1]:\n",
    "                return recom[0], recom[1]\n",
    "            else: return 0\n",
    "\n",
    "    except BaseException:\n",
    "        print('ошибка')"
   ]
  },
  {
   "cell_type": "markdown",
   "metadata": {},
   "source": [
    "*Найдем с помощью функции search_popular_pair рекомендации для каждого курса и оформим итоговую таблицу, состоящую из:*\n",
    "* *курса, к которому идет рекомендация;*\n",
    "* *курса для рекомендации №1 (самого популярного);*\n",
    "* *курса для рекомендации №2 (второго по популярности).*"
   ]
  },
  {
   "cell_type": "code",
   "execution_count": 63,
   "metadata": {},
   "outputs": [],
   "source": [
    "recom_course = pd.DataFrame(unique_course)\n",
    "recom_course.columns = ['course']\n",
    "recom_course['recommendation_1'] = 0\n",
    "recom_course['recommendation_2'] = 0\n",
    "\n",
    "for i in recom_course.index:\n",
    "    course = recom_course['course'][i]\n",
    "    recom = search_popular_pair(course, pairs_data, q_75)            \n",
    "    recom_course['recommendation_1'][i] = recom[0]\n",
    "    recom_course['recommendation_2'][i] = recom[1]"
   ]
  },
  {
   "cell_type": "markdown",
   "metadata": {},
   "source": [
    "##### *Таблица с рекомендациями готова!*"
   ]
  },
  {
   "cell_type": "code",
   "execution_count": 64,
   "metadata": {},
   "outputs": [
    {
     "data": {
      "text/html": [
       "<div>\n",
       "<style scoped>\n",
       "    .dataframe tbody tr th:only-of-type {\n",
       "        vertical-align: middle;\n",
       "    }\n",
       "\n",
       "    .dataframe tbody tr th {\n",
       "        vertical-align: top;\n",
       "    }\n",
       "\n",
       "    .dataframe thead th {\n",
       "        text-align: right;\n",
       "    }\n",
       "</style>\n",
       "<table border=\"1\" class=\"dataframe\">\n",
       "  <thead>\n",
       "    <tr style=\"text-align: right;\">\n",
       "      <th></th>\n",
       "      <th>course</th>\n",
       "      <th>recommendation_1</th>\n",
       "      <th>recommendation_2</th>\n",
       "    </tr>\n",
       "  </thead>\n",
       "  <tbody>\n",
       "    <tr>\n",
       "      <th>0</th>\n",
       "      <td>356</td>\n",
       "      <td>571</td>\n",
       "      <td>357</td>\n",
       "    </tr>\n",
       "    <tr>\n",
       "      <th>1</th>\n",
       "      <td>357</td>\n",
       "      <td>571</td>\n",
       "      <td>356</td>\n",
       "    </tr>\n",
       "    <tr>\n",
       "      <th>2</th>\n",
       "      <td>358</td>\n",
       "      <td>570</td>\n",
       "      <td>752</td>\n",
       "    </tr>\n",
       "    <tr>\n",
       "      <th>3</th>\n",
       "      <td>359</td>\n",
       "      <td>570</td>\n",
       "      <td>358</td>\n",
       "    </tr>\n",
       "    <tr>\n",
       "      <th>4</th>\n",
       "      <td>360</td>\n",
       "      <td>745</td>\n",
       "      <td>516</td>\n",
       "    </tr>\n",
       "    <tr>\n",
       "      <th>...</th>\n",
       "      <td>...</td>\n",
       "      <td>...</td>\n",
       "      <td>...</td>\n",
       "    </tr>\n",
       "    <tr>\n",
       "      <th>121</th>\n",
       "      <td>1188</td>\n",
       "      <td>1141</td>\n",
       "      <td>513</td>\n",
       "    </tr>\n",
       "    <tr>\n",
       "      <th>122</th>\n",
       "      <td>1198</td>\n",
       "      <td>1125</td>\n",
       "      <td>357</td>\n",
       "    </tr>\n",
       "    <tr>\n",
       "      <th>123</th>\n",
       "      <td>1199</td>\n",
       "      <td>551</td>\n",
       "      <td>515</td>\n",
       "    </tr>\n",
       "    <tr>\n",
       "      <th>124</th>\n",
       "      <td>1200</td>\n",
       "      <td>566</td>\n",
       "      <td>551</td>\n",
       "    </tr>\n",
       "    <tr>\n",
       "      <th>125</th>\n",
       "      <td>1201</td>\n",
       "      <td>571</td>\n",
       "      <td>912</td>\n",
       "    </tr>\n",
       "  </tbody>\n",
       "</table>\n",
       "<p>126 rows × 3 columns</p>\n",
       "</div>"
      ],
      "text/plain": [
       "     course  recommendation_1  recommendation_2\n",
       "0       356               571               357\n",
       "1       357               571               356\n",
       "2       358               570               752\n",
       "3       359               570               358\n",
       "4       360               745               516\n",
       "..      ...               ...               ...\n",
       "121    1188              1141               513\n",
       "122    1198              1125               357\n",
       "123    1199               551               515\n",
       "124    1200               566               551\n",
       "125    1201               571               912\n",
       "\n",
       "[126 rows x 3 columns]"
      ]
     },
     "execution_count": 64,
     "metadata": {},
     "output_type": "execute_result"
    }
   ],
   "source": [
    "recom_course"
   ]
  },
  {
   "cell_type": "markdown",
   "metadata": {},
   "source": [
    "*Сохраним итоговую таблицу в файл.*"
   ]
  },
  {
   "cell_type": "code",
   "execution_count": 58,
   "metadata": {},
   "outputs": [],
   "source": [
    "recom_course.to_csv('data/recom_course.csv', index=False, sep=';')"
   ]
  },
  {
   "cell_type": "markdown",
   "metadata": {},
   "source": [
    "##### 4. Выводы\n",
    "\n",
    "*Была построена основа рекомендательной системы - таблица с двумя рекомендациями.*\n",
    "\n",
    "*Благодаря данной таблицы можно предлагать клиентам интересные им курсы и повышать продажи.*\n",
    "\n",
    "*По данным таблицы самыми часто рекомендованными курсами стали курсы с номерами 551, 566, 515. Можно выдвинуть предложение о дальнейшем увеличении стоимости данных курсов для большей прибыли компании. Но для проверки этого требуется дополнительный анализ.*"
   ]
  }
 ],
 "metadata": {
  "interpreter": {
   "hash": "aecd030d4c8316a52bf122072e28f84bcc79844c2684e041fef2e3f1d9f59078"
  },
  "kernelspec": {
   "display_name": "Python 3.10.0 64-bit",
   "language": "python",
   "name": "python3"
  },
  "language_info": {
   "codemirror_mode": {
    "name": "ipython",
    "version": 3
   },
   "file_extension": ".py",
   "mimetype": "text/x-python",
   "name": "python",
   "nbconvert_exporter": "python",
   "pygments_lexer": "ipython3",
   "version": "3.10.0"
  },
  "orig_nbformat": 4
 },
 "nbformat": 4,
 "nbformat_minor": 2
}
