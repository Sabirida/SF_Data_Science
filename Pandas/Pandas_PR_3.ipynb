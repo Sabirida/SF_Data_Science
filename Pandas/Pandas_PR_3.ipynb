{
 "cells": [
  {
   "cell_type": "markdown",
   "metadata": {},
   "source": [
    "## GD-3. Исследование поведения пользователей \n",
    "#### Сбор и обработка данных"
   ]
  },
  {
   "cell_type": "code",
   "execution_count": 2,
   "metadata": {},
   "outputs": [
    {
     "data": {
      "text/html": [
       "<div>\n",
       "<style scoped>\n",
       "    .dataframe tbody tr th:only-of-type {\n",
       "        vertical-align: middle;\n",
       "    }\n",
       "\n",
       "    .dataframe tbody tr th {\n",
       "        vertical-align: top;\n",
       "    }\n",
       "\n",
       "    .dataframe thead th {\n",
       "        text-align: right;\n",
       "    }\n",
       "</style>\n",
       "<table border=\"1\" class=\"dataframe\">\n",
       "  <thead>\n",
       "    <tr style=\"text-align: right;\">\n",
       "      <th></th>\n",
       "      <th>id</th>\n",
       "      <th>event_type</th>\n",
       "      <th>selected_level</th>\n",
       "      <th>start_time</th>\n",
       "      <th>tutorial_id</th>\n",
       "      <th>user_id</th>\n",
       "    </tr>\n",
       "  </thead>\n",
       "  <tbody>\n",
       "    <tr>\n",
       "      <th>0</th>\n",
       "      <td>28903</td>\n",
       "      <td>registration</td>\n",
       "      <td>NaN</td>\n",
       "      <td>2016-05-11T23:40:55</td>\n",
       "      <td>NaN</td>\n",
       "      <td>12583</td>\n",
       "    </tr>\n",
       "    <tr>\n",
       "      <th>1</th>\n",
       "      <td>28904</td>\n",
       "      <td>registration</td>\n",
       "      <td>NaN</td>\n",
       "      <td>2016-05-11T23:49:58</td>\n",
       "      <td>NaN</td>\n",
       "      <td>12584</td>\n",
       "    </tr>\n",
       "    <tr>\n",
       "      <th>2</th>\n",
       "      <td>28905</td>\n",
       "      <td>registration</td>\n",
       "      <td>NaN</td>\n",
       "      <td>2016-05-12T00:53:07</td>\n",
       "      <td>NaN</td>\n",
       "      <td>12585</td>\n",
       "    </tr>\n",
       "    <tr>\n",
       "      <th>3</th>\n",
       "      <td>28906</td>\n",
       "      <td>tutorial_start</td>\n",
       "      <td>NaN</td>\n",
       "      <td>2016-05-12T01:32:20</td>\n",
       "      <td>17562.0</td>\n",
       "      <td>12585</td>\n",
       "    </tr>\n",
       "    <tr>\n",
       "      <th>4</th>\n",
       "      <td>28907</td>\n",
       "      <td>tutorial_finish</td>\n",
       "      <td>NaN</td>\n",
       "      <td>2016-05-12T01:34:53</td>\n",
       "      <td>17562.0</td>\n",
       "      <td>12585</td>\n",
       "    </tr>\n",
       "  </tbody>\n",
       "</table>\n",
       "</div>"
      ],
      "text/plain": [
       "      id       event_type selected_level           start_time  tutorial_id  \\\n",
       "0  28903     registration            NaN  2016-05-11T23:40:55          NaN   \n",
       "1  28904     registration            NaN  2016-05-11T23:49:58          NaN   \n",
       "2  28905     registration            NaN  2016-05-12T00:53:07          NaN   \n",
       "3  28906   tutorial_start            NaN  2016-05-12T01:32:20      17562.0   \n",
       "4  28907  tutorial_finish            NaN  2016-05-12T01:34:53      17562.0   \n",
       "\n",
       "   user_id  \n",
       "0    12583  \n",
       "1    12584  \n",
       "2    12585  \n",
       "3    12585  \n",
       "4    12585  "
      ]
     },
     "execution_count": 2,
     "metadata": {},
     "output_type": "execute_result"
    }
   ],
   "source": [
    "import pandas as pd\n",
    "\n",
    "events_data = pd.read_csv('data/7_4_Events.csv', sep=',')\n",
    "purchase_data = pd.read_csv('data/purchase.csv', sep=',')\n",
    "events_data.head()"
   ]
  },
  {
   "cell_type": "code",
   "execution_count": 3,
   "metadata": {},
   "outputs": [
    {
     "name": "stdout",
     "output_type": "stream",
     "text": [
      "<class 'pandas.core.frame.DataFrame'>\n",
      "Int64Index: 66959 entries, 51405 to 118364\n",
      "Data columns (total 6 columns):\n",
      " #   Column          Non-Null Count  Dtype         \n",
      "---  ------          --------------  -----         \n",
      " 0   id              66959 non-null  int64         \n",
      " 1   event_type      66959 non-null  object        \n",
      " 2   selected_level  8342 non-null   object        \n",
      " 3   start_time      66959 non-null  datetime64[ns]\n",
      " 4   tutorial_id     32954 non-null  float64       \n",
      " 5   user_id         66959 non-null  int64         \n",
      "dtypes: datetime64[ns](1), float64(1), int64(2), object(2)\n",
      "memory usage: 3.6+ MB\n"
     ]
    },
    {
     "name": "stderr",
     "output_type": "stream",
     "text": [
      "C:\\Users\\User\\AppData\\Local\\Programs\\Python\\Python310\\lib\\site-packages\\pandas\\core\\generic.py:5516: SettingWithCopyWarning: \n",
      "A value is trying to be set on a copy of a slice from a DataFrame.\n",
      "Try using .loc[row_indexer,col_indexer] = value instead\n",
      "\n",
      "See the caveats in the documentation: https://pandas.pydata.org/pandas-docs/stable/user_guide/indexing.html#returning-a-view-versus-a-copy\n",
      "  self[name] = value\n"
     ]
    }
   ],
   "source": [
    "cond = (events_data.start_time>='2018-01-01') & (events_data.start_time<'2019-01-01') & (events_data.event_type=='registration')\n",
    "registered = events_data[cond]['user_id'].to_list() # список пользователей, зарег. в 2018\n",
    "events_df = events_data[events_data.user_id.isin(registered)]\n",
    "events_df.start_time = pd.to_datetime(events_df.start_time, format='%Y-%m-%dT%H:%M:%S')\n",
    "events_df.info()"
   ]
  },
  {
   "cell_type": "code",
   "execution_count": 5,
   "metadata": {},
   "outputs": [
    {
     "name": "stdout",
     "output_type": "stream",
     "text": [
      "<class 'pandas.core.frame.DataFrame'>\n",
      "Int64Index: 8342 entries, 51424 to 118363\n",
      "Data columns (total 6 columns):\n",
      " #   Column          Non-Null Count  Dtype         \n",
      "---  ------          --------------  -----         \n",
      " 0   id              8342 non-null   int64         \n",
      " 1   event_type      8342 non-null   object        \n",
      " 2   selected_level  8342 non-null   object        \n",
      " 3   start_time      8342 non-null   datetime64[ns]\n",
      " 4   tutorial_id     0 non-null      float64       \n",
      " 5   user_id         8342 non-null   int64         \n",
      "dtypes: datetime64[ns](1), float64(1), int64(2), object(2)\n",
      "memory usage: 456.2+ KB\n"
     ]
    }
   ],
   "source": [
    "events_df[events_df['event_type'] == 'level_choice'].info()"
   ]
  },
  {
   "cell_type": "code",
   "execution_count": 6,
   "metadata": {},
   "outputs": [
    {
     "name": "stdout",
     "output_type": "stream",
     "text": [
      "<class 'pandas.core.frame.DataFrame'>\n",
      "Int64Index: 32954 entries, 51412 to 118360\n",
      "Data columns (total 6 columns):\n",
      " #   Column          Non-Null Count  Dtype         \n",
      "---  ------          --------------  -----         \n",
      " 0   id              32954 non-null  int64         \n",
      " 1   event_type      32954 non-null  object        \n",
      " 2   selected_level  0 non-null      object        \n",
      " 3   start_time      32954 non-null  datetime64[ns]\n",
      " 4   tutorial_id     32954 non-null  float64       \n",
      " 5   user_id         32954 non-null  int64         \n",
      "dtypes: datetime64[ns](1), float64(1), int64(2), object(2)\n",
      "memory usage: 1.8+ MB\n"
     ]
    }
   ],
   "source": [
    "events_df[events_df['event_type'].isin(['tutorial_start','tutorial_finish'])].info()"
   ]
  },
  {
   "cell_type": "code",
   "execution_count": 7,
   "metadata": {},
   "outputs": [
    {
     "name": "stderr",
     "output_type": "stream",
     "text": [
      "C:\\Users\\User\\AppData\\Local\\Temp/ipykernel_1576/2649091955.py:1: FutureWarning: Treating datetime data as categorical rather than numeric in `.describe` is deprecated and will be removed in a future version of pandas. Specify `datetime_is_numeric=True` to silence this warning and adopt the future behavior now.\n",
      "  events_df.describe(include='all')\n"
     ]
    },
    {
     "data": {
      "text/html": [
       "<div>\n",
       "<style scoped>\n",
       "    .dataframe tbody tr th:only-of-type {\n",
       "        vertical-align: middle;\n",
       "    }\n",
       "\n",
       "    .dataframe tbody tr th {\n",
       "        vertical-align: top;\n",
       "    }\n",
       "\n",
       "    .dataframe thead th {\n",
       "        text-align: right;\n",
       "    }\n",
       "</style>\n",
       "<table border=\"1\" class=\"dataframe\">\n",
       "  <thead>\n",
       "    <tr style=\"text-align: right;\">\n",
       "      <th></th>\n",
       "      <th>id</th>\n",
       "      <th>event_type</th>\n",
       "      <th>selected_level</th>\n",
       "      <th>start_time</th>\n",
       "      <th>tutorial_id</th>\n",
       "      <th>user_id</th>\n",
       "    </tr>\n",
       "  </thead>\n",
       "  <tbody>\n",
       "    <tr>\n",
       "      <th>count</th>\n",
       "      <td>66959.000000</td>\n",
       "      <td>66959</td>\n",
       "      <td>8342</td>\n",
       "      <td>66959</td>\n",
       "      <td>32954.000000</td>\n",
       "      <td>66959.000000</td>\n",
       "    </tr>\n",
       "    <tr>\n",
       "      <th>unique</th>\n",
       "      <td>NaN</td>\n",
       "      <td>5</td>\n",
       "      <td>3</td>\n",
       "      <td>66809</td>\n",
       "      <td>NaN</td>\n",
       "      <td>NaN</td>\n",
       "    </tr>\n",
       "    <tr>\n",
       "      <th>top</th>\n",
       "      <td>NaN</td>\n",
       "      <td>registration</td>\n",
       "      <td>medium</td>\n",
       "      <td>2018-03-13 09:37:43</td>\n",
       "      <td>NaN</td>\n",
       "      <td>NaN</td>\n",
       "    </tr>\n",
       "    <tr>\n",
       "      <th>freq</th>\n",
       "      <td>NaN</td>\n",
       "      <td>19926</td>\n",
       "      <td>4645</td>\n",
       "      <td>9</td>\n",
       "      <td>NaN</td>\n",
       "      <td>NaN</td>\n",
       "    </tr>\n",
       "    <tr>\n",
       "      <th>first</th>\n",
       "      <td>NaN</td>\n",
       "      <td>NaN</td>\n",
       "      <td>NaN</td>\n",
       "      <td>2018-01-01 03:48:40</td>\n",
       "      <td>NaN</td>\n",
       "      <td>NaN</td>\n",
       "    </tr>\n",
       "    <tr>\n",
       "      <th>last</th>\n",
       "      <td>NaN</td>\n",
       "      <td>NaN</td>\n",
       "      <td>NaN</td>\n",
       "      <td>2019-01-01 05:50:36</td>\n",
       "      <td>NaN</td>\n",
       "      <td>NaN</td>\n",
       "    </tr>\n",
       "    <tr>\n",
       "      <th>mean</th>\n",
       "      <td>113787.000045</td>\n",
       "      <td>NaN</td>\n",
       "      <td>NaN</td>\n",
       "      <td>NaN</td>\n",
       "      <td>40532.934393</td>\n",
       "      <td>37781.543362</td>\n",
       "    </tr>\n",
       "    <tr>\n",
       "      <th>std</th>\n",
       "      <td>19329.542752</td>\n",
       "      <td>NaN</td>\n",
       "      <td>NaN</td>\n",
       "      <td>NaN</td>\n",
       "      <td>5213.486632</td>\n",
       "      <td>5751.497904</td>\n",
       "    </tr>\n",
       "    <tr>\n",
       "      <th>min</th>\n",
       "      <td>80308.000000</td>\n",
       "      <td>NaN</td>\n",
       "      <td>NaN</td>\n",
       "      <td>NaN</td>\n",
       "      <td>31505.000000</td>\n",
       "      <td>27832.000000</td>\n",
       "    </tr>\n",
       "    <tr>\n",
       "      <th>25%</th>\n",
       "      <td>97047.500000</td>\n",
       "      <td>NaN</td>\n",
       "      <td>NaN</td>\n",
       "      <td>NaN</td>\n",
       "      <td>36008.250000</td>\n",
       "      <td>32849.000000</td>\n",
       "    </tr>\n",
       "    <tr>\n",
       "      <th>50%</th>\n",
       "      <td>113787.000000</td>\n",
       "      <td>NaN</td>\n",
       "      <td>NaN</td>\n",
       "      <td>NaN</td>\n",
       "      <td>40529.500000</td>\n",
       "      <td>37719.000000</td>\n",
       "    </tr>\n",
       "    <tr>\n",
       "      <th>75%</th>\n",
       "      <td>130526.500000</td>\n",
       "      <td>NaN</td>\n",
       "      <td>NaN</td>\n",
       "      <td>NaN</td>\n",
       "      <td>45057.750000</td>\n",
       "      <td>42733.000000</td>\n",
       "    </tr>\n",
       "    <tr>\n",
       "      <th>max</th>\n",
       "      <td>147267.000000</td>\n",
       "      <td>NaN</td>\n",
       "      <td>NaN</td>\n",
       "      <td>NaN</td>\n",
       "      <td>49554.000000</td>\n",
       "      <td>47757.000000</td>\n",
       "    </tr>\n",
       "  </tbody>\n",
       "</table>\n",
       "</div>"
      ],
      "text/plain": [
       "                   id    event_type selected_level           start_time  \\\n",
       "count    66959.000000         66959           8342                66959   \n",
       "unique            NaN             5              3                66809   \n",
       "top               NaN  registration         medium  2018-03-13 09:37:43   \n",
       "freq              NaN         19926           4645                    9   \n",
       "first             NaN           NaN            NaN  2018-01-01 03:48:40   \n",
       "last              NaN           NaN            NaN  2019-01-01 05:50:36   \n",
       "mean    113787.000045           NaN            NaN                  NaN   \n",
       "std      19329.542752           NaN            NaN                  NaN   \n",
       "min      80308.000000           NaN            NaN                  NaN   \n",
       "25%      97047.500000           NaN            NaN                  NaN   \n",
       "50%     113787.000000           NaN            NaN                  NaN   \n",
       "75%     130526.500000           NaN            NaN                  NaN   \n",
       "max     147267.000000           NaN            NaN                  NaN   \n",
       "\n",
       "         tutorial_id       user_id  \n",
       "count   32954.000000  66959.000000  \n",
       "unique           NaN           NaN  \n",
       "top              NaN           NaN  \n",
       "freq             NaN           NaN  \n",
       "first            NaN           NaN  \n",
       "last             NaN           NaN  \n",
       "mean    40532.934393  37781.543362  \n",
       "std      5213.486632   5751.497904  \n",
       "min     31505.000000  27832.000000  \n",
       "25%     36008.250000  32849.000000  \n",
       "50%     40529.500000  37719.000000  \n",
       "75%     45057.750000  42733.000000  \n",
       "max     49554.000000  47757.000000  "
      ]
     },
     "execution_count": 7,
     "metadata": {},
     "output_type": "execute_result"
    }
   ],
   "source": [
    "events_df.describe(include='all')"
   ]
  },
  {
   "cell_type": "code",
   "execution_count": 8,
   "metadata": {},
   "outputs": [
    {
     "data": {
      "text/plain": [
       "array(['registration', 'tutorial_start', 'tutorial_finish',\n",
       "       'level_choice', 'pack_choice'], dtype=object)"
      ]
     },
     "execution_count": 8,
     "metadata": {},
     "output_type": "execute_result"
    }
   ],
   "source": [
    "events_df['event_type'].unique()"
   ]
  },
  {
   "cell_type": "code",
   "execution_count": 9,
   "metadata": {},
   "outputs": [
    {
     "data": {
      "text/plain": [
       "array([nan, 'medium', 'hard', 'easy'], dtype=object)"
      ]
     },
     "execution_count": 9,
     "metadata": {},
     "output_type": "execute_result"
    }
   ],
   "source": [
    "events_df['selected_level'].unique()"
   ]
  },
  {
   "cell_type": "code",
   "execution_count": 10,
   "metadata": {},
   "outputs": [
    {
     "data": {
      "text/plain": [
       "19926"
      ]
     },
     "execution_count": 10,
     "metadata": {},
     "output_type": "execute_result"
    }
   ],
   "source": [
    "events_df['user_id'].nunique()"
   ]
  },
  {
   "cell_type": "code",
   "execution_count": 11,
   "metadata": {},
   "outputs": [
    {
     "name": "stdout",
     "output_type": "stream",
     "text": [
      "<class 'pandas.core.frame.DataFrame'>\n",
      "RangeIndex: 5956 entries, 0 to 5955\n",
      "Data columns (total 4 columns):\n",
      " #   Column          Non-Null Count  Dtype \n",
      "---  ------          --------------  ----- \n",
      " 0   id              5956 non-null   int64 \n",
      " 1   user_id         5956 non-null   int64 \n",
      " 2   event_datetime  5956 non-null   object\n",
      " 3   amount          5956 non-null   int64 \n",
      "dtypes: int64(3), object(1)\n",
      "memory usage: 186.2+ KB\n"
     ]
    }
   ],
   "source": [
    "purchase_data.info()"
   ]
  },
  {
   "cell_type": "code",
   "execution_count": 12,
   "metadata": {},
   "outputs": [
    {
     "name": "stdout",
     "output_type": "stream",
     "text": [
      "<class 'pandas.core.frame.DataFrame'>\n",
      "Int64Index: 1600 entries, 1171 to 2778\n",
      "Data columns (total 4 columns):\n",
      " #   Column          Non-Null Count  Dtype         \n",
      "---  ------          --------------  -----         \n",
      " 0   id              1600 non-null   int64         \n",
      " 1   user_id         1600 non-null   int64         \n",
      " 2   event_datetime  1600 non-null   datetime64[ns]\n",
      " 3   amount          1600 non-null   int64         \n",
      "dtypes: datetime64[ns](1), int64(3)\n",
      "memory usage: 62.5 KB\n"
     ]
    },
    {
     "name": "stderr",
     "output_type": "stream",
     "text": [
      "C:\\Users\\User\\AppData\\Local\\Programs\\Python\\Python310\\lib\\site-packages\\pandas\\core\\generic.py:5516: SettingWithCopyWarning: \n",
      "A value is trying to be set on a copy of a slice from a DataFrame.\n",
      "Try using .loc[row_indexer,col_indexer] = value instead\n",
      "\n",
      "See the caveats in the documentation: https://pandas.pydata.org/pandas-docs/stable/user_guide/indexing.html#returning-a-view-versus-a-copy\n",
      "  self[name] = value\n"
     ]
    }
   ],
   "source": [
    "cond2 = (purchase_data.event_datetime>='2018-01-01') & (purchase_data.event_datetime<'2019-01-01')\n",
    "registered2 = purchase_data[cond2]['user_id'].to_list()\n",
    "purchase_df = purchase_data[purchase_data['user_id'].isin(registered)]\n",
    "purchase_df.event_datetime = pd.to_datetime(purchase_df.event_datetime, format='%Y-%m-%dT%H:%M:%S')\n",
    "purchase_df.info()"
   ]
  },
  {
   "cell_type": "code",
   "execution_count": 13,
   "metadata": {},
   "outputs": [
    {
     "data": {
      "text/html": [
       "<div>\n",
       "<style scoped>\n",
       "    .dataframe tbody tr th:only-of-type {\n",
       "        vertical-align: middle;\n",
       "    }\n",
       "\n",
       "    .dataframe tbody tr th {\n",
       "        vertical-align: top;\n",
       "    }\n",
       "\n",
       "    .dataframe thead th {\n",
       "        text-align: right;\n",
       "    }\n",
       "</style>\n",
       "<table border=\"1\" class=\"dataframe\">\n",
       "  <thead>\n",
       "    <tr style=\"text-align: right;\">\n",
       "      <th></th>\n",
       "      <th>id</th>\n",
       "      <th>user_id</th>\n",
       "      <th>event_datetime</th>\n",
       "      <th>amount</th>\n",
       "    </tr>\n",
       "  </thead>\n",
       "  <tbody>\n",
       "    <tr>\n",
       "      <th>1171</th>\n",
       "      <td>16845</td>\n",
       "      <td>27845</td>\n",
       "      <td>2018-01-03 18:53:43</td>\n",
       "      <td>100</td>\n",
       "    </tr>\n",
       "    <tr>\n",
       "      <th>1172</th>\n",
       "      <td>16846</td>\n",
       "      <td>27865</td>\n",
       "      <td>2018-01-04 14:46:10</td>\n",
       "      <td>250</td>\n",
       "    </tr>\n",
       "    <tr>\n",
       "      <th>1174</th>\n",
       "      <td>16848</td>\n",
       "      <td>27911</td>\n",
       "      <td>2018-01-07 08:19:12</td>\n",
       "      <td>50</td>\n",
       "    </tr>\n",
       "    <tr>\n",
       "      <th>1175</th>\n",
       "      <td>16849</td>\n",
       "      <td>27910</td>\n",
       "      <td>2018-01-07 12:11:34</td>\n",
       "      <td>100</td>\n",
       "    </tr>\n",
       "    <tr>\n",
       "      <th>1176</th>\n",
       "      <td>16850</td>\n",
       "      <td>27940</td>\n",
       "      <td>2018-01-07 13:16:41</td>\n",
       "      <td>200</td>\n",
       "    </tr>\n",
       "  </tbody>\n",
       "</table>\n",
       "</div>"
      ],
      "text/plain": [
       "         id  user_id      event_datetime  amount\n",
       "1171  16845    27845 2018-01-03 18:53:43     100\n",
       "1172  16846    27865 2018-01-04 14:46:10     250\n",
       "1174  16848    27911 2018-01-07 08:19:12      50\n",
       "1175  16849    27910 2018-01-07 12:11:34     100\n",
       "1176  16850    27940 2018-01-07 13:16:41     200"
      ]
     },
     "execution_count": 13,
     "metadata": {},
     "output_type": "execute_result"
    }
   ],
   "source": [
    "purchase_df.head()"
   ]
  },
  {
   "cell_type": "code",
   "execution_count": 14,
   "metadata": {},
   "outputs": [
    {
     "data": {
      "text/html": [
       "<div>\n",
       "<style scoped>\n",
       "    .dataframe tbody tr th:only-of-type {\n",
       "        vertical-align: middle;\n",
       "    }\n",
       "\n",
       "    .dataframe tbody tr th {\n",
       "        vertical-align: top;\n",
       "    }\n",
       "\n",
       "    .dataframe thead th {\n",
       "        text-align: right;\n",
       "    }\n",
       "</style>\n",
       "<table border=\"1\" class=\"dataframe\">\n",
       "  <thead>\n",
       "    <tr style=\"text-align: right;\">\n",
       "      <th></th>\n",
       "      <th>id</th>\n",
       "      <th>user_id</th>\n",
       "      <th>amount</th>\n",
       "    </tr>\n",
       "  </thead>\n",
       "  <tbody>\n",
       "    <tr>\n",
       "      <th>count</th>\n",
       "      <td>1600.000000</td>\n",
       "      <td>1600.000000</td>\n",
       "      <td>1600.000000</td>\n",
       "    </tr>\n",
       "    <tr>\n",
       "      <th>mean</th>\n",
       "      <td>17645.505625</td>\n",
       "      <td>37752.766250</td>\n",
       "      <td>110.734375</td>\n",
       "    </tr>\n",
       "    <tr>\n",
       "      <th>std</th>\n",
       "      <td>462.038637</td>\n",
       "      <td>5822.621784</td>\n",
       "      <td>54.696628</td>\n",
       "    </tr>\n",
       "    <tr>\n",
       "      <th>min</th>\n",
       "      <td>16845.000000</td>\n",
       "      <td>27845.000000</td>\n",
       "      <td>25.000000</td>\n",
       "    </tr>\n",
       "    <tr>\n",
       "      <th>25%</th>\n",
       "      <td>17245.750000</td>\n",
       "      <td>32815.750000</td>\n",
       "      <td>50.000000</td>\n",
       "    </tr>\n",
       "    <tr>\n",
       "      <th>50%</th>\n",
       "      <td>17645.500000</td>\n",
       "      <td>37633.500000</td>\n",
       "      <td>100.000000</td>\n",
       "    </tr>\n",
       "    <tr>\n",
       "      <th>75%</th>\n",
       "      <td>18045.250000</td>\n",
       "      <td>43023.000000</td>\n",
       "      <td>150.000000</td>\n",
       "    </tr>\n",
       "    <tr>\n",
       "      <th>max</th>\n",
       "      <td>18452.000000</td>\n",
       "      <td>47742.000000</td>\n",
       "      <td>300.000000</td>\n",
       "    </tr>\n",
       "  </tbody>\n",
       "</table>\n",
       "</div>"
      ],
      "text/plain": [
       "                 id       user_id       amount\n",
       "count   1600.000000   1600.000000  1600.000000\n",
       "mean   17645.505625  37752.766250   110.734375\n",
       "std      462.038637   5822.621784    54.696628\n",
       "min    16845.000000  27845.000000    25.000000\n",
       "25%    17245.750000  32815.750000    50.000000\n",
       "50%    17645.500000  37633.500000   100.000000\n",
       "75%    18045.250000  43023.000000   150.000000\n",
       "max    18452.000000  47742.000000   300.000000"
      ]
     },
     "execution_count": 14,
     "metadata": {},
     "output_type": "execute_result"
    }
   ],
   "source": [
    "purchase_df.describe()"
   ]
  },
  {
   "cell_type": "code",
   "execution_count": 15,
   "metadata": {},
   "outputs": [
    {
     "data": {
      "text/plain": [
       "19926"
      ]
     },
     "execution_count": 15,
     "metadata": {},
     "output_type": "execute_result"
    }
   ],
   "source": [
    "events_df[events_df['event_type'] == 'registration']['user_id'].nunique()"
   ]
  },
  {
   "cell_type": "code",
   "execution_count": 16,
   "metadata": {},
   "outputs": [
    {
     "data": {
      "text/plain": [
       "19926"
      ]
     },
     "execution_count": 16,
     "metadata": {},
     "output_type": "execute_result"
    }
   ],
   "source": [
    "events_df['user_id'].nunique()"
   ]
  },
  {
   "cell_type": "code",
   "execution_count": 17,
   "metadata": {},
   "outputs": [
    {
     "data": {
      "text/html": [
       "<div>\n",
       "<style scoped>\n",
       "    .dataframe tbody tr th:only-of-type {\n",
       "        vertical-align: middle;\n",
       "    }\n",
       "\n",
       "    .dataframe tbody tr th {\n",
       "        vertical-align: top;\n",
       "    }\n",
       "\n",
       "    .dataframe thead th {\n",
       "        text-align: right;\n",
       "    }\n",
       "</style>\n",
       "<table border=\"1\" class=\"dataframe\">\n",
       "  <thead>\n",
       "    <tr style=\"text-align: right;\">\n",
       "      <th></th>\n",
       "      <th>id</th>\n",
       "      <th>event_type</th>\n",
       "      <th>selected_level</th>\n",
       "      <th>start_time</th>\n",
       "      <th>tutorial_id</th>\n",
       "      <th>user_id</th>\n",
       "    </tr>\n",
       "  </thead>\n",
       "  <tbody>\n",
       "    <tr>\n",
       "      <th>51412</th>\n",
       "      <td>80315</td>\n",
       "      <td>tutorial_start</td>\n",
       "      <td>NaN</td>\n",
       "      <td>2018-01-01 14:54:40</td>\n",
       "      <td>31505.0</td>\n",
       "      <td>27836</td>\n",
       "    </tr>\n",
       "    <tr>\n",
       "      <th>51413</th>\n",
       "      <td>80316</td>\n",
       "      <td>tutorial_start</td>\n",
       "      <td>NaN</td>\n",
       "      <td>2018-01-01 15:00:51</td>\n",
       "      <td>31506.0</td>\n",
       "      <td>27835</td>\n",
       "    </tr>\n",
       "    <tr>\n",
       "      <th>51415</th>\n",
       "      <td>80318</td>\n",
       "      <td>tutorial_start</td>\n",
       "      <td>NaN</td>\n",
       "      <td>2018-01-01 15:40:43</td>\n",
       "      <td>31507.0</td>\n",
       "      <td>27836</td>\n",
       "    </tr>\n",
       "    <tr>\n",
       "      <th>51417</th>\n",
       "      <td>80320</td>\n",
       "      <td>tutorial_start</td>\n",
       "      <td>NaN</td>\n",
       "      <td>2018-01-01 17:47:40</td>\n",
       "      <td>31508.0</td>\n",
       "      <td>27833</td>\n",
       "    </tr>\n",
       "    <tr>\n",
       "      <th>51420</th>\n",
       "      <td>80323</td>\n",
       "      <td>tutorial_start</td>\n",
       "      <td>NaN</td>\n",
       "      <td>2018-01-01 19:11:36</td>\n",
       "      <td>31509.0</td>\n",
       "      <td>27839</td>\n",
       "    </tr>\n",
       "    <tr>\n",
       "      <th>51422</th>\n",
       "      <td>80325</td>\n",
       "      <td>tutorial_start</td>\n",
       "      <td>NaN</td>\n",
       "      <td>2018-01-01 19:46:11</td>\n",
       "      <td>31510.0</td>\n",
       "      <td>27834</td>\n",
       "    </tr>\n",
       "    <tr>\n",
       "      <th>51434</th>\n",
       "      <td>80337</td>\n",
       "      <td>tutorial_start</td>\n",
       "      <td>NaN</td>\n",
       "      <td>2018-01-02 02:07:07</td>\n",
       "      <td>31511.0</td>\n",
       "      <td>27840</td>\n",
       "    </tr>\n",
       "    <tr>\n",
       "      <th>51435</th>\n",
       "      <td>80338</td>\n",
       "      <td>tutorial_start</td>\n",
       "      <td>NaN</td>\n",
       "      <td>2018-01-02 03:03:44</td>\n",
       "      <td>31512.0</td>\n",
       "      <td>27845</td>\n",
       "    </tr>\n",
       "    <tr>\n",
       "      <th>51437</th>\n",
       "      <td>80340</td>\n",
       "      <td>tutorial_start</td>\n",
       "      <td>NaN</td>\n",
       "      <td>2018-01-02 04:55:11</td>\n",
       "      <td>31513.0</td>\n",
       "      <td>27842</td>\n",
       "    </tr>\n",
       "    <tr>\n",
       "      <th>51446</th>\n",
       "      <td>80349</td>\n",
       "      <td>tutorial_start</td>\n",
       "      <td>NaN</td>\n",
       "      <td>2018-01-02 07:08:00</td>\n",
       "      <td>31514.0</td>\n",
       "      <td>27845</td>\n",
       "    </tr>\n",
       "  </tbody>\n",
       "</table>\n",
       "</div>"
      ],
      "text/plain": [
       "          id      event_type selected_level          start_time  tutorial_id  \\\n",
       "51412  80315  tutorial_start            NaN 2018-01-01 14:54:40      31505.0   \n",
       "51413  80316  tutorial_start            NaN 2018-01-01 15:00:51      31506.0   \n",
       "51415  80318  tutorial_start            NaN 2018-01-01 15:40:43      31507.0   \n",
       "51417  80320  tutorial_start            NaN 2018-01-01 17:47:40      31508.0   \n",
       "51420  80323  tutorial_start            NaN 2018-01-01 19:11:36      31509.0   \n",
       "51422  80325  tutorial_start            NaN 2018-01-01 19:46:11      31510.0   \n",
       "51434  80337  tutorial_start            NaN 2018-01-02 02:07:07      31511.0   \n",
       "51435  80338  tutorial_start            NaN 2018-01-02 03:03:44      31512.0   \n",
       "51437  80340  tutorial_start            NaN 2018-01-02 04:55:11      31513.0   \n",
       "51446  80349  tutorial_start            NaN 2018-01-02 07:08:00      31514.0   \n",
       "\n",
       "       user_id  \n",
       "51412    27836  \n",
       "51413    27835  \n",
       "51415    27836  \n",
       "51417    27833  \n",
       "51420    27839  \n",
       "51422    27834  \n",
       "51434    27840  \n",
       "51435    27845  \n",
       "51437    27842  \n",
       "51446    27845  "
      ]
     },
     "execution_count": 17,
     "metadata": {},
     "output_type": "execute_result"
    }
   ],
   "source": [
    "events_df[events_df['event_type'] == 'tutorial_start'].head(10)"
   ]
  },
  {
   "cell_type": "markdown",
   "metadata": {},
   "source": [
    "#### Шаг 1"
   ]
  },
  {
   "cell_type": "code",
   "execution_count": 18,
   "metadata": {},
   "outputs": [
    {
     "data": {
      "text/plain": [
       "11858"
      ]
     },
     "execution_count": 18,
     "metadata": {},
     "output_type": "execute_result"
    }
   ],
   "source": [
    "events_df[events_df['event_type'] == 'tutorial_start']['user_id'].nunique()"
   ]
  },
  {
   "cell_type": "code",
   "execution_count": 19,
   "metadata": {},
   "outputs": [
    {
     "name": "stdout",
     "output_type": "stream",
     "text": [
      "Процент пользователей, начавших обучение (от общего числа зарегистрировавшихся): 59.51%\n"
     ]
    }
   ],
   "source": [
    "registered_users_count = events_df[events_df[\"event_type\"] == \"registration\"][\"user_id\"].nunique()\n",
    "tutorial_start_users_count = events_df[events_df[\"event_type\"] == \"tutorial_start\"][\"user_id\"].nunique()\n",
    "percent_tutorial_start_users = tutorial_start_users_count / registered_users_count\n",
    "print(\n",
    "    \"Процент пользователей, начавших обучение (от общего числа зарегистрировавшихся): {:.2%}\".format(\n",
    "        percent_tutorial_start_users\n",
    "    )\n",
    ")"
   ]
  },
  {
   "cell_type": "code",
   "execution_count": 20,
   "metadata": {},
   "outputs": [
    {
     "data": {
      "text/plain": [
       "10250"
      ]
     },
     "execution_count": 20,
     "metadata": {},
     "output_type": "execute_result"
    }
   ],
   "source": [
    "events_df[events_df['event_type'] == 'tutorial_finish']['user_id'].nunique()"
   ]
  },
  {
   "cell_type": "code",
   "execution_count": 21,
   "metadata": {},
   "outputs": [
    {
     "name": "stdout",
     "output_type": "stream",
     "text": [
      "Процент пользователей, завершивших обучение: 86.44%\n"
     ]
    }
   ],
   "source": [
    "tutorial_finish_users_count = events_df[events_df[\"event_type\"] == \"tutorial_finish\"][\"user_id\"].nunique()\n",
    "tutorial_completion_rate = tutorial_finish_users_count / tutorial_start_users_count\n",
    "print(\n",
    "    \"Процент пользователей, завершивших обучение: {:.2%}\".format(\n",
    "        tutorial_completion_rate\n",
    "    )\n",
    ")"
   ]
  },
  {
   "cell_type": "code",
   "execution_count": 22,
   "metadata": {},
   "outputs": [
    {
     "data": {
      "text/plain": [
       "8342"
      ]
     },
     "execution_count": 22,
     "metadata": {},
     "output_type": "execute_result"
    }
   ],
   "source": [
    "events_df[events_df['event_type'] == 'level_choice']['user_id'].nunique()"
   ]
  },
  {
   "cell_type": "code",
   "execution_count": 23,
   "metadata": {},
   "outputs": [
    {
     "name": "stdout",
     "output_type": "stream",
     "text": [
      "Процент пользователей, выбравших уровень сложности тренировок (от общего числа зарегистрировавшихся): 41.86%\n"
     ]
    }
   ],
   "source": [
    "level_choice_users_count = events_df[events_df[\"event_type\"] == \"level_choice\"][\"user_id\"].nunique()\n",
    "percent_level_choice_users = level_choice_users_count / registered_users_count\n",
    "print(\n",
    "    \"Процент пользователей, выбравших уровень сложности тренировок (от общего числа зарегистрировавшихся): {:.2%}\".format(\n",
    "        percent_level_choice_users\n",
    "    )\n",
    ")"
   ]
  },
  {
   "cell_type": "code",
   "execution_count": 24,
   "metadata": {},
   "outputs": [
    {
     "data": {
      "text/plain": [
       "5737"
      ]
     },
     "execution_count": 24,
     "metadata": {},
     "output_type": "execute_result"
    }
   ],
   "source": [
    "events_df[events_df['event_type'] == 'pack_choice']['user_id'].nunique()"
   ]
  },
  {
   "cell_type": "code",
   "execution_count": 25,
   "metadata": {},
   "outputs": [
    {
     "name": "stdout",
     "output_type": "stream",
     "text": [
      "Процент пользователей, выбравших набор бесплатных вопросов (от числа пользователей, которые выбрали уровень сложности): 68.77%\n"
     ]
    }
   ],
   "source": [
    "training_choice_users_count = events_df[events_df[\"event_type\"] == \"pack_choice\"][\"user_id\"].nunique()\n",
    "percent_training_choice_users = training_choice_users_count / level_choice_users_count\n",
    "print(\n",
    "    \"Процент пользователей, выбравших набор бесплатных вопросов (от числа пользователей, которые выбрали уровень сложности): {:.2%}\".format(\n",
    "        percent_training_choice_users\n",
    "    )\n",
    ")"
   ]
  },
  {
   "cell_type": "code",
   "execution_count": 26,
   "metadata": {},
   "outputs": [
    {
     "data": {
      "text/plain": [
       "1600"
      ]
     },
     "execution_count": 26,
     "metadata": {},
     "output_type": "execute_result"
    }
   ],
   "source": [
    "purchase_df['user_id'].nunique()"
   ]
  },
  {
   "cell_type": "code",
   "execution_count": 27,
   "metadata": {},
   "outputs": [
    {
     "name": "stdout",
     "output_type": "stream",
     "text": [
      "Процент пользователей, которые оплатили вопросы (от числа пользователей, которые выбрали тренировки): 27.89%\n"
     ]
    }
   ],
   "source": [
    "#paying_users_count = purchase_df[\"user_id\"].nunique()\n",
    "paying_users_count = 1600\n",
    "percent_of_paying_users = paying_users_count / training_choice_users_count\n",
    "print(\n",
    "    \"Процент пользователей, которые оплатили вопросы (от числа пользователей, которые выбрали тренировки): {:.2%}\".format(\n",
    "        percent_of_paying_users\n",
    "    )\n",
    ")"
   ]
  },
  {
   "cell_type": "code",
   "execution_count": 28,
   "metadata": {},
   "outputs": [
    {
     "name": "stdout",
     "output_type": "stream",
     "text": [
      "Процент пользователей, которые оплатили вопросы(от числа зарегистрировавшихся пользователей): 8.03%\n"
     ]
    }
   ],
   "source": [
    "purchase_rate = paying_users_count / registered_users_count\n",
    "print(\n",
    "    \"Процент пользователей, которые оплатили вопросы(от числа зарегистрировавшихся пользователей): {:.2%}\".format(\n",
    "        purchase_rate\n",
    "    )\n",
    ")"
   ]
  },
  {
   "cell_type": "markdown",
   "metadata": {},
   "source": [
    "#### Шаг 2"
   ]
  },
  {
   "cell_type": "code",
   "execution_count": 29,
   "metadata": {},
   "outputs": [],
   "source": [
    "#purchase_df['event_type'] = 'purchase'\n",
    "events_df = events_df.rename(columns={\"id\": \"event_id\"})\n",
    "purchase_df = purchase_df.rename(columns={\"id\": \"purchase_id\"})"
   ]
  },
  {
   "cell_type": "code",
   "execution_count": 30,
   "metadata": {},
   "outputs": [
    {
     "name": "stdout",
     "output_type": "stream",
     "text": [
      "<class 'pandas.core.frame.DataFrame'>\n",
      "Int64Index: 68559 entries, 51405 to 2778\n",
      "Data columns (total 9 columns):\n",
      " #   Column          Non-Null Count  Dtype         \n",
      "---  ------          --------------  -----         \n",
      " 0   event_id        66959 non-null  float64       \n",
      " 1   event_type      66959 non-null  object        \n",
      " 2   selected_level  8342 non-null   object        \n",
      " 3   start_time      66959 non-null  datetime64[ns]\n",
      " 4   tutorial_id     32954 non-null  float64       \n",
      " 5   user_id         68559 non-null  int64         \n",
      " 6   purchase_id     1600 non-null   float64       \n",
      " 7   event_datetime  1600 non-null   datetime64[ns]\n",
      " 8   amount          1600 non-null   float64       \n",
      "dtypes: datetime64[ns](2), float64(4), int64(1), object(2)\n",
      "memory usage: 5.2+ MB\n"
     ]
    }
   ],
   "source": [
    "total_events_df = pd.concat([events_df,purchase_df],sort=False)\n",
    "total_events_df.info()"
   ]
  },
  {
   "cell_type": "code",
   "execution_count": 31,
   "metadata": {},
   "outputs": [],
   "source": [
    "total_events_df = total_events_df.reset_index(drop=True).sort_values('start_time')"
   ]
  },
  {
   "cell_type": "code",
   "execution_count": 42,
   "metadata": {},
   "outputs": [
    {
     "name": "stdout",
     "output_type": "stream",
     "text": [
      "<class 'pandas.core.frame.DataFrame'>\n",
      "RangeIndex: 19926 entries, 0 to 19925\n",
      "Data columns (total 2 columns):\n",
      " #   Column      Non-Null Count  Dtype \n",
      "---  ------      --------------  ----- \n",
      " 0   user_id     19926 non-null  int64 \n",
      " 1   event_type  19926 non-null  object\n",
      "dtypes: int64(1), object(1)\n",
      "memory usage: 311.5+ KB\n"
     ]
    }
   ],
   "source": [
    "user_path_df = (\n",
    "    total_events_df.groupby([\"user_id\"])[\"event_type\"].apply(list).reset_index()\n",
    ")\n",
    "user_path_df.info()"
   ]
  },
  {
   "cell_type": "code",
   "execution_count": 41,
   "metadata": {},
   "outputs": [
    {
     "ename": "TypeError",
     "evalue": "sequence item 7: expected str instance, float found",
     "output_type": "error",
     "traceback": [
      "\u001b[1;31m---------------------------------------------------------------------------\u001b[0m",
      "\u001b[1;31mTypeError\u001b[0m                                 Traceback (most recent call last)",
      "\u001b[1;32m~\\AppData\\Local\\Temp/ipykernel_1576/201252312.py\u001b[0m in \u001b[0;36m<module>\u001b[1;34m\u001b[0m\n\u001b[1;32m----> 1\u001b[1;33m \u001b[0muser_path_df\u001b[0m\u001b[1;33m[\u001b[0m\u001b[1;34m\"event_type\"\u001b[0m\u001b[1;33m]\u001b[0m\u001b[1;33m.\u001b[0m\u001b[0mapply\u001b[0m\u001b[1;33m(\u001b[0m\u001b[1;32mlambda\u001b[0m \u001b[0mx\u001b[0m\u001b[1;33m:\u001b[0m\u001b[1;34m'>'\u001b[0m\u001b[1;33m.\u001b[0m\u001b[0mjoin\u001b[0m\u001b[1;33m(\u001b[0m\u001b[0mx\u001b[0m\u001b[1;33m)\u001b[0m\u001b[1;33m)\u001b[0m\u001b[1;33m\u001b[0m\u001b[1;33m\u001b[0m\u001b[0m\n\u001b[0m",
      "\u001b[1;32m~\\AppData\\Local\\Programs\\Python\\Python310\\lib\\site-packages\\pandas\\core\\series.py\u001b[0m in \u001b[0;36mapply\u001b[1;34m(self, func, convert_dtype, args, **kwargs)\u001b[0m\n\u001b[0;32m   4355\u001b[0m         \u001b[0mdtype\u001b[0m\u001b[1;33m:\u001b[0m \u001b[0mfloat64\u001b[0m\u001b[1;33m\u001b[0m\u001b[1;33m\u001b[0m\u001b[0m\n\u001b[0;32m   4356\u001b[0m         \"\"\"\n\u001b[1;32m-> 4357\u001b[1;33m         \u001b[1;32mreturn\u001b[0m \u001b[0mSeriesApply\u001b[0m\u001b[1;33m(\u001b[0m\u001b[0mself\u001b[0m\u001b[1;33m,\u001b[0m \u001b[0mfunc\u001b[0m\u001b[1;33m,\u001b[0m \u001b[0mconvert_dtype\u001b[0m\u001b[1;33m,\u001b[0m \u001b[0margs\u001b[0m\u001b[1;33m,\u001b[0m \u001b[0mkwargs\u001b[0m\u001b[1;33m)\u001b[0m\u001b[1;33m.\u001b[0m\u001b[0mapply\u001b[0m\u001b[1;33m(\u001b[0m\u001b[1;33m)\u001b[0m\u001b[1;33m\u001b[0m\u001b[1;33m\u001b[0m\u001b[0m\n\u001b[0m\u001b[0;32m   4358\u001b[0m \u001b[1;33m\u001b[0m\u001b[0m\n\u001b[0;32m   4359\u001b[0m     def _reduce(\n",
      "\u001b[1;32m~\\AppData\\Local\\Programs\\Python\\Python310\\lib\\site-packages\\pandas\\core\\apply.py\u001b[0m in \u001b[0;36mapply\u001b[1;34m(self)\u001b[0m\n\u001b[0;32m   1041\u001b[0m             \u001b[1;32mreturn\u001b[0m \u001b[0mself\u001b[0m\u001b[1;33m.\u001b[0m\u001b[0mapply_str\u001b[0m\u001b[1;33m(\u001b[0m\u001b[1;33m)\u001b[0m\u001b[1;33m\u001b[0m\u001b[1;33m\u001b[0m\u001b[0m\n\u001b[0;32m   1042\u001b[0m \u001b[1;33m\u001b[0m\u001b[0m\n\u001b[1;32m-> 1043\u001b[1;33m         \u001b[1;32mreturn\u001b[0m \u001b[0mself\u001b[0m\u001b[1;33m.\u001b[0m\u001b[0mapply_standard\u001b[0m\u001b[1;33m(\u001b[0m\u001b[1;33m)\u001b[0m\u001b[1;33m\u001b[0m\u001b[1;33m\u001b[0m\u001b[0m\n\u001b[0m\u001b[0;32m   1044\u001b[0m \u001b[1;33m\u001b[0m\u001b[0m\n\u001b[0;32m   1045\u001b[0m     \u001b[1;32mdef\u001b[0m \u001b[0magg\u001b[0m\u001b[1;33m(\u001b[0m\u001b[0mself\u001b[0m\u001b[1;33m)\u001b[0m\u001b[1;33m:\u001b[0m\u001b[1;33m\u001b[0m\u001b[1;33m\u001b[0m\u001b[0m\n",
      "\u001b[1;32m~\\AppData\\Local\\Programs\\Python\\Python310\\lib\\site-packages\\pandas\\core\\apply.py\u001b[0m in \u001b[0;36mapply_standard\u001b[1;34m(self)\u001b[0m\n\u001b[0;32m   1096\u001b[0m                 \u001b[1;31m# List[Union[Callable[..., Any], str]]]]]\"; expected\u001b[0m\u001b[1;33m\u001b[0m\u001b[1;33m\u001b[0m\u001b[0m\n\u001b[0;32m   1097\u001b[0m                 \u001b[1;31m# \"Callable[[Any], Any]\"\u001b[0m\u001b[1;33m\u001b[0m\u001b[1;33m\u001b[0m\u001b[0m\n\u001b[1;32m-> 1098\u001b[1;33m                 mapped = lib.map_infer(\n\u001b[0m\u001b[0;32m   1099\u001b[0m                     \u001b[0mvalues\u001b[0m\u001b[1;33m,\u001b[0m\u001b[1;33m\u001b[0m\u001b[1;33m\u001b[0m\u001b[0m\n\u001b[0;32m   1100\u001b[0m                     \u001b[0mf\u001b[0m\u001b[1;33m,\u001b[0m  \u001b[1;31m# type: ignore[arg-type]\u001b[0m\u001b[1;33m\u001b[0m\u001b[1;33m\u001b[0m\u001b[0m\n",
      "\u001b[1;32m~\\AppData\\Local\\Programs\\Python\\Python310\\lib\\site-packages\\pandas\\_libs\\lib.pyx\u001b[0m in \u001b[0;36mpandas._libs.lib.map_infer\u001b[1;34m()\u001b[0m\n",
      "\u001b[1;32m~\\AppData\\Local\\Temp/ipykernel_1576/201252312.py\u001b[0m in \u001b[0;36m<lambda>\u001b[1;34m(x)\u001b[0m\n\u001b[1;32m----> 1\u001b[1;33m \u001b[0muser_path_df\u001b[0m\u001b[1;33m[\u001b[0m\u001b[1;34m\"event_type\"\u001b[0m\u001b[1;33m]\u001b[0m\u001b[1;33m.\u001b[0m\u001b[0mapply\u001b[0m\u001b[1;33m(\u001b[0m\u001b[1;32mlambda\u001b[0m \u001b[0mx\u001b[0m\u001b[1;33m:\u001b[0m\u001b[1;34m'>'\u001b[0m\u001b[1;33m.\u001b[0m\u001b[0mjoin\u001b[0m\u001b[1;33m(\u001b[0m\u001b[0mx\u001b[0m\u001b[1;33m)\u001b[0m\u001b[1;33m)\u001b[0m\u001b[1;33m\u001b[0m\u001b[1;33m\u001b[0m\u001b[0m\n\u001b[0m",
      "\u001b[1;31mTypeError\u001b[0m: sequence item 7: expected str instance, float found"
     ]
    }
   ],
   "source": [
    "user_path_df[\"event_type\"].apply(lambda x:'>'.join(x))"
   ]
  },
  {
   "cell_type": "code",
   "execution_count": 43,
   "metadata": {},
   "outputs": [
    {
     "ename": "KeyError",
     "evalue": "'event_path'",
     "output_type": "error",
     "traceback": [
      "\u001b[1;31m---------------------------------------------------------------------------\u001b[0m",
      "\u001b[1;31mKeyError\u001b[0m                                  Traceback (most recent call last)",
      "\u001b[1;32m~\\AppData\\Local\\Temp/ipykernel_1576/1351176610.py\u001b[0m in \u001b[0;36m<module>\u001b[1;34m\u001b[0m\n\u001b[0;32m      1\u001b[0m user_paths = (\n\u001b[1;32m----> 2\u001b[1;33m     \u001b[0muser_path_df\u001b[0m\u001b[1;33m.\u001b[0m\u001b[0mgroupby\u001b[0m\u001b[1;33m(\u001b[0m\u001b[1;33m[\u001b[0m\u001b[1;34m\"event_path\"\u001b[0m\u001b[1;33m]\u001b[0m\u001b[1;33m)\u001b[0m\u001b[1;33m[\u001b[0m\u001b[1;34m\"user_id\"\u001b[0m\u001b[1;33m]\u001b[0m\u001b[1;33m\u001b[0m\u001b[1;33m\u001b[0m\u001b[0m\n\u001b[0m\u001b[0;32m      3\u001b[0m     \u001b[1;33m.\u001b[0m\u001b[0mnunique\u001b[0m\u001b[1;33m(\u001b[0m\u001b[1;33m)\u001b[0m\u001b[1;33m\u001b[0m\u001b[1;33m\u001b[0m\u001b[0m\n\u001b[0;32m      4\u001b[0m     \u001b[1;33m.\u001b[0m\u001b[0msort_values\u001b[0m\u001b[1;33m(\u001b[0m\u001b[0mascending\u001b[0m\u001b[1;33m=\u001b[0m\u001b[1;32mFalse\u001b[0m\u001b[1;33m)\u001b[0m\u001b[1;33m\u001b[0m\u001b[1;33m\u001b[0m\u001b[0m\n\u001b[0;32m      5\u001b[0m )\n",
      "\u001b[1;32m~\\AppData\\Local\\Programs\\Python\\Python310\\lib\\site-packages\\pandas\\core\\frame.py\u001b[0m in \u001b[0;36mgroupby\u001b[1;34m(self, by, axis, level, as_index, sort, group_keys, squeeze, observed, dropna)\u001b[0m\n\u001b[0;32m   7629\u001b[0m         \u001b[1;31m# error: Argument \"squeeze\" to \"DataFrameGroupBy\" has incompatible type\u001b[0m\u001b[1;33m\u001b[0m\u001b[1;33m\u001b[0m\u001b[0m\n\u001b[0;32m   7630\u001b[0m         \u001b[1;31m# \"Union[bool, NoDefault]\"; expected \"bool\"\u001b[0m\u001b[1;33m\u001b[0m\u001b[1;33m\u001b[0m\u001b[0m\n\u001b[1;32m-> 7631\u001b[1;33m         return DataFrameGroupBy(\n\u001b[0m\u001b[0;32m   7632\u001b[0m             \u001b[0mobj\u001b[0m\u001b[1;33m=\u001b[0m\u001b[0mself\u001b[0m\u001b[1;33m,\u001b[0m\u001b[1;33m\u001b[0m\u001b[1;33m\u001b[0m\u001b[0m\n\u001b[0;32m   7633\u001b[0m             \u001b[0mkeys\u001b[0m\u001b[1;33m=\u001b[0m\u001b[0mby\u001b[0m\u001b[1;33m,\u001b[0m\u001b[1;33m\u001b[0m\u001b[1;33m\u001b[0m\u001b[0m\n",
      "\u001b[1;32m~\\AppData\\Local\\Programs\\Python\\Python310\\lib\\site-packages\\pandas\\core\\groupby\\groupby.py\u001b[0m in \u001b[0;36m__init__\u001b[1;34m(self, obj, keys, axis, level, grouper, exclusions, selection, as_index, sort, group_keys, squeeze, observed, mutated, dropna)\u001b[0m\n\u001b[0;32m    887\u001b[0m             \u001b[1;32mfrom\u001b[0m \u001b[0mpandas\u001b[0m\u001b[1;33m.\u001b[0m\u001b[0mcore\u001b[0m\u001b[1;33m.\u001b[0m\u001b[0mgroupby\u001b[0m\u001b[1;33m.\u001b[0m\u001b[0mgrouper\u001b[0m \u001b[1;32mimport\u001b[0m \u001b[0mget_grouper\u001b[0m\u001b[1;33m\u001b[0m\u001b[1;33m\u001b[0m\u001b[0m\n\u001b[0;32m    888\u001b[0m \u001b[1;33m\u001b[0m\u001b[0m\n\u001b[1;32m--> 889\u001b[1;33m             grouper, exclusions, obj = get_grouper(\n\u001b[0m\u001b[0;32m    890\u001b[0m                 \u001b[0mobj\u001b[0m\u001b[1;33m,\u001b[0m\u001b[1;33m\u001b[0m\u001b[1;33m\u001b[0m\u001b[0m\n\u001b[0;32m    891\u001b[0m                 \u001b[0mkeys\u001b[0m\u001b[1;33m,\u001b[0m\u001b[1;33m\u001b[0m\u001b[1;33m\u001b[0m\u001b[0m\n",
      "\u001b[1;32m~\\AppData\\Local\\Programs\\Python\\Python310\\lib\\site-packages\\pandas\\core\\groupby\\grouper.py\u001b[0m in \u001b[0;36mget_grouper\u001b[1;34m(obj, key, axis, level, sort, observed, mutated, validate, dropna)\u001b[0m\n\u001b[0;32m    860\u001b[0m                 \u001b[0min_axis\u001b[0m\u001b[1;33m,\u001b[0m \u001b[0mlevel\u001b[0m\u001b[1;33m,\u001b[0m \u001b[0mgpr\u001b[0m \u001b[1;33m=\u001b[0m \u001b[1;32mFalse\u001b[0m\u001b[1;33m,\u001b[0m \u001b[0mgpr\u001b[0m\u001b[1;33m,\u001b[0m \u001b[1;32mNone\u001b[0m\u001b[1;33m\u001b[0m\u001b[1;33m\u001b[0m\u001b[0m\n\u001b[0;32m    861\u001b[0m             \u001b[1;32melse\u001b[0m\u001b[1;33m:\u001b[0m\u001b[1;33m\u001b[0m\u001b[1;33m\u001b[0m\u001b[0m\n\u001b[1;32m--> 862\u001b[1;33m                 \u001b[1;32mraise\u001b[0m \u001b[0mKeyError\u001b[0m\u001b[1;33m(\u001b[0m\u001b[0mgpr\u001b[0m\u001b[1;33m)\u001b[0m\u001b[1;33m\u001b[0m\u001b[1;33m\u001b[0m\u001b[0m\n\u001b[0m\u001b[0;32m    863\u001b[0m         \u001b[1;32melif\u001b[0m \u001b[0misinstance\u001b[0m\u001b[1;33m(\u001b[0m\u001b[0mgpr\u001b[0m\u001b[1;33m,\u001b[0m \u001b[0mGrouper\u001b[0m\u001b[1;33m)\u001b[0m \u001b[1;32mand\u001b[0m \u001b[0mgpr\u001b[0m\u001b[1;33m.\u001b[0m\u001b[0mkey\u001b[0m \u001b[1;32mis\u001b[0m \u001b[1;32mnot\u001b[0m \u001b[1;32mNone\u001b[0m\u001b[1;33m:\u001b[0m\u001b[1;33m\u001b[0m\u001b[1;33m\u001b[0m\u001b[0m\n\u001b[0;32m    864\u001b[0m             \u001b[1;31m# Add key to exclusions\u001b[0m\u001b[1;33m\u001b[0m\u001b[1;33m\u001b[0m\u001b[0m\n",
      "\u001b[1;31mKeyError\u001b[0m: 'event_path'"
     ]
    }
   ],
   "source": [
    "user_paths = (\n",
    "    user_path_df.groupby([\"event_path\"])[\"user_id\"]\n",
    "    .nunique()\n",
    "    .sort_values(ascending=False)\n",
    ")\n",
    "user_paths.head(10)"
   ]
  },
  {
   "cell_type": "code",
   "execution_count": null,
   "metadata": {},
   "outputs": [
    {
     "ename": "NameError",
     "evalue": "name 'user_paths' is not defined",
     "output_type": "error",
     "traceback": [
      "\u001b[1;31m---------------------------------------------------------------------------\u001b[0m",
      "\u001b[1;31mNameError\u001b[0m                                 Traceback (most recent call last)",
      "\u001b[1;32m~\\AppData\\Local\\Temp/ipykernel_20144/118898718.py\u001b[0m in \u001b[0;36m<module>\u001b[1;34m\u001b[0m\n\u001b[1;32m----> 1\u001b[1;33m \u001b[0muser_paths\u001b[0m\u001b[1;33m[\u001b[0m\u001b[0muser_paths\u001b[0m\u001b[1;33m.\u001b[0m\u001b[0mindex\u001b[0m\u001b[1;33m.\u001b[0m\u001b[0mstr\u001b[0m\u001b[1;33m.\u001b[0m\u001b[0mcontains\u001b[0m\u001b[1;33m(\u001b[0m\u001b[1;34m'purchase'\u001b[0m\u001b[1;33m)\u001b[0m\u001b[1;33m]\u001b[0m\u001b[1;33m.\u001b[0m\u001b[0mhead\u001b[0m\u001b[1;33m(\u001b[0m\u001b[1;36m10\u001b[0m\u001b[1;33m)\u001b[0m\u001b[1;33m\u001b[0m\u001b[1;33m\u001b[0m\u001b[0m\n\u001b[0m",
      "\u001b[1;31mNameError\u001b[0m: name 'user_paths' is not defined"
     ]
    }
   ],
   "source": [
    "user_paths[user_paths.index.str.contains('purchase')].head(10)"
   ]
  },
  {
   "cell_type": "markdown",
   "metadata": {},
   "source": [
    "#### Шаг 3"
   ]
  },
  {
   "cell_type": "code",
   "execution_count": null,
   "metadata": {},
   "outputs": [],
   "source": [
    "registration_df = total_events_df[total_events_df['event_type'] == 'registration']"
   ]
  },
  {
   "cell_type": "code",
   "execution_count": null,
   "metadata": {},
   "outputs": [
    {
     "data": {
      "text/plain": [
       "1.0"
      ]
     },
     "execution_count": 39,
     "metadata": {},
     "output_type": "execute_result"
    }
   ],
   "source": [
    "registration_df['user_id'].value_counts().mean()"
   ]
  },
  {
   "cell_type": "code",
   "execution_count": null,
   "metadata": {},
   "outputs": [],
   "source": [
    "registration_df = registration_df[[\"user_id\", \"start_time\"]].rename(\n",
    "    columns={\"start_time\": \"registration_time\"}\n",
    ")"
   ]
  },
  {
   "cell_type": "code",
   "execution_count": null,
   "metadata": {},
   "outputs": [
    {
     "data": {
      "text/plain": [
       "1.522179119581717"
      ]
     },
     "execution_count": 41,
     "metadata": {},
     "output_type": "execute_result"
    }
   ],
   "source": [
    "tutorial_start_df = total_events_df[total_events_df['event_type'] == 'tutorial_start']\n",
    "tutorial_start_df['user_id'].value_counts().mean()"
   ]
  },
  {
   "cell_type": "code",
   "execution_count": null,
   "metadata": {},
   "outputs": [
    {
     "data": {
      "text/plain": [
       "1.0"
      ]
     },
     "execution_count": 42,
     "metadata": {},
     "output_type": "execute_result"
    }
   ],
   "source": [
    "tutorial_start_df_wo_duplicates = tutorial_start_df.sort_values(\n",
    "    \"start_time\"\n",
    ").drop_duplicates(\"user_id\")\n",
    "tutorial_start_df_wo_duplicates['user_id'].value_counts().mean()"
   ]
  },
  {
   "cell_type": "code",
   "execution_count": null,
   "metadata": {},
   "outputs": [],
   "source": [
    "tutorial_start_df_wo_duplicates = tutorial_start_df_wo_duplicates[\n",
    "    [\"user_id\", \"tutorial_id\", \"start_time\"]\n",
    "].rename(columns={\"start_time\": \"tutorial_start_time\"})"
   ]
  },
  {
   "cell_type": "code",
   "execution_count": null,
   "metadata": {},
   "outputs": [
    {
     "data": {
      "text/html": [
       "<div>\n",
       "<style scoped>\n",
       "    .dataframe tbody tr th:only-of-type {\n",
       "        vertical-align: middle;\n",
       "    }\n",
       "\n",
       "    .dataframe tbody tr th {\n",
       "        vertical-align: top;\n",
       "    }\n",
       "\n",
       "    .dataframe thead th {\n",
       "        text-align: right;\n",
       "    }\n",
       "</style>\n",
       "<table border=\"1\" class=\"dataframe\">\n",
       "  <thead>\n",
       "    <tr style=\"text-align: right;\">\n",
       "      <th></th>\n",
       "      <th>user_id</th>\n",
       "      <th>registration_time</th>\n",
       "      <th>tutorial_id</th>\n",
       "      <th>tutorial_start_time</th>\n",
       "    </tr>\n",
       "  </thead>\n",
       "  <tbody>\n",
       "    <tr>\n",
       "      <th>0</th>\n",
       "      <td>27833</td>\n",
       "      <td>2018-01-01 04:07:25</td>\n",
       "      <td>31508.0</td>\n",
       "      <td>2018-01-01 17:47:40</td>\n",
       "    </tr>\n",
       "    <tr>\n",
       "      <th>1</th>\n",
       "      <td>27834</td>\n",
       "      <td>2018-01-01 08:35:10</td>\n",
       "      <td>31510.0</td>\n",
       "      <td>2018-01-01 19:46:11</td>\n",
       "    </tr>\n",
       "    <tr>\n",
       "      <th>2</th>\n",
       "      <td>27835</td>\n",
       "      <td>2018-01-01 11:54:47</td>\n",
       "      <td>31506.0</td>\n",
       "      <td>2018-01-01 15:00:51</td>\n",
       "    </tr>\n",
       "    <tr>\n",
       "      <th>3</th>\n",
       "      <td>27836</td>\n",
       "      <td>2018-01-01 13:28:07</td>\n",
       "      <td>31505.0</td>\n",
       "      <td>2018-01-01 14:54:40</td>\n",
       "    </tr>\n",
       "    <tr>\n",
       "      <th>4</th>\n",
       "      <td>27839</td>\n",
       "      <td>2018-01-01 18:24:01</td>\n",
       "      <td>31509.0</td>\n",
       "      <td>2018-01-01 19:11:36</td>\n",
       "    </tr>\n",
       "  </tbody>\n",
       "</table>\n",
       "</div>"
      ],
      "text/plain": [
       "   user_id   registration_time  tutorial_id tutorial_start_time\n",
       "0    27833 2018-01-01 04:07:25      31508.0 2018-01-01 17:47:40\n",
       "1    27834 2018-01-01 08:35:10      31510.0 2018-01-01 19:46:11\n",
       "2    27835 2018-01-01 11:54:47      31506.0 2018-01-01 15:00:51\n",
       "3    27836 2018-01-01 13:28:07      31505.0 2018-01-01 14:54:40\n",
       "4    27839 2018-01-01 18:24:01      31509.0 2018-01-01 19:11:36"
      ]
     },
     "execution_count": 44,
     "metadata": {},
     "output_type": "execute_result"
    }
   ],
   "source": [
    "merged_df = registration_df.merge(\n",
    "    tutorial_start_df_wo_duplicates, on=\"user_id\", how=\"inner\"\n",
    ")\n",
    "merged_df.head()"
   ]
  },
  {
   "cell_type": "code",
   "execution_count": null,
   "metadata": {},
   "outputs": [
    {
     "data": {
      "text/html": [
       "<div>\n",
       "<style scoped>\n",
       "    .dataframe tbody tr th:only-of-type {\n",
       "        vertical-align: middle;\n",
       "    }\n",
       "\n",
       "    .dataframe tbody tr th {\n",
       "        vertical-align: top;\n",
       "    }\n",
       "\n",
       "    .dataframe thead th {\n",
       "        text-align: right;\n",
       "    }\n",
       "</style>\n",
       "<table border=\"1\" class=\"dataframe\">\n",
       "  <thead>\n",
       "    <tr style=\"text-align: right;\">\n",
       "      <th></th>\n",
       "      <th>user_id</th>\n",
       "      <th>registration_time</th>\n",
       "      <th>tutorial_id</th>\n",
       "      <th>tutorial_start_time</th>\n",
       "      <th>timedelta</th>\n",
       "    </tr>\n",
       "  </thead>\n",
       "  <tbody>\n",
       "    <tr>\n",
       "      <th>0</th>\n",
       "      <td>27833</td>\n",
       "      <td>2018-01-01 04:07:25</td>\n",
       "      <td>31508.0</td>\n",
       "      <td>2018-01-01 17:47:40</td>\n",
       "      <td>0 days 13:40:15</td>\n",
       "    </tr>\n",
       "    <tr>\n",
       "      <th>1</th>\n",
       "      <td>27834</td>\n",
       "      <td>2018-01-01 08:35:10</td>\n",
       "      <td>31510.0</td>\n",
       "      <td>2018-01-01 19:46:11</td>\n",
       "      <td>0 days 11:11:01</td>\n",
       "    </tr>\n",
       "    <tr>\n",
       "      <th>2</th>\n",
       "      <td>27835</td>\n",
       "      <td>2018-01-01 11:54:47</td>\n",
       "      <td>31506.0</td>\n",
       "      <td>2018-01-01 15:00:51</td>\n",
       "      <td>0 days 03:06:04</td>\n",
       "    </tr>\n",
       "    <tr>\n",
       "      <th>3</th>\n",
       "      <td>27836</td>\n",
       "      <td>2018-01-01 13:28:07</td>\n",
       "      <td>31505.0</td>\n",
       "      <td>2018-01-01 14:54:40</td>\n",
       "      <td>0 days 01:26:33</td>\n",
       "    </tr>\n",
       "    <tr>\n",
       "      <th>4</th>\n",
       "      <td>27839</td>\n",
       "      <td>2018-01-01 18:24:01</td>\n",
       "      <td>31509.0</td>\n",
       "      <td>2018-01-01 19:11:36</td>\n",
       "      <td>0 days 00:47:35</td>\n",
       "    </tr>\n",
       "  </tbody>\n",
       "</table>\n",
       "</div>"
      ],
      "text/plain": [
       "   user_id   registration_time  tutorial_id tutorial_start_time  \\\n",
       "0    27833 2018-01-01 04:07:25      31508.0 2018-01-01 17:47:40   \n",
       "1    27834 2018-01-01 08:35:10      31510.0 2018-01-01 19:46:11   \n",
       "2    27835 2018-01-01 11:54:47      31506.0 2018-01-01 15:00:51   \n",
       "3    27836 2018-01-01 13:28:07      31505.0 2018-01-01 14:54:40   \n",
       "4    27839 2018-01-01 18:24:01      31509.0 2018-01-01 19:11:36   \n",
       "\n",
       "        timedelta  \n",
       "0 0 days 13:40:15  \n",
       "1 0 days 11:11:01  \n",
       "2 0 days 03:06:04  \n",
       "3 0 days 01:26:33  \n",
       "4 0 days 00:47:35  "
      ]
     },
     "execution_count": 45,
     "metadata": {},
     "output_type": "execute_result"
    }
   ],
   "source": [
    "merged_df[\"timedelta\"] = (\n",
    "    merged_df[\"tutorial_start_time\"] - merged_df[\"registration_time\"]\n",
    ")\n",
    "merged_df.head()"
   ]
  },
  {
   "cell_type": "code",
   "execution_count": null,
   "metadata": {},
   "outputs": [
    {
     "data": {
      "text/plain": [
       "Timedelta('0 days 04:38:24.019817844')"
      ]
     },
     "execution_count": 46,
     "metadata": {},
     "output_type": "execute_result"
    }
   ],
   "source": [
    "merged_df[\"timedelta\"].mean()"
   ]
  },
  {
   "cell_type": "code",
   "execution_count": null,
   "metadata": {},
   "outputs": [
    {
     "data": {
      "text/plain": [
       "count                        11858\n",
       "mean     0 days 04:38:24.019817844\n",
       "std      0 days 04:15:09.650705034\n",
       "min                0 days 00:00:34\n",
       "25%         0 days 01:21:37.500000\n",
       "50%         0 days 03:22:08.500000\n",
       "75%         0 days 06:47:42.750000\n",
       "max                1 days 16:03:46\n",
       "Name: timedelta, dtype: object"
      ]
     },
     "execution_count": 47,
     "metadata": {},
     "output_type": "execute_result"
    }
   ],
   "source": [
    "merged_df['timedelta'].describe()"
   ]
  },
  {
   "cell_type": "code",
   "execution_count": null,
   "metadata": {},
   "outputs": [
    {
     "data": {
      "text/plain": [
       "1.0"
      ]
     },
     "execution_count": 48,
     "metadata": {},
     "output_type": "execute_result"
    }
   ],
   "source": [
    "tutorial_finish_df = total_events_df[total_events_df[\"event_type\"] == \"tutorial_finish\"]\n",
    "first_tutorial_ids = tutorial_start_df_wo_duplicates[\"tutorial_id\"].unique()\n",
    "tutorial_finish_df = tutorial_finish_df[\n",
    "    tutorial_finish_df[\"tutorial_id\"].isin(first_tutorial_ids)\n",
    "]\n",
    "tutorial_finish_df['user_id'].value_counts().mean()"
   ]
  },
  {
   "cell_type": "code",
   "execution_count": null,
   "metadata": {},
   "outputs": [
    {
     "name": "stdout",
     "output_type": "stream",
     "text": [
      "0 days 00:03:53.174160732\n",
      "count                         9830\n",
      "mean     0 days 00:03:53.174160732\n",
      "std      0 days 00:01:44.803217992\n",
      "min                0 days 00:00:16\n",
      "25%                0 days 00:02:28\n",
      "50%                0 days 00:03:42\n",
      "75%                0 days 00:05:08\n",
      "max                0 days 00:10:06\n",
      "Name: timedelta, dtype: object\n"
     ]
    }
   ],
   "source": [
    "tutorial_finish_df = tutorial_finish_df[[\"user_id\", \"start_time\"]].rename(\n",
    "    columns={\"start_time\": \"tutorial_finish_time\"}\n",
    ")\n",
    "merged_df_2 = tutorial_start_df_wo_duplicates.merge(\n",
    "    tutorial_finish_df, on=\"user_id\", how=\"inner\"\n",
    ")\n",
    "merged_df_2[\"timedelta\"] = (\n",
    "    merged_df_2[\"tutorial_finish_time\"] - merged_df_2[\"tutorial_start_time\"]\n",
    ")\n",
    "merged_df_2.head()\n",
    "print(merged_df_2[\"timedelta\"].mean())\n",
    "print(merged_df_2[\"timedelta\"].describe())"
   ]
  },
  {
   "cell_type": "code",
   "execution_count": null,
   "metadata": {},
   "outputs": [
    {
     "name": "stdout",
     "output_type": "stream",
     "text": [
      "1.0\n",
      "0 days 07:10:19.169863342\n",
      "count                         8342\n",
      "mean     0 days 07:10:19.169863342\n",
      "std      0 days 04:33:51.164488800\n",
      "min                0 days 00:08:15\n",
      "25%         0 days 03:53:16.500000\n",
      "50%                0 days 06:03:28\n",
      "75%         0 days 09:34:58.500000\n",
      "max                1 days 18:48:25\n",
      "Name: timedelta, dtype: object\n"
     ]
    }
   ],
   "source": [
    "level_choice_df = total_events_df[total_events_df[\"event_type\"] == \"level_choice\"]\n",
    "print(level_choice_df[\"user_id\"].value_counts().mean())\n",
    "level_choice_df = level_choice_df[[\"user_id\", \"start_time\"]].rename(\n",
    "    columns={\"start_time\": \"level_choice_time\"}\n",
    ")\n",
    "merged_df_3 = registration_df.merge(level_choice_df, on=\"user_id\", how=\"inner\")\n",
    "merged_df_3[\"timedelta\"] = (\n",
    "    merged_df_3[\"level_choice_time\"] - merged_df_3[\"registration_time\"]\n",
    ")\n",
    "print(merged_df_3[\"timedelta\"].mean())\n",
    "print(merged_df_3[\"timedelta\"].describe())"
   ]
  },
  {
   "cell_type": "markdown",
   "metadata": {},
   "source": [
    "#### Проверка аналитической гипотезы"
   ]
  },
  {
   "cell_type": "code",
   "execution_count": null,
   "metadata": {},
   "outputs": [
    {
     "name": "stdout",
     "output_type": "stream",
     "text": [
      "10250\n"
     ]
    }
   ],
   "source": [
    "users_with_finished_tutorial = total_events_df[\n",
    "    total_events_df[\"event_type\"] == \"tutorial_finish\"\n",
    "][\"user_id\"].unique()\n",
    "print(len(users_with_finished_tutorial))"
   ]
  },
  {
   "cell_type": "code",
   "execution_count": null,
   "metadata": {},
   "outputs": [
    {
     "name": "stdout",
     "output_type": "stream",
     "text": [
      "11858\n",
      "1608\n",
      "True\n"
     ]
    }
   ],
   "source": [
    "users_with_started_tutorial = total_events_df[\n",
    "    total_events_df[\"event_type\"] == \"tutorial_start\"\n",
    "][\"user_id\"].unique()\n",
    "set_users_with_started_tutorial = set(users_with_started_tutorial)\n",
    "set_users_not_finished_but_started_tutorial = (\n",
    "    set_users_with_started_tutorial.difference(set(users_with_finished_tutorial))\n",
    ")\n",
    "\n",
    "print(len(set_users_with_started_tutorial))\n",
    "print(len(set_users_not_finished_but_started_tutorial))\n",
    "print(\n",
    "    len(set_users_with_started_tutorial) - len(set(users_with_finished_tutorial))\n",
    "    == len(set_users_not_finished_but_started_tutorial)\n",
    ")"
   ]
  },
  {
   "cell_type": "code",
   "execution_count": null,
   "metadata": {},
   "outputs": [
    {
     "name": "stdout",
     "output_type": "stream",
     "text": [
      "8068\n",
      "True\n"
     ]
    }
   ],
   "source": [
    "all_users = total_events_df[\"user_id\"].unique()\n",
    "set_all_users = set(all_users)\n",
    "set_users_not_started_tutorial = set_all_users.difference(\n",
    "    set_users_with_started_tutorial\n",
    ")\n",
    "print(len(set_users_not_started_tutorial))\n",
    "print(\n",
    "    len(set_all_users) - len(set_users_with_started_tutorial)\n",
    "    == len(set_users_not_started_tutorial)\n",
    ")"
   ]
  },
  {
   "cell_type": "code",
   "execution_count": null,
   "metadata": {},
   "outputs": [
    {
     "data": {
      "text/plain": [
       "True"
      ]
     },
     "execution_count": 54,
     "metadata": {},
     "output_type": "execute_result"
    }
   ],
   "source": [
    "len(set_users_not_finished_but_started_tutorial) + len(set_users_not_started_tutorial) + len(users_with_finished_tutorial) == len(set_all_users)"
   ]
  },
  {
   "cell_type": "code",
   "execution_count": null,
   "metadata": {},
   "outputs": [
    {
     "data": {
      "text/plain": [
       "1447"
      ]
     },
     "execution_count": 55,
     "metadata": {},
     "output_type": "execute_result"
    }
   ],
   "source": [
    "purchase_df_1 = purchase_df[purchase_df[\"user_id\"].isin(users_with_finished_tutorial)]\n",
    "purchase_df_1['user_id'].nunique()"
   ]
  },
  {
   "cell_type": "code",
   "execution_count": null,
   "metadata": {},
   "outputs": [
    {
     "name": "stdout",
     "output_type": "stream",
     "text": [
      "Процент пользователей, которые оплатили тренировки (от числа пользователей, завершивших обучение): 14.12%\n"
     ]
    }
   ],
   "source": [
    "percent_of_purchase_1 = purchase_df_1[\"user_id\"].nunique() / len(\n",
    "    users_with_finished_tutorial\n",
    ")\n",
    "print(\n",
    "    \"Процент пользователей, которые оплатили тренировки (от числа пользователей, завершивших обучение): {:.2%}\".format(\n",
    "        percent_of_purchase_1\n",
    "    )\n",
    ")"
   ]
  },
  {
   "cell_type": "code",
   "execution_count": null,
   "metadata": {},
   "outputs": [
    {
     "data": {
      "text/plain": [
       "110.98825155494126"
      ]
     },
     "execution_count": 57,
     "metadata": {},
     "output_type": "execute_result"
    }
   ],
   "source": [
    "purchase_df_1['amount'].mean()"
   ]
  },
  {
   "cell_type": "code",
   "execution_count": null,
   "metadata": {},
   "outputs": [
    {
     "name": "stdout",
     "output_type": "stream",
     "text": [
      "131\n",
      "Процент пользователей, которые оплатили тренировки (от числа пользователей, начавших обучение, но не завершивших): 8.15%\n"
     ]
    }
   ],
   "source": [
    "purchase_df_2 = purchase_df[\n",
    "    purchase_df[\"user_id\"].isin(set_users_not_finished_but_started_tutorial)\n",
    "]\n",
    "print(purchase_df_2[\"user_id\"].nunique())\n",
    "percent_of_purchase_2 = purchase_df_2[\"user_id\"].nunique() / len(\n",
    "    set_users_not_finished_but_started_tutorial\n",
    ")\n",
    "print(\n",
    "    \"Процент пользователей, которые оплатили тренировки (от числа пользователей, начавших обучение, но не завершивших): {:.2%}\".format(\n",
    "        percent_of_purchase_2\n",
    "    )\n",
    ")"
   ]
  },
  {
   "cell_type": "code",
   "execution_count": null,
   "metadata": {},
   "outputs": [
    {
     "data": {
      "text/plain": [
       "104.9618320610687"
      ]
     },
     "execution_count": 59,
     "metadata": {},
     "output_type": "execute_result"
    }
   ],
   "source": [
    "purchase_df_2['amount'].mean()"
   ]
  },
  {
   "cell_type": "code",
   "execution_count": null,
   "metadata": {},
   "outputs": [
    {
     "name": "stdout",
     "output_type": "stream",
     "text": [
      "131\n",
      "Процент пользователей, которые оплатили тренировки (от числа пользователей, начавших обучение, но не завершивших): 8.15%\n"
     ]
    }
   ],
   "source": [
    "purchase_df_2 = purchase_df[\n",
    "    purchase_df[\"user_id\"].isin(set_users_not_finished_but_started_tutorial)\n",
    "]\n",
    "print(purchase_df_2[\"user_id\"].nunique())\n",
    "percent_of_purchase_2 = purchase_df_2[\"user_id\"].nunique() / len(\n",
    "    set_users_not_finished_but_started_tutorial\n",
    ")\n",
    "print(\n",
    "    \"Процент пользователей, которые оплатили тренировки (от числа пользователей, начавших обучение, но не завершивших): {:.2%}\".format(\n",
    "        percent_of_purchase_2\n",
    "    )\n",
    ")"
   ]
  },
  {
   "cell_type": "code",
   "execution_count": null,
   "metadata": {},
   "outputs": [
    {
     "data": {
      "text/plain": [
       "104.9618320610687"
      ]
     },
     "execution_count": 61,
     "metadata": {},
     "output_type": "execute_result"
    }
   ],
   "source": [
    "purchase_df_2['amount'].mean()"
   ]
  },
  {
   "cell_type": "code",
   "execution_count": null,
   "metadata": {},
   "outputs": [],
   "source": []
  },
  {
   "cell_type": "code",
   "execution_count": null,
   "metadata": {},
   "outputs": [],
   "source": []
  },
  {
   "cell_type": "code",
   "execution_count": null,
   "metadata": {},
   "outputs": [],
   "source": []
  }
 ],
 "metadata": {
  "interpreter": {
   "hash": "aecd030d4c8316a52bf122072e28f84bcc79844c2684e041fef2e3f1d9f59078"
  },
  "kernelspec": {
   "display_name": "Python 3.10.0 64-bit",
   "language": "python",
   "name": "python3"
  },
  "language_info": {
   "codemirror_mode": {
    "name": "ipython",
    "version": 3
   },
   "file_extension": ".py",
   "mimetype": "text/x-python",
   "name": "python",
   "nbconvert_exporter": "python",
   "pygments_lexer": "ipython3",
   "version": "3.10.0"
  },
  "orig_nbformat": 4
 },
 "nbformat": 4,
 "nbformat_minor": 2
}
