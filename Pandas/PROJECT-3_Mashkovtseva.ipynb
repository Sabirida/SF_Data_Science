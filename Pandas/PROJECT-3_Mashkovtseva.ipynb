{
 "cells": [
  {
   "cell_type": "markdown",
   "metadata": {},
   "source": [
    "# PROJECT-3. Исследование поведения пользователей\n",
    "#### Работу выполнила: Машковцева Дарья\n",
    "\n",
    "Задание: \n",
    "1. Исследовать зависимость вероятности оплаты от выбранного пользователем уровня сложности.\n",
    "2. Существует ли разница во времени между событиями регистрации и оплаты для разных групп пользователей с разным уровнем сложности?\n",
    "\n",
    "! Расчеты выполняются на основе данных пользователей, которые зарегистрировались в 2018 году."
   ]
  },
  {
   "cell_type": "markdown",
   "metadata": {},
   "source": [
    "Краткий аглоритм работы:\n",
    "1. Получите данные из файла.\n",
    "2. Произведите обзор данных и преобразование данных, если оно необходимо.\n",
    "3. Выделите группы пользователей (по аналогии с группами, которые мы выделяли, когда находили зависимость между фактом прохождения обучения и оплатой).\n",
    "4. Рассчитайте для каждой группы процент оплат (это мы тоже уже делали).\n",
    "5. Для каждой группы сделайте по два датафрейма: один — с событиями выбора уровня сложности, другой — с событиями оплаты.\n",
    "6. Объедините датафреймы в рамках одной группы и найдите разницу во времени между событиями (по аналогии с расчётом, который мы уже производили, когда находили время между событиями для всех пользователей).\n",
    "7. Рассчитайте среднее время между событиями."
   ]
  },
  {
   "cell_type": "code",
   "execution_count": null,
   "metadata": {},
   "outputs": [],
   "source": [
    "# Импорт библиотек и выгрузка данных\n",
    "\n",
    "import pandas as pd\n",
    "import psycopg2\n",
    "import psycopg2.extras \n",
    "import numpy as np\n",
    "\n",
    "def getEventsData():\n",
    "    query = '''SELECT e.* FROM case8.events e\n",
    "    WHERE e.user_id in\n",
    "    (SELECT DISTINCT(user_id) \n",
    "    FROM case8.events \n",
    "    WHERE event_type = 'registration' \n",
    "    AND start_time >= '2017-01-01'\n",
    "    AND start_time < '2018-01-01')\n",
    "    '''.format()\n",
    "    conn = psycopg2.connect(\"dbname='skillfactory' user='skillfactory' host='lms.skillfactory.ru' password='cCkxxLVrDE8EbvjueeMedPKt' port=5432\")\n",
    "    dict_cur = conn.cursor(cursor_factory=psycopg2.extras.DictCursor)\n",
    "    dict_cur.execute(query)\n",
    "    rows = dict_cur.fetchall()\n",
    "    data = []\n",
    "    for row in rows:\n",
    "        data.append(dict(row))\n",
    "    return data\n",
    "\n",
    "def getPurchaseData():\n",
    "    query = '''SELECT p.* FROM case8.purchase p\n",
    "    WHERE p.user_id in\n",
    "    (SELECT DISTINCT(user_id) \n",
    "    FROM case8.events \n",
    "    WHERE event_type = 'registration' \n",
    "    AND start_time >= '2017-01-01'\n",
    "    AND start_time < '2018-01-01')\n",
    "    '''.format()\n",
    "    conn = psycopg2.connect(\"dbname='skillfactory' user='skillfactory' host='lms.skillfactory.ru' password='cCkxxLVrDE8EbvjueeMedPKt' port=5432\")\n",
    "    dict_cur = conn.cursor(cursor_factory=psycopg2.extras.DictCursor)\n",
    "    dict_cur.execute(query)\n",
    "    rows = dict_cur.fetchall()\n",
    "    data = []\n",
    "    for row in rows:\n",
    "        data.append(dict(row))\n",
    "    return data\n",
    "\n",
    "events_df = pd.DataFrame(getEventsData())\n",
    "purchase_df = pd.DataFrame(getPurchaseData())"
   ]
  }
 ],
 "metadata": {
  "language_info": {
   "name": "python"
  },
  "orig_nbformat": 4
 },
 "nbformat": 4,
 "nbformat_minor": 2
}
