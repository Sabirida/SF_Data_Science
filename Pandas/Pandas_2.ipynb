{
 "cells": [
  {
   "cell_type": "markdown",
   "metadata": {},
   "source": [
    "## Очистка данных "
   ]
  },
  {
   "cell_type": "markdown",
   "metadata": {},
   "source": [
    "Предобработка данных состоит из следующих этапов:\n",
    "\n",
    "1. Загрузка\n",
    "2. Очистка\n",
    "3. Обогащение / Feature Engineering\n",
    "4. Анализ"
   ]
  },
  {
   "cell_type": "markdown",
   "metadata": {},
   "source": [
    "header = None — загрузить без строки с заголовком;\n",
    "skiprows=n — пропустить n строк (часто у документов бывает техническая «шапка»);\n",
    "encoding — загрузить в конкретной кодировке;\n",
    "na_values — список значений, который нужно заменить на NaN (специальный объект, обозначающий пропущенное значение)."
   ]
  },
  {
   "cell_type": "code",
   "execution_count": 6,
   "metadata": {},
   "outputs": [
    {
     "data": {
      "text/html": [
       "<div>\n",
       "<style scoped>\n",
       "    .dataframe tbody tr th:only-of-type {\n",
       "        vertical-align: middle;\n",
       "    }\n",
       "\n",
       "    .dataframe tbody tr th {\n",
       "        vertical-align: top;\n",
       "    }\n",
       "\n",
       "    .dataframe thead th {\n",
       "        text-align: right;\n",
       "    }\n",
       "</style>\n",
       "<table border=\"1\" class=\"dataframe\">\n",
       "  <thead>\n",
       "    <tr style=\"text-align: right;\">\n",
       "      <th></th>\n",
       "      <th>0</th>\n",
       "      <th>1</th>\n",
       "      <th>2</th>\n",
       "      <th>3</th>\n",
       "    </tr>\n",
       "  </thead>\n",
       "  <tbody>\n",
       "    <tr>\n",
       "      <th>0</th>\n",
       "      <td>Запись пользователя № - user_919</td>\n",
       "      <td>[2019-01-01 14:06:51</td>\n",
       "      <td>NaN</td>\n",
       "      <td>NaN</td>\n",
       "    </tr>\n",
       "    <tr>\n",
       "      <th>1</th>\n",
       "      <td>Запись пользователя № - user_973</td>\n",
       "      <td>[2019-01-01 14:51:16</td>\n",
       "      <td>NaN</td>\n",
       "      <td>NaN</td>\n",
       "    </tr>\n",
       "    <tr>\n",
       "      <th>2</th>\n",
       "      <td>Запись пользователя № - user_903</td>\n",
       "      <td>[2019-01-01 16:31:16</td>\n",
       "      <td>NaN</td>\n",
       "      <td>NaN</td>\n",
       "    </tr>\n",
       "    <tr>\n",
       "      <th>3</th>\n",
       "      <td>Запись пользователя № - user_954</td>\n",
       "      <td>[2019-01-01 17:17:51</td>\n",
       "      <td>NaN</td>\n",
       "      <td>NaN</td>\n",
       "    </tr>\n",
       "    <tr>\n",
       "      <th>4</th>\n",
       "      <td>Запись пользователя № - user_954</td>\n",
       "      <td>[2019-01-01 21:31:18</td>\n",
       "      <td>NaN</td>\n",
       "      <td>NaN</td>\n",
       "    </tr>\n",
       "  </tbody>\n",
       "</table>\n",
       "</div>"
      ],
      "text/plain": [
       "                                  0                     1   2   3\n",
       "0  Запись пользователя № - user_919  [2019-01-01 14:06:51 NaN NaN\n",
       "1  Запись пользователя № - user_973  [2019-01-01 14:51:16 NaN NaN\n",
       "2  Запись пользователя № - user_903  [2019-01-01 16:31:16 NaN NaN\n",
       "3  Запись пользователя № - user_954  [2019-01-01 17:17:51 NaN NaN\n",
       "4  Запись пользователя № - user_954  [2019-01-01 21:31:18 NaN NaN"
      ]
     },
     "execution_count": 6,
     "metadata": {},
     "output_type": "execute_result"
    }
   ],
   "source": [
    "import pandas as pd\n",
    "\n",
    "log = pd.read_csv('data/log.csv', header = None)\n",
    "log.head()"
   ]
  },
  {
   "cell_type": "code",
   "execution_count": 2,
   "metadata": {},
   "outputs": [
    {
     "data": {
      "text/html": [
       "<div>\n",
       "<style scoped>\n",
       "    .dataframe tbody tr th:only-of-type {\n",
       "        vertical-align: middle;\n",
       "    }\n",
       "\n",
       "    .dataframe tbody tr th {\n",
       "        vertical-align: top;\n",
       "    }\n",
       "\n",
       "    .dataframe thead th {\n",
       "        text-align: right;\n",
       "    }\n",
       "</style>\n",
       "<table border=\"1\" class=\"dataframe\">\n",
       "  <thead>\n",
       "    <tr style=\"text-align: right;\">\n",
       "      <th></th>\n",
       "      <th>user_id</th>\n",
       "      <th>time</th>\n",
       "      <th>bet</th>\n",
       "      <th>win</th>\n",
       "    </tr>\n",
       "  </thead>\n",
       "  <tbody>\n",
       "    <tr>\n",
       "      <th>0</th>\n",
       "      <td>Запись пользователя № - user_919</td>\n",
       "      <td>[2019-01-01 14:06:51</td>\n",
       "      <td>NaN</td>\n",
       "      <td>NaN</td>\n",
       "    </tr>\n",
       "    <tr>\n",
       "      <th>1</th>\n",
       "      <td>Запись пользователя № - user_973</td>\n",
       "      <td>[2019-01-01 14:51:16</td>\n",
       "      <td>NaN</td>\n",
       "      <td>NaN</td>\n",
       "    </tr>\n",
       "    <tr>\n",
       "      <th>2</th>\n",
       "      <td>Запись пользователя № - user_903</td>\n",
       "      <td>[2019-01-01 16:31:16</td>\n",
       "      <td>NaN</td>\n",
       "      <td>NaN</td>\n",
       "    </tr>\n",
       "    <tr>\n",
       "      <th>3</th>\n",
       "      <td>Запись пользователя № - user_954</td>\n",
       "      <td>[2019-01-01 17:17:51</td>\n",
       "      <td>NaN</td>\n",
       "      <td>NaN</td>\n",
       "    </tr>\n",
       "    <tr>\n",
       "      <th>4</th>\n",
       "      <td>Запись пользователя № - user_954</td>\n",
       "      <td>[2019-01-01 21:31:18</td>\n",
       "      <td>NaN</td>\n",
       "      <td>NaN</td>\n",
       "    </tr>\n",
       "  </tbody>\n",
       "</table>\n",
       "</div>"
      ],
      "text/plain": [
       "                            user_id                  time  bet  win\n",
       "0  Запись пользователя № - user_919  [2019-01-01 14:06:51  NaN  NaN\n",
       "1  Запись пользователя № - user_973  [2019-01-01 14:51:16  NaN  NaN\n",
       "2  Запись пользователя № - user_903  [2019-01-01 16:31:16  NaN  NaN\n",
       "3  Запись пользователя № - user_954  [2019-01-01 17:17:51  NaN  NaN\n",
       "4  Запись пользователя № - user_954  [2019-01-01 21:31:18  NaN  NaN"
      ]
     },
     "execution_count": 2,
     "metadata": {},
     "output_type": "execute_result"
    }
   ],
   "source": [
    "log.columns = [\"user_id\", \"time\", \"bet\", \"win\"]\n",
    "log.head()"
   ]
  },
  {
   "cell_type": "code",
   "execution_count": 3,
   "metadata": {},
   "outputs": [
    {
     "data": {
      "text/html": [
       "<div>\n",
       "<style scoped>\n",
       "    .dataframe tbody tr th:only-of-type {\n",
       "        vertical-align: middle;\n",
       "    }\n",
       "\n",
       "    .dataframe tbody tr th {\n",
       "        vertical-align: top;\n",
       "    }\n",
       "\n",
       "    .dataframe thead th {\n",
       "        text-align: right;\n",
       "    }\n",
       "</style>\n",
       "<table border=\"1\" class=\"dataframe\">\n",
       "  <thead>\n",
       "    <tr style=\"text-align: right;\">\n",
       "      <th></th>\n",
       "      <th>user_id</th>\n",
       "      <th>email</th>\n",
       "      <th>geo</th>\n",
       "    </tr>\n",
       "  </thead>\n",
       "  <tbody>\n",
       "    <tr>\n",
       "      <th>0</th>\n",
       "      <td>User_943</td>\n",
       "      <td>Accumanst@gmail.com</td>\n",
       "      <td>Ижевск</td>\n",
       "    </tr>\n",
       "    <tr>\n",
       "      <th>1</th>\n",
       "      <td>User_908</td>\n",
       "      <td>Advismowr@mail.ru</td>\n",
       "      <td>Ижевск</td>\n",
       "    </tr>\n",
       "    <tr>\n",
       "      <th>2</th>\n",
       "      <td>User_962</td>\n",
       "      <td>Anachso@ukr.net</td>\n",
       "      <td>Краснодар</td>\n",
       "    </tr>\n",
       "    <tr>\n",
       "      <th>3</th>\n",
       "      <td>User_973</td>\n",
       "      <td>Antecia@inbox.ru</td>\n",
       "      <td>Пермь</td>\n",
       "    </tr>\n",
       "    <tr>\n",
       "      <th>4</th>\n",
       "      <td>User_902</td>\n",
       "      <td>Balliaryva@ukr.net</td>\n",
       "      <td>NaN</td>\n",
       "    </tr>\n",
       "  </tbody>\n",
       "</table>\n",
       "</div>"
      ],
      "text/plain": [
       "    user_id                email        geo\n",
       "0  User_943  Accumanst@gmail.com     Ижевск\n",
       "1  User_908    Advismowr@mail.ru     Ижевск\n",
       "2  User_962      Anachso@ukr.net  Краснодар\n",
       "3  User_973     Antecia@inbox.ru      Пермь\n",
       "4  User_902   Balliaryva@ukr.net        NaN"
      ]
     },
     "execution_count": 3,
     "metadata": {},
     "output_type": "execute_result"
    }
   ],
   "source": [
    "users = pd.read_csv('data/users.csv', sep=\"\\t\", encoding=\"koi8_r\")\n",
    "users.columns = [\"user_id\", \"email\", \"geo\"]\n",
    "users.head()"
   ]
  },
  {
   "cell_type": "code",
   "execution_count": 4,
   "metadata": {},
   "outputs": [
    {
     "data": {
      "text/html": [
       "<div>\n",
       "<style scoped>\n",
       "    .dataframe tbody tr th:only-of-type {\n",
       "        vertical-align: middle;\n",
       "    }\n",
       "\n",
       "    .dataframe tbody tr th {\n",
       "        vertical-align: top;\n",
       "    }\n",
       "\n",
       "    .dataframe thead th {\n",
       "        text-align: right;\n",
       "    }\n",
       "</style>\n",
       "<table border=\"1\" class=\"dataframe\">\n",
       "  <thead>\n",
       "    <tr style=\"text-align: right;\">\n",
       "      <th></th>\n",
       "      <th>name</th>\n",
       "      <th>city</th>\n",
       "      <th>age</th>\n",
       "      <th>profession</th>\n",
       "    </tr>\n",
       "  </thead>\n",
       "  <tbody>\n",
       "    <tr>\n",
       "      <th>0</th>\n",
       "      <td>Иванов</td>\n",
       "      <td>Москва</td>\n",
       "      <td>25</td>\n",
       "      <td>Клинер</td>\n",
       "    </tr>\n",
       "    <tr>\n",
       "      <th>1</th>\n",
       "      <td>NaN</td>\n",
       "      <td>Волгоград</td>\n",
       "      <td>31</td>\n",
       "      <td>Менеджер</td>\n",
       "    </tr>\n",
       "    <tr>\n",
       "      <th>2</th>\n",
       "      <td>Иванов</td>\n",
       "      <td>Москва</td>\n",
       "      <td>25</td>\n",
       "      <td>Клинер</td>\n",
       "    </tr>\n",
       "    <tr>\n",
       "      <th>3</th>\n",
       "      <td>sidorov</td>\n",
       "      <td>Владивосток</td>\n",
       "      <td>43</td>\n",
       "      <td>Менеджер</td>\n",
       "    </tr>\n",
       "    <tr>\n",
       "      <th>4</th>\n",
       "      <td>_______</td>\n",
       "      <td>Курск</td>\n",
       "      <td>50</td>\n",
       "      <td>Водитель</td>\n",
       "    </tr>\n",
       "  </tbody>\n",
       "</table>\n",
       "</div>"
      ],
      "text/plain": [
       "      name         city  age profession\n",
       "0   Иванов       Москва   25     Клинер\n",
       "1      NaN    Волгоград   31   Менеджер\n",
       "2   Иванов       Москва   25     Клинер\n",
       "3  sidorov  Владивосток   43   Менеджер\n",
       "4  _______        Курск   50   Водитель"
      ]
     },
     "execution_count": 4,
     "metadata": {},
     "output_type": "execute_result"
    }
   ],
   "source": [
    "sample = pd.read_csv('data/sample.csv')\n",
    "columns = sample.columns\n",
    "sample.columns = [\"name\", \"city\", \"age\", \"profession\"]\n",
    "sample.head()"
   ]
  },
  {
   "cell_type": "code",
   "execution_count": 5,
   "metadata": {},
   "outputs": [
    {
     "data": {
      "text/plain": [
       "array(['Клинер', 'Менеджер', 'Водитель', 'Рабочий'], dtype=object)"
      ]
     },
     "execution_count": 5,
     "metadata": {},
     "output_type": "execute_result"
    }
   ],
   "source": [
    "sample.profession.unique()"
   ]
  },
  {
   "cell_type": "code",
   "execution_count": 7,
   "metadata": {},
   "outputs": [
    {
     "name": "stdout",
     "output_type": "stream",
     "text": [
      "<class 'pandas.core.frame.DataFrame'>\n",
      "RangeIndex: 1000 entries, 0 to 999\n",
      "Data columns (total 4 columns):\n",
      " #   Column   Non-Null Count  Dtype  \n",
      "---  ------   --------------  -----  \n",
      " 0   user_id  1000 non-null   object \n",
      " 1   time     985 non-null    object \n",
      " 2   bet      485 non-null    float64\n",
      " 3   win      138 non-null    float64\n",
      "dtypes: float64(2), object(2)\n",
      "memory usage: 31.4+ KB\n"
     ]
    }
   ],
   "source": [
    "log.info()"
   ]
  },
  {
   "cell_type": "code",
   "execution_count": 8,
   "metadata": {},
   "outputs": [
    {
     "data": {
      "text/plain": [
       "array([         nan, 1.987653e+06, 9.876543e+06, 4.749000e+03,\n",
       "       4.667000e+03, 4.319000e+03, 2.706800e+04, 2.956500e+04,\n",
       "       5.069000e+03, 6.294000e+03, 6.516000e+03, 5.290000e+03,\n",
       "       6.067000e+03, 5.456000e+03, 6.726000e+03, 5.035000e+03,\n",
       "       5.245000e+03, 5.266000e+03, 3.691000e+03, 4.829000e+03,\n",
       "       5.066000e+03, 4.378000e+03, 4.894000e+03, 4.889000e+03,\n",
       "       5.237000e+03, 5.590000e+03, 5.889000e+03, 3.927000e+03,\n",
       "       5.323000e+03, 6.916000e+03, 6.480000e+03, 5.638000e+03,\n",
       "       4.119000e+03, 4.216000e+03, 6.387000e+03, 3.834000e+03,\n",
       "       5.409000e+03, 4.580000e+03, 4.845000e+03, 3.794000e+03,\n",
       "       6.766000e+03, 4.021000e+03, 6.449000e+03, 4.056000e+03,\n",
       "       5.326000e+03, 4.159000e+03, 6.621000e+03, 4.999000e+03,\n",
       "       5.724000e+03, 5.950000e+03, 5.520000e+03, 5.629000e+03,\n",
       "       5.650000e+03, 5.084000e+03, 5.260000e+03, 6.108000e+03,\n",
       "       3.736000e+03, 7.032000e+03, 7.494000e+03, 6.080000e+03,\n",
       "       7.189000e+03, 5.217000e+03, 4.733000e+03, 6.359000e+03,\n",
       "       4.812000e+03, 5.920000e+03, 4.824000e+03, 4.633000e+03,\n",
       "       5.512000e+03, 5.503000e+03, 7.250000e+03, 5.387000e+03,\n",
       "       6.309000e+03, 4.770000e+03, 4.744000e+03, 5.763000e+03,\n",
       "       6.996000e+03, 7.384000e+03, 5.737000e+03, 3.101600e+04,\n",
       "       5.616000e+03, 6.439000e+03, 6.575000e+03, 5.357000e+03,\n",
       "       2.998100e+04, 7.564000e+03, 5.515000e+03, 2.971900e+04,\n",
       "       2.932400e+04, 4.550000e+03, 3.005600e+04, 6.394000e+03,\n",
       "       5.036000e+03, 4.701000e+03, 3.038600e+04, 6.431000e+03,\n",
       "       6.313000e+03, 5.450000e+03, 7.078000e+03, 5.133000e+03,\n",
       "       3.007100e+04, 3.058800e+04, 5.305000e+03, 6.610000e+03,\n",
       "       5.398000e+03, 7.382000e+03, 6.134000e+03, 5.340000e+03,\n",
       "       5.778000e+03, 2.934600e+04, 6.173000e+03, 5.453000e+03,\n",
       "       4.650000e+03, 6.171000e+03, 3.038100e+04, 3.118800e+04,\n",
       "       6.802000e+03, 6.363000e+03, 6.382000e+03, 3.148500e+04,\n",
       "       6.570000e+03, 6.640000e+03, 2.983900e+04, 5.213000e+03,\n",
       "       6.072000e+03, 5.997000e+03, 6.767000e+03, 3.227900e+04,\n",
       "       3.179900e+04, 3.024400e+04, 3.069100e+04, 3.011700e+04,\n",
       "       7.035000e+03, 2.997200e+04, 3.163400e+04, 6.927000e+03,\n",
       "       2.926500e+04])"
      ]
     },
     "execution_count": 8,
     "metadata": {},
     "output_type": "execute_result"
    }
   ],
   "source": [
    "log.win.unique()"
   ]
  },
  {
   "cell_type": "code",
   "execution_count": 15,
   "metadata": {},
   "outputs": [
    {
     "name": "stdout",
     "output_type": "stream",
     "text": [
      "<class 'pandas.core.frame.DataFrame'>\n",
      "Int64Index: 0 entries\n",
      "Data columns (total 4 columns):\n",
      " #   Column   Non-Null Count  Dtype  \n",
      "---  ------   --------------  -----  \n",
      " 0   user_id  0 non-null      object \n",
      " 1   time     0 non-null      object \n",
      " 2   bet      0 non-null      float64\n",
      " 3   win      0 non-null      float64\n",
      "dtypes: float64(2), object(2)\n",
      "memory usage: 0.0+ bytes\n"
     ]
    }
   ],
   "source": [
    "log_win = log[log['win'] != None]\n",
    "win_count = log_win['user_id'].count()\n",
    "log_win.info()"
   ]
  },
  {
   "cell_type": "code",
   "execution_count": 10,
   "metadata": {},
   "outputs": [
    {
     "name": "stdout",
     "output_type": "stream",
     "text": [
      "1000\n"
     ]
    }
   ],
   "source": [
    "print(win_count)"
   ]
  },
  {
   "cell_type": "code",
   "execution_count": 18,
   "metadata": {},
   "outputs": [
    {
     "data": {
      "text/html": [
       "<div>\n",
       "<style scoped>\n",
       "    .dataframe tbody tr th:only-of-type {\n",
       "        vertical-align: middle;\n",
       "    }\n",
       "\n",
       "    .dataframe tbody tr th {\n",
       "        vertical-align: top;\n",
       "    }\n",
       "\n",
       "    .dataframe thead th {\n",
       "        text-align: right;\n",
       "    }\n",
       "</style>\n",
       "<table border=\"1\" class=\"dataframe\">\n",
       "  <thead>\n",
       "    <tr style=\"text-align: right;\">\n",
       "      <th></th>\n",
       "      <th>name</th>\n",
       "      <th>city</th>\n",
       "      <th>age</th>\n",
       "      <th>profession</th>\n",
       "    </tr>\n",
       "  </thead>\n",
       "  <tbody>\n",
       "    <tr>\n",
       "      <th>0</th>\n",
       "      <td>Иванов</td>\n",
       "      <td>Москва</td>\n",
       "      <td>25</td>\n",
       "      <td>Клинер</td>\n",
       "    </tr>\n",
       "    <tr>\n",
       "      <th>1</th>\n",
       "      <td>NaN</td>\n",
       "      <td>Волгоград</td>\n",
       "      <td>31</td>\n",
       "      <td>Менеджер</td>\n",
       "    </tr>\n",
       "    <tr>\n",
       "      <th>2</th>\n",
       "      <td>Иванов</td>\n",
       "      <td>Москва</td>\n",
       "      <td>25</td>\n",
       "      <td>Клинер</td>\n",
       "    </tr>\n",
       "    <tr>\n",
       "      <th>3</th>\n",
       "      <td>sidorov</td>\n",
       "      <td>Владивосток</td>\n",
       "      <td>43</td>\n",
       "      <td>Менеджер</td>\n",
       "    </tr>\n",
       "    <tr>\n",
       "      <th>4</th>\n",
       "      <td>_______</td>\n",
       "      <td>Курск</td>\n",
       "      <td>50</td>\n",
       "      <td>Водитель</td>\n",
       "    </tr>\n",
       "    <tr>\n",
       "      <th>6</th>\n",
       "      <td>Сажин</td>\n",
       "      <td>Сургут</td>\n",
       "      <td>29</td>\n",
       "      <td>Рабочий</td>\n",
       "    </tr>\n",
       "    <tr>\n",
       "      <th>7</th>\n",
       "      <td>Котлеревский</td>\n",
       "      <td>Йошкар-Ола</td>\n",
       "      <td>32</td>\n",
       "      <td>Рабочий</td>\n",
       "    </tr>\n",
       "    <tr>\n",
       "      <th>8</th>\n",
       "      <td>Завалишина</td>\n",
       "      <td>Чебоксары</td>\n",
       "      <td>36</td>\n",
       "      <td>Менеджер</td>\n",
       "    </tr>\n",
       "    <tr>\n",
       "      <th>9</th>\n",
       "      <td>Левина</td>\n",
       "      <td>NaN</td>\n",
       "      <td>55</td>\n",
       "      <td>Рабочий</td>\n",
       "    </tr>\n",
       "    <tr>\n",
       "      <th>10</th>\n",
       "      <td>Фикс</td>\n",
       "      <td>Рига</td>\n",
       "      <td>42</td>\n",
       "      <td>Рабочий</td>\n",
       "    </tr>\n",
       "  </tbody>\n",
       "</table>\n",
       "</div>"
      ],
      "text/plain": [
       "            name         city  age profession\n",
       "0         Иванов       Москва   25     Клинер\n",
       "1            NaN    Волгоград   31   Менеджер\n",
       "2         Иванов       Москва   25     Клинер\n",
       "3        sidorov  Владивосток   43   Менеджер\n",
       "4        _______        Курск   50   Водитель\n",
       "6          Сажин       Сургут   29    Рабочий\n",
       "7   Котлеревский   Йошкар-Ола   32    Рабочий\n",
       "8     Завалишина    Чебоксары   36   Менеджер\n",
       "9         Левина          NaN   55    Рабочий\n",
       "10          Фикс         Рига   42    Рабочий"
      ]
     },
     "execution_count": 18,
     "metadata": {},
     "output_type": "execute_result"
    }
   ],
   "source": [
    "#Сравнение\n",
    "\n",
    "sample.query('age > 20')"
   ]
  },
  {
   "cell_type": "code",
   "execution_count": 19,
   "metadata": {},
   "outputs": [
    {
     "data": {
      "text/html": [
       "<div>\n",
       "<style scoped>\n",
       "    .dataframe tbody tr th:only-of-type {\n",
       "        vertical-align: middle;\n",
       "    }\n",
       "\n",
       "    .dataframe tbody tr th {\n",
       "        vertical-align: top;\n",
       "    }\n",
       "\n",
       "    .dataframe thead th {\n",
       "        text-align: right;\n",
       "    }\n",
       "</style>\n",
       "<table border=\"1\" class=\"dataframe\">\n",
       "  <thead>\n",
       "    <tr style=\"text-align: right;\">\n",
       "      <th></th>\n",
       "      <th>name</th>\n",
       "      <th>city</th>\n",
       "      <th>age</th>\n",
       "      <th>profession</th>\n",
       "    </tr>\n",
       "  </thead>\n",
       "  <tbody>\n",
       "    <tr>\n",
       "      <th>0</th>\n",
       "      <td>Иванов</td>\n",
       "      <td>Москва</td>\n",
       "      <td>25</td>\n",
       "      <td>Клинер</td>\n",
       "    </tr>\n",
       "    <tr>\n",
       "      <th>2</th>\n",
       "      <td>Иванов</td>\n",
       "      <td>Москва</td>\n",
       "      <td>25</td>\n",
       "      <td>Клинер</td>\n",
       "    </tr>\n",
       "  </tbody>\n",
       "</table>\n",
       "</div>"
      ],
      "text/plain": [
       "     name    city  age profession\n",
       "0  Иванов  Москва   25     Клинер\n",
       "2  Иванов  Москва   25     Клинер"
      ]
     },
     "execution_count": 19,
     "metadata": {},
     "output_type": "execute_result"
    }
   ],
   "source": [
    "#Равенство\n",
    "\n",
    "sample.query('age==25')"
   ]
  },
  {
   "cell_type": "code",
   "execution_count": 21,
   "metadata": {},
   "outputs": [
    {
     "data": {
      "text/html": [
       "<div>\n",
       "<style scoped>\n",
       "    .dataframe tbody tr th:only-of-type {\n",
       "        vertical-align: middle;\n",
       "    }\n",
       "\n",
       "    .dataframe tbody tr th {\n",
       "        vertical-align: top;\n",
       "    }\n",
       "\n",
       "    .dataframe thead th {\n",
       "        text-align: right;\n",
       "    }\n",
       "</style>\n",
       "<table border=\"1\" class=\"dataframe\">\n",
       "  <thead>\n",
       "    <tr style=\"text-align: right;\">\n",
       "      <th></th>\n",
       "      <th>name</th>\n",
       "      <th>city</th>\n",
       "      <th>age</th>\n",
       "      <th>profession</th>\n",
       "    </tr>\n",
       "  </thead>\n",
       "  <tbody>\n",
       "    <tr>\n",
       "      <th>5</th>\n",
       "      <td>Кузнецов</td>\n",
       "      <td>Сочи</td>\n",
       "      <td>19</td>\n",
       "      <td>Рабочий</td>\n",
       "    </tr>\n",
       "    <tr>\n",
       "      <th>10</th>\n",
       "      <td>Фикс</td>\n",
       "      <td>Рига</td>\n",
       "      <td>42</td>\n",
       "      <td>Рабочий</td>\n",
       "    </tr>\n",
       "  </tbody>\n",
       "</table>\n",
       "</div>"
      ],
      "text/plain": [
       "        name  city  age profession\n",
       "5   Кузнецов  Сочи   19    Рабочий\n",
       "10      Фикс  Рига   42    Рабочий"
      ]
     },
     "execution_count": 21,
     "metadata": {},
     "output_type": "execute_result"
    }
   ],
   "source": [
    "#Входит в список\n",
    "\n",
    "sample.query('city in [\"Рига\",\"Сочи\"]')"
   ]
  },
  {
   "cell_type": "code",
   "execution_count": 22,
   "metadata": {},
   "outputs": [
    {
     "data": {
      "text/html": [
       "<div>\n",
       "<style scoped>\n",
       "    .dataframe tbody tr th:only-of-type {\n",
       "        vertical-align: middle;\n",
       "    }\n",
       "\n",
       "    .dataframe tbody tr th {\n",
       "        vertical-align: top;\n",
       "    }\n",
       "\n",
       "    .dataframe thead th {\n",
       "        text-align: right;\n",
       "    }\n",
       "</style>\n",
       "<table border=\"1\" class=\"dataframe\">\n",
       "  <thead>\n",
       "    <tr style=\"text-align: right;\">\n",
       "      <th></th>\n",
       "      <th>name</th>\n",
       "      <th>city</th>\n",
       "      <th>age</th>\n",
       "      <th>profession</th>\n",
       "    </tr>\n",
       "  </thead>\n",
       "  <tbody>\n",
       "    <tr>\n",
       "      <th>6</th>\n",
       "      <td>Сажин</td>\n",
       "      <td>Сургут</td>\n",
       "      <td>29</td>\n",
       "      <td>Рабочий</td>\n",
       "    </tr>\n",
       "    <tr>\n",
       "      <th>10</th>\n",
       "      <td>Фикс</td>\n",
       "      <td>Рига</td>\n",
       "      <td>42</td>\n",
       "      <td>Рабочий</td>\n",
       "    </tr>\n",
       "  </tbody>\n",
       "</table>\n",
       "</div>"
      ],
      "text/plain": [
       "     name    city  age profession\n",
       "6   Сажин  Сургут   29    Рабочий\n",
       "10   Фикс    Рига   42    Рабочий"
      ]
     },
     "execution_count": 22,
     "metadata": {},
     "output_type": "execute_result"
    }
   ],
   "source": [
    "#Несколько условий сразу\n",
    "\n",
    "sample.query('city in [\"Рига\", \"Сочи\", \"Чебоксары\", \"Сургут\"] & 21<age<50 & profession!=\"Менеджер\"')"
   ]
  },
  {
   "cell_type": "markdown",
   "metadata": {},
   "source": [
    "Фильтрация с помощью str.match и str.contains"
   ]
  },
  {
   "cell_type": "code",
   "execution_count": 25,
   "metadata": {},
   "outputs": [
    {
     "data": {
      "text/html": [
       "<div>\n",
       "<style scoped>\n",
       "    .dataframe tbody tr th:only-of-type {\n",
       "        vertical-align: middle;\n",
       "    }\n",
       "\n",
       "    .dataframe tbody tr th {\n",
       "        vertical-align: top;\n",
       "    }\n",
       "\n",
       "    .dataframe thead th {\n",
       "        text-align: right;\n",
       "    }\n",
       "</style>\n",
       "<table border=\"1\" class=\"dataframe\">\n",
       "  <thead>\n",
       "    <tr style=\"text-align: right;\">\n",
       "      <th></th>\n",
       "      <th>name</th>\n",
       "      <th>city</th>\n",
       "      <th>age</th>\n",
       "      <th>profession</th>\n",
       "    </tr>\n",
       "  </thead>\n",
       "  <tbody>\n",
       "    <tr>\n",
       "      <th>5</th>\n",
       "      <td>Кузнецов</td>\n",
       "      <td>Сочи</td>\n",
       "      <td>19</td>\n",
       "      <td>Рабочий</td>\n",
       "    </tr>\n",
       "    <tr>\n",
       "      <th>7</th>\n",
       "      <td>Котлеревский</td>\n",
       "      <td>Йошкар-Ола</td>\n",
       "      <td>32</td>\n",
       "      <td>Рабочий</td>\n",
       "    </tr>\n",
       "  </tbody>\n",
       "</table>\n",
       "</div>"
      ],
      "text/plain": [
       "           name        city  age profession\n",
       "5      Кузнецов        Сочи   19    Рабочий\n",
       "7  Котлеревский  Йошкар-Ола   32    Рабочий"
      ]
     },
     "execution_count": 25,
     "metadata": {},
     "output_type": "execute_result"
    }
   ],
   "source": [
    "#str.match(\"abc\") ищет строки которые начинаются c \"abc\";\n",
    "#str.contains(\"abc\") ищет строки в которых есть \"abc\".\n",
    "\n",
    "#sample.name.str.match(\"К\", na=False)\n",
    "sample[sample.name.str.match(\"К\", na=False)]"
   ]
  },
  {
   "cell_type": "code",
   "execution_count": 27,
   "metadata": {},
   "outputs": [
    {
     "data": {
      "text/html": [
       "<div>\n",
       "<style scoped>\n",
       "    .dataframe tbody tr th:only-of-type {\n",
       "        vertical-align: middle;\n",
       "    }\n",
       "\n",
       "    .dataframe tbody tr th {\n",
       "        vertical-align: top;\n",
       "    }\n",
       "\n",
       "    .dataframe thead th {\n",
       "        text-align: right;\n",
       "    }\n",
       "</style>\n",
       "<table border=\"1\" class=\"dataframe\">\n",
       "  <thead>\n",
       "    <tr style=\"text-align: right;\">\n",
       "      <th></th>\n",
       "      <th>name</th>\n",
       "      <th>city</th>\n",
       "      <th>age</th>\n",
       "      <th>profession</th>\n",
       "    </tr>\n",
       "  </thead>\n",
       "  <tbody>\n",
       "    <tr>\n",
       "      <th>0</th>\n",
       "      <td>Иванов</td>\n",
       "      <td>Москва</td>\n",
       "      <td>25</td>\n",
       "      <td>Клинер</td>\n",
       "    </tr>\n",
       "    <tr>\n",
       "      <th>1</th>\n",
       "      <td>NaN</td>\n",
       "      <td>Волгоград</td>\n",
       "      <td>31</td>\n",
       "      <td>Менеджер</td>\n",
       "    </tr>\n",
       "    <tr>\n",
       "      <th>2</th>\n",
       "      <td>Иванов</td>\n",
       "      <td>Москва</td>\n",
       "      <td>25</td>\n",
       "      <td>Клинер</td>\n",
       "    </tr>\n",
       "    <tr>\n",
       "      <th>3</th>\n",
       "      <td>sidorov</td>\n",
       "      <td>Владивосток</td>\n",
       "      <td>43</td>\n",
       "      <td>Менеджер</td>\n",
       "    </tr>\n",
       "    <tr>\n",
       "      <th>4</th>\n",
       "      <td>_______</td>\n",
       "      <td>Курск</td>\n",
       "      <td>50</td>\n",
       "      <td>Водитель</td>\n",
       "    </tr>\n",
       "    <tr>\n",
       "      <th>6</th>\n",
       "      <td>Сажин</td>\n",
       "      <td>Сургут</td>\n",
       "      <td>29</td>\n",
       "      <td>Рабочий</td>\n",
       "    </tr>\n",
       "    <tr>\n",
       "      <th>8</th>\n",
       "      <td>Завалишина</td>\n",
       "      <td>Чебоксары</td>\n",
       "      <td>36</td>\n",
       "      <td>Менеджер</td>\n",
       "    </tr>\n",
       "    <tr>\n",
       "      <th>9</th>\n",
       "      <td>Левина</td>\n",
       "      <td>NaN</td>\n",
       "      <td>55</td>\n",
       "      <td>Рабочий</td>\n",
       "    </tr>\n",
       "    <tr>\n",
       "      <th>10</th>\n",
       "      <td>Фикс</td>\n",
       "      <td>Рига</td>\n",
       "      <td>42</td>\n",
       "      <td>Рабочий</td>\n",
       "    </tr>\n",
       "  </tbody>\n",
       "</table>\n",
       "</div>"
      ],
      "text/plain": [
       "          name         city  age profession\n",
       "0       Иванов       Москва   25     Клинер\n",
       "1          NaN    Волгоград   31   Менеджер\n",
       "2       Иванов       Москва   25     Клинер\n",
       "3      sidorov  Владивосток   43   Менеджер\n",
       "4      _______        Курск   50   Водитель\n",
       "6        Сажин       Сургут   29    Рабочий\n",
       "8   Завалишина    Чебоксары   36   Менеджер\n",
       "9       Левина          NaN   55    Рабочий\n",
       "10        Фикс         Рига   42    Рабочий"
      ]
     },
     "execution_count": 27,
     "metadata": {},
     "output_type": "execute_result"
    }
   ],
   "source": [
    "sample[~sample.name.str.match(\"К\", na=False)]"
   ]
  },
  {
   "cell_type": "code",
   "execution_count": 28,
   "metadata": {},
   "outputs": [
    {
     "data": {
      "text/html": [
       "<div>\n",
       "<style scoped>\n",
       "    .dataframe tbody tr th:only-of-type {\n",
       "        vertical-align: middle;\n",
       "    }\n",
       "\n",
       "    .dataframe tbody tr th {\n",
       "        vertical-align: top;\n",
       "    }\n",
       "\n",
       "    .dataframe thead th {\n",
       "        text-align: right;\n",
       "    }\n",
       "</style>\n",
       "<table border=\"1\" class=\"dataframe\">\n",
       "  <thead>\n",
       "    <tr style=\"text-align: right;\">\n",
       "      <th></th>\n",
       "      <th>name</th>\n",
       "      <th>city</th>\n",
       "      <th>age</th>\n",
       "      <th>profession</th>\n",
       "    </tr>\n",
       "  </thead>\n",
       "  <tbody>\n",
       "    <tr>\n",
       "      <th>3</th>\n",
       "      <td>sidorov</td>\n",
       "      <td>Владивосток</td>\n",
       "      <td>43</td>\n",
       "      <td>Менеджер</td>\n",
       "    </tr>\n",
       "  </tbody>\n",
       "</table>\n",
       "</div>"
      ],
      "text/plain": [
       "      name         city  age profession\n",
       "3  sidorov  Владивосток   43   Менеджер"
      ]
     },
     "execution_count": 28,
     "metadata": {},
     "output_type": "execute_result"
    }
   ],
   "source": [
    "sample[sample.name.str.contains(\"o\", na=False)]"
   ]
  },
  {
   "cell_type": "code",
   "execution_count": 34,
   "metadata": {},
   "outputs": [
    {
     "data": {
      "text/html": [
       "<div>\n",
       "<style scoped>\n",
       "    .dataframe tbody tr th:only-of-type {\n",
       "        vertical-align: middle;\n",
       "    }\n",
       "\n",
       "    .dataframe tbody tr th {\n",
       "        vertical-align: top;\n",
       "    }\n",
       "\n",
       "    .dataframe thead th {\n",
       "        text-align: right;\n",
       "    }\n",
       "</style>\n",
       "<table border=\"1\" class=\"dataframe\">\n",
       "  <thead>\n",
       "    <tr style=\"text-align: right;\">\n",
       "      <th></th>\n",
       "      <th>user_id</th>\n",
       "      <th>time</th>\n",
       "      <th>bet</th>\n",
       "      <th>win</th>\n",
       "    </tr>\n",
       "  </thead>\n",
       "  <tbody>\n",
       "    <tr>\n",
       "      <th>0</th>\n",
       "      <td>Запись пользователя № - user_919</td>\n",
       "      <td>[2019-01-01 14:06:51</td>\n",
       "      <td>NaN</td>\n",
       "      <td>NaN</td>\n",
       "    </tr>\n",
       "    <tr>\n",
       "      <th>1</th>\n",
       "      <td>Запись пользователя № - user_973</td>\n",
       "      <td>[2019-01-01 14:51:16</td>\n",
       "      <td>NaN</td>\n",
       "      <td>NaN</td>\n",
       "    </tr>\n",
       "    <tr>\n",
       "      <th>2</th>\n",
       "      <td>Запись пользователя № - user_903</td>\n",
       "      <td>[2019-01-01 16:31:16</td>\n",
       "      <td>NaN</td>\n",
       "      <td>NaN</td>\n",
       "    </tr>\n",
       "    <tr>\n",
       "      <th>3</th>\n",
       "      <td>Запись пользователя № - user_954</td>\n",
       "      <td>[2019-01-01 17:17:51</td>\n",
       "      <td>NaN</td>\n",
       "      <td>NaN</td>\n",
       "    </tr>\n",
       "    <tr>\n",
       "      <th>4</th>\n",
       "      <td>Запись пользователя № - user_954</td>\n",
       "      <td>[2019-01-01 21:31:18</td>\n",
       "      <td>NaN</td>\n",
       "      <td>NaN</td>\n",
       "    </tr>\n",
       "    <tr>\n",
       "      <th>...</th>\n",
       "      <td>...</td>\n",
       "      <td>...</td>\n",
       "      <td>...</td>\n",
       "      <td>...</td>\n",
       "    </tr>\n",
       "    <tr>\n",
       "      <th>991</th>\n",
       "      <td>Запись пользователя № - user_965</td>\n",
       "      <td>[2019-04-20 12:55:41</td>\n",
       "      <td>800.0</td>\n",
       "      <td>6927.0</td>\n",
       "    </tr>\n",
       "    <tr>\n",
       "      <th>992</th>\n",
       "      <td>Запись пользователя № - user_967</td>\n",
       "      <td>[2019-04-20 14:59:36</td>\n",
       "      <td>10154.0</td>\n",
       "      <td>NaN</td>\n",
       "    </tr>\n",
       "    <tr>\n",
       "      <th>993</th>\n",
       "      <td>Запись пользователя № - user_973</td>\n",
       "      <td>[2019-04-20 17:09:56</td>\n",
       "      <td>10254.0</td>\n",
       "      <td>NaN</td>\n",
       "    </tr>\n",
       "    <tr>\n",
       "      <th>994</th>\n",
       "      <td>Запись пользователя № - user_977</td>\n",
       "      <td>[2019-04-20 18:10:07</td>\n",
       "      <td>10354.0</td>\n",
       "      <td>NaN</td>\n",
       "    </tr>\n",
       "    <tr>\n",
       "      <th>995</th>\n",
       "      <td>Запись пользователя № - user_984</td>\n",
       "      <td>[2019-04-20 9:59:58</td>\n",
       "      <td>9754.0</td>\n",
       "      <td>NaN</td>\n",
       "    </tr>\n",
       "  </tbody>\n",
       "</table>\n",
       "<p>985 rows × 4 columns</p>\n",
       "</div>"
      ],
      "text/plain": [
       "                              user_id                  time      bet     win\n",
       "0    Запись пользователя № - user_919  [2019-01-01 14:06:51      NaN     NaN\n",
       "1    Запись пользователя № - user_973  [2019-01-01 14:51:16      NaN     NaN\n",
       "2    Запись пользователя № - user_903  [2019-01-01 16:31:16      NaN     NaN\n",
       "3    Запись пользователя № - user_954  [2019-01-01 17:17:51      NaN     NaN\n",
       "4    Запись пользователя № - user_954  [2019-01-01 21:31:18      NaN     NaN\n",
       "..                                ...                   ...      ...     ...\n",
       "991  Запись пользователя № - user_965  [2019-04-20 12:55:41    800.0  6927.0\n",
       "992  Запись пользователя № - user_967  [2019-04-20 14:59:36  10154.0     NaN\n",
       "993  Запись пользователя № - user_973  [2019-04-20 17:09:56  10254.0     NaN\n",
       "994  Запись пользователя № - user_977  [2019-04-20 18:10:07  10354.0     NaN\n",
       "995  Запись пользователя № - user_984   [2019-04-20 9:59:58   9754.0     NaN\n",
       "\n",
       "[985 rows x 4 columns]"
      ]
     },
     "execution_count": 34,
     "metadata": {},
     "output_type": "execute_result"
    }
   ],
   "source": [
    "log[~log.user_id.str.contains(\"#error\", na=False)]"
   ]
  },
  {
   "cell_type": "markdown",
   "metadata": {},
   "source": [
    "Преобразование данных"
   ]
  },
  {
   "cell_type": "code",
   "execution_count": 36,
   "metadata": {},
   "outputs": [
    {
     "data": {
      "text/plain": [
       "0      625\n",
       "1      961\n",
       "2      625\n",
       "3     1849\n",
       "4     2500\n",
       "5      361\n",
       "6      841\n",
       "7     1024\n",
       "8     1296\n",
       "9     3025\n",
       "10    1764\n",
       "Name: age, dtype: int64"
      ]
     },
     "execution_count": 36,
     "metadata": {},
     "output_type": "execute_result"
    }
   ],
   "source": [
    "# Лямбда-функция\n",
    "sample.age.apply(lambda x:x**2)"
   ]
  },
  {
   "cell_type": "code",
   "execution_count": 38,
   "metadata": {},
   "outputs": [
    {
     "data": {
      "text/plain": [
       "0      0\n",
       "1      0\n",
       "2      0\n",
       "3      0\n",
       "4      0\n",
       "5     19\n",
       "6      0\n",
       "7      0\n",
       "8      0\n",
       "9      0\n",
       "10     0\n",
       "Name: age, dtype: int64"
      ]
     },
     "execution_count": 38,
     "metadata": {},
     "output_type": "execute_result"
    }
   ],
   "source": [
    "# Именная функция\n",
    "def func(x):\n",
    "    if x < 20:\n",
    "        return x\n",
    "    else:\n",
    "        return 0\n",
    "\n",
    "\n",
    "sample.age.apply(func)"
   ]
  },
  {
   "cell_type": "code",
   "execution_count": 47,
   "metadata": {},
   "outputs": [
    {
     "data": {
      "text/plain": [
       "0          москва\n",
       "1       волгоград\n",
       "2          москва\n",
       "3     владивосток\n",
       "4           курск\n",
       "5            сочи\n",
       "6          сургут\n",
       "7      йошкар-ола\n",
       "8       чебоксары\n",
       "9             nan\n",
       "10           рига\n",
       "Name: city, dtype: object"
      ]
     },
     "execution_count": 47,
     "metadata": {},
     "output_type": "execute_result"
    }
   ],
   "source": [
    "sample.city.apply(lambda x: str(x).lower())\n"
   ]
  },
  {
   "cell_type": "code",
   "execution_count": 52,
   "metadata": {},
   "outputs": [
    {
     "name": "stdout",
     "output_type": "stream",
     "text": [
      "    user_id                  time      bet      win\n",
      "0            [2019-01-01 14:06:51      NaN      NaN\n",
      "1            [2019-01-01 14:51:16      NaN      NaN\n",
      "2            [2019-01-01 16:31:16      NaN      NaN\n",
      "3            [2019-01-01 17:17:51      NaN      NaN\n",
      "4            [2019-01-01 21:31:18      NaN      NaN\n",
      "..      ...                   ...      ...      ...\n",
      "995           [2019-04-20 9:59:58   9754.0      NaN\n",
      "996                           NaN  10054.0  29265.0\n",
      "997                           NaN  10454.0      NaN\n",
      "998                           NaN   1000.0      NaN\n",
      "999                           NaN  10754.0      NaN\n",
      "\n",
      "[1000 rows x 4 columns]\n"
     ]
    }
   ],
   "source": [
    "def new_user(user):\n",
    "    if user == '#error':\n",
    "        return \"\"\n",
    "    else :\n",
    "        return user[24:]\n",
    "\n",
    "log.user_id = log.user_id.apply(new_user)\n",
    "print(log)"
   ]
  },
  {
   "cell_type": "code",
   "execution_count": 2,
   "metadata": {},
   "outputs": [
    {
     "ename": "NameError",
     "evalue": "name 'pd' is not defined",
     "output_type": "error",
     "traceback": [
      "\u001b[1;31m---------------------------------------------------------------------------\u001b[0m",
      "\u001b[1;31mNameError\u001b[0m                                 Traceback (most recent call last)",
      "\u001b[1;32m~\\AppData\\Local\\Temp/ipykernel_14584/509871428.py\u001b[0m in \u001b[0;36m<module>\u001b[1;34m\u001b[0m\n\u001b[0;32m      5\u001b[0m         \u001b[1;32mreturn\u001b[0m \u001b[0mnew_id\u001b[0m\u001b[1;33m[\u001b[0m\u001b[1;36m24\u001b[0m\u001b[1;33m:\u001b[0m\u001b[1;33m]\u001b[0m\u001b[1;33m\u001b[0m\u001b[1;33m\u001b[0m\u001b[0m\n\u001b[0;32m      6\u001b[0m \u001b[1;33m\u001b[0m\u001b[0m\n\u001b[1;32m----> 7\u001b[1;33m \u001b[0mlog\u001b[0m \u001b[1;33m=\u001b[0m \u001b[0mpd\u001b[0m\u001b[1;33m.\u001b[0m\u001b[0mread_csv\u001b[0m\u001b[1;33m(\u001b[0m\u001b[1;34m'data/log.csv'\u001b[0m\u001b[1;33m,\u001b[0m \u001b[0mheader\u001b[0m\u001b[1;33m=\u001b[0m\u001b[1;32mNone\u001b[0m\u001b[1;33m)\u001b[0m\u001b[1;33m\u001b[0m\u001b[1;33m\u001b[0m\u001b[0m\n\u001b[0m\u001b[0;32m      8\u001b[0m \u001b[0mlog\u001b[0m\u001b[1;33m.\u001b[0m\u001b[0mcolumns\u001b[0m \u001b[1;33m=\u001b[0m \u001b[1;33m[\u001b[0m\u001b[1;34m'user_id'\u001b[0m\u001b[1;33m,\u001b[0m\u001b[1;34m'time'\u001b[0m\u001b[1;33m,\u001b[0m\u001b[1;34m'bet'\u001b[0m\u001b[1;33m,\u001b[0m\u001b[1;34m'win'\u001b[0m\u001b[1;33m]\u001b[0m\u001b[1;33m\u001b[0m\u001b[1;33m\u001b[0m\u001b[0m\n\u001b[0;32m      9\u001b[0m \u001b[0mlog\u001b[0m \u001b[1;33m=\u001b[0m \u001b[0mlog\u001b[0m\u001b[1;33m.\u001b[0m\u001b[0mquery\u001b[0m\u001b[1;33m(\u001b[0m\u001b[1;34m'user_id != \"#error\"'\u001b[0m\u001b[1;33m)\u001b[0m\u001b[1;33m\u001b[0m\u001b[1;33m\u001b[0m\u001b[0m\n",
      "\u001b[1;31mNameError\u001b[0m: name 'pd' is not defined"
     ]
    }
   ],
   "source": [
    "def correct_user_id (new_id):\n",
    "    if new_id == '#error':\n",
    "        return ''\n",
    "    else:\n",
    "        return new_id[24:]\n",
    "\n",
    "log = pd.read_csv('data/log.csv', header=None)\n",
    "log.columns = ['user_id','time','bet','win']\n",
    "log = log.query('user_id != \"#error\"')\n",
    "log['user_id'] = log.user_id.apply(correct_user_id)\n",
    "log.time = log.time.str.strip('[')"
   ]
  },
  {
   "cell_type": "code",
   "execution_count": null,
   "metadata": {},
   "outputs": [],
   "source": []
  },
  {
   "cell_type": "code",
   "execution_count": null,
   "metadata": {},
   "outputs": [],
   "source": []
  },
  {
   "cell_type": "code",
   "execution_count": null,
   "metadata": {},
   "outputs": [],
   "source": []
  },
  {
   "cell_type": "code",
   "execution_count": null,
   "metadata": {},
   "outputs": [],
   "source": []
  },
  {
   "cell_type": "code",
   "execution_count": null,
   "metadata": {},
   "outputs": [],
   "source": []
  },
  {
   "cell_type": "code",
   "execution_count": null,
   "metadata": {},
   "outputs": [],
   "source": []
  },
  {
   "cell_type": "code",
   "execution_count": null,
   "metadata": {},
   "outputs": [],
   "source": []
  },
  {
   "cell_type": "code",
   "execution_count": null,
   "metadata": {},
   "outputs": [],
   "source": []
  },
  {
   "cell_type": "code",
   "execution_count": null,
   "metadata": {},
   "outputs": [],
   "source": []
  },
  {
   "cell_type": "code",
   "execution_count": null,
   "metadata": {},
   "outputs": [],
   "source": []
  },
  {
   "cell_type": "code",
   "execution_count": null,
   "metadata": {},
   "outputs": [],
   "source": []
  },
  {
   "cell_type": "code",
   "execution_count": null,
   "metadata": {},
   "outputs": [],
   "source": []
  },
  {
   "cell_type": "code",
   "execution_count": null,
   "metadata": {},
   "outputs": [],
   "source": []
  },
  {
   "cell_type": "code",
   "execution_count": null,
   "metadata": {},
   "outputs": [],
   "source": []
  },
  {
   "cell_type": "code",
   "execution_count": null,
   "metadata": {},
   "outputs": [],
   "source": []
  },
  {
   "cell_type": "code",
   "execution_count": null,
   "metadata": {},
   "outputs": [],
   "source": []
  },
  {
   "cell_type": "code",
   "execution_count": null,
   "metadata": {},
   "outputs": [],
   "source": []
  },
  {
   "cell_type": "code",
   "execution_count": null,
   "metadata": {},
   "outputs": [],
   "source": []
  },
  {
   "cell_type": "code",
   "execution_count": null,
   "metadata": {},
   "outputs": [],
   "source": []
  },
  {
   "cell_type": "code",
   "execution_count": null,
   "metadata": {},
   "outputs": [],
   "source": []
  },
  {
   "cell_type": "code",
   "execution_count": null,
   "metadata": {},
   "outputs": [],
   "source": []
  },
  {
   "cell_type": "code",
   "execution_count": null,
   "metadata": {},
   "outputs": [],
   "source": []
  }
 ],
 "metadata": {
  "interpreter": {
   "hash": "aecd030d4c8316a52bf122072e28f84bcc79844c2684e041fef2e3f1d9f59078"
  },
  "kernelspec": {
   "display_name": "Python 3.10.0 64-bit",
   "language": "python",
   "name": "python3"
  },
  "language_info": {
   "codemirror_mode": {
    "name": "ipython",
    "version": 3
   },
   "file_extension": ".py",
   "mimetype": "text/x-python",
   "name": "python",
   "nbconvert_exporter": "python",
   "pygments_lexer": "ipython3",
   "version": "3.10.0"
  },
  "orig_nbformat": 4
 },
 "nbformat": 4,
 "nbformat_minor": 2
}
