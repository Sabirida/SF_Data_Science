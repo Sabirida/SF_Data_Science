{
 "cells": [
  {
   "cell_type": "markdown",
   "metadata": {},
   "source": [
    "## Feature Engineering"
   ]
  },
  {
   "cell_type": "markdown",
   "metadata": {},
   "source": [
    "ЦЕЛЬ\n",
    "\n",
    "Всё та же: выяснить, какие регионы наиболее привлекательны для открытия офлайн-контор.\n",
    "\n",
    "ЗАДАЧИ\n",
    "\n",
    "Вспомним часть вопросов с прошедшего модуля:\n",
    "\n",
    "1. Сколько раз человеку надо прийти, чтобы сделать ставку?\n",
    "2. Каков средний выигрыш?\n",
    "3. Каков баланс по каждому пользователю?\n",
    "4. Какие города самые выгодные?\n",
    "5. В каких городах самая высокая ставка?\n",
    "6. Сколько в среднем времени занимает у человека с первого посещения сайта до первой попытки?\n",
    "7. Мы постараемся ответить не только на них, но и на многие другие вопросы.\n",
    "\n",
    "КОНКРЕТНЫЕ ШАГИ (ФОРМАЛИЗОВАННЫЕ ЗАДАЧИ)\n",
    "\n",
    "* Вычислить, с какого раза пользователь делает ставку.\n",
    "* Вычислить среднее время между первым посещением и первой ставкой.\n",
    "* Определить средний выигрыш в процентах.\n",
    "* Для каждого пользователя рассчитать баланс.\n",
    "* Выявить, в каких городах делают самые большие ставки."
   ]
  },
  {
   "cell_type": "code",
   "execution_count": 77,
   "metadata": {},
   "outputs": [],
   "source": [
    "import pandas as pd\n",
    "\n",
    "log = pd.read_csv('data/log.csv', header = None)\n",
    "log.columns = [\"user_id\", \"time\", \"bet\", \"win\"]\n",
    "users = pd.read_csv('data/users.csv', sep=\"\\t\", encoding=\"koi8_r\")\n",
    "users.columns = [\"user_id\", \"email\", \"geo\"]"
   ]
  },
  {
   "cell_type": "code",
   "execution_count": 78,
   "metadata": {},
   "outputs": [],
   "source": [
    "def correct_user_id (new_id):\n",
    "    if new_id == '#error':\n",
    "        return ''\n",
    "    else:\n",
    "        return new_id[24:]\n",
    "\n",
    "log = log.query('user_id != \"#error\"')\n",
    "log['user_id'] = log.user_id.apply(correct_user_id)\n",
    "log.time = log.time.str.strip('[')"
   ]
  },
  {
   "cell_type": "markdown",
   "metadata": {},
   "source": [
    "### Пропущенные значения"
   ]
  },
  {
   "cell_type": "markdown",
   "metadata": {},
   "source": [
    "В Pandas есть метод isna(), который возвращает таблицу такой же размерности, что и на вход, но значения в ней — True или False (True, если данное значение является пропуском, и False — в ином случае).\n",
    "\n",
    "Важно! Метод isna() есть не только у DataFrame, но и у Series. Это значит, что применять его можно не только ко всей таблице, но и к каждому столбцу отдельно.\n",
    "\n",
    "В numpy пропущенные значения могут быть записаны как специальный объект np.nan, что означает Not a Number.\n",
    "\n",
    "Проверить наличие таких значений можно с помощью np.isnan()."
   ]
  },
  {
   "cell_type": "code",
   "execution_count": 37,
   "metadata": {},
   "outputs": [
    {
     "data": {
      "text/html": [
       "<div>\n",
       "<style scoped>\n",
       "    .dataframe tbody tr th:only-of-type {\n",
       "        vertical-align: middle;\n",
       "    }\n",
       "\n",
       "    .dataframe tbody tr th {\n",
       "        vertical-align: top;\n",
       "    }\n",
       "\n",
       "    .dataframe thead th {\n",
       "        text-align: right;\n",
       "    }\n",
       "</style>\n",
       "<table border=\"1\" class=\"dataframe\">\n",
       "  <thead>\n",
       "    <tr style=\"text-align: right;\">\n",
       "      <th></th>\n",
       "      <th>user_id</th>\n",
       "      <th>time</th>\n",
       "      <th>bet</th>\n",
       "      <th>win</th>\n",
       "    </tr>\n",
       "  </thead>\n",
       "  <tbody>\n",
       "    <tr>\n",
       "      <th>0</th>\n",
       "      <td>False</td>\n",
       "      <td>False</td>\n",
       "      <td>True</td>\n",
       "      <td>True</td>\n",
       "    </tr>\n",
       "    <tr>\n",
       "      <th>1</th>\n",
       "      <td>False</td>\n",
       "      <td>False</td>\n",
       "      <td>True</td>\n",
       "      <td>True</td>\n",
       "    </tr>\n",
       "    <tr>\n",
       "      <th>2</th>\n",
       "      <td>False</td>\n",
       "      <td>False</td>\n",
       "      <td>True</td>\n",
       "      <td>True</td>\n",
       "    </tr>\n",
       "    <tr>\n",
       "      <th>3</th>\n",
       "      <td>False</td>\n",
       "      <td>False</td>\n",
       "      <td>True</td>\n",
       "      <td>True</td>\n",
       "    </tr>\n",
       "    <tr>\n",
       "      <th>4</th>\n",
       "      <td>False</td>\n",
       "      <td>False</td>\n",
       "      <td>True</td>\n",
       "      <td>True</td>\n",
       "    </tr>\n",
       "  </tbody>\n",
       "</table>\n",
       "</div>"
      ],
      "text/plain": [
       "   user_id   time   bet   win\n",
       "0    False  False  True  True\n",
       "1    False  False  True  True\n",
       "2    False  False  True  True\n",
       "3    False  False  True  True\n",
       "4    False  False  True  True"
      ]
     },
     "execution_count": 37,
     "metadata": {},
     "output_type": "execute_result"
    }
   ],
   "source": [
    "log.head().isna() "
   ]
  },
  {
   "cell_type": "code",
   "execution_count": 38,
   "metadata": {},
   "outputs": [
    {
     "data": {
      "text/plain": [
       "0"
      ]
     },
     "execution_count": 38,
     "metadata": {},
     "output_type": "execute_result"
    }
   ],
   "source": [
    "log['time'].isna().sum()"
   ]
  },
  {
   "cell_type": "markdown",
   "metadata": {},
   "source": [
    "Удалять данные с пропусками можно с помощью метода dropna().\n",
    "\n",
    "1. Параметр axis\n",
    "\n",
    "Параметр axis в методе dropna() говорит методу, по какой оси удалять значения.\n",
    "\n",
    "* Если нужно удалить строки, в которых встречается пропуск (NaN), нужно указывать axis=0.\n",
    "* Если нужно удалить столбцы, в которых встречается пропуск (NaN), нужно указывать axis=1.\n",
    "\n",
    "2. Параметр subset\n",
    "\n",
    "Что он делает? Если передать в него список значений по одной оси (например, названия столбцов) и задать при этом в параметре axis другую ось (в нашем случае 0), то мы удалим те строки, для которых в данных столбцах находится пропуск.\n",
    "\n",
    "То же самое работает и наоборот: нужно поменять axis на 1 и вместо названий столбцов передавать индексы строк.\n",
    "\n",
    "Важно! Перед удалением строк обязательно сделайте бэкап."
   ]
  },
  {
   "cell_type": "code",
   "execution_count": 39,
   "metadata": {},
   "outputs": [
    {
     "data": {
      "text/html": [
       "<div>\n",
       "<style scoped>\n",
       "    .dataframe tbody tr th:only-of-type {\n",
       "        vertical-align: middle;\n",
       "    }\n",
       "\n",
       "    .dataframe tbody tr th {\n",
       "        vertical-align: top;\n",
       "    }\n",
       "\n",
       "    .dataframe thead th {\n",
       "        text-align: right;\n",
       "    }\n",
       "</style>\n",
       "<table border=\"1\" class=\"dataframe\">\n",
       "  <thead>\n",
       "    <tr style=\"text-align: right;\">\n",
       "      <th></th>\n",
       "      <th>user_id</th>\n",
       "      <th>time</th>\n",
       "      <th>bet</th>\n",
       "      <th>win</th>\n",
       "    </tr>\n",
       "  </thead>\n",
       "  <tbody>\n",
       "    <tr>\n",
       "      <th>0</th>\n",
       "      <td>user_919</td>\n",
       "      <td>2019-01-01 14:06:51</td>\n",
       "      <td>NaN</td>\n",
       "      <td>NaN</td>\n",
       "    </tr>\n",
       "    <tr>\n",
       "      <th>1</th>\n",
       "      <td>user_973</td>\n",
       "      <td>2019-01-01 14:51:16</td>\n",
       "      <td>NaN</td>\n",
       "      <td>NaN</td>\n",
       "    </tr>\n",
       "    <tr>\n",
       "      <th>2</th>\n",
       "      <td>user_903</td>\n",
       "      <td>2019-01-01 16:31:16</td>\n",
       "      <td>NaN</td>\n",
       "      <td>NaN</td>\n",
       "    </tr>\n",
       "    <tr>\n",
       "      <th>3</th>\n",
       "      <td>user_954</td>\n",
       "      <td>2019-01-01 17:17:51</td>\n",
       "      <td>NaN</td>\n",
       "      <td>NaN</td>\n",
       "    </tr>\n",
       "    <tr>\n",
       "      <th>4</th>\n",
       "      <td>user_954</td>\n",
       "      <td>2019-01-01 21:31:18</td>\n",
       "      <td>NaN</td>\n",
       "      <td>NaN</td>\n",
       "    </tr>\n",
       "  </tbody>\n",
       "</table>\n",
       "</div>"
      ],
      "text/plain": [
       "    user_id                 time  bet  win\n",
       "0  user_919  2019-01-01 14:06:51  NaN  NaN\n",
       "1  user_973  2019-01-01 14:51:16  NaN  NaN\n",
       "2  user_903  2019-01-01 16:31:16  NaN  NaN\n",
       "3  user_954  2019-01-01 17:17:51  NaN  NaN\n",
       "4  user_954  2019-01-01 21:31:18  NaN  NaN"
      ]
     },
     "execution_count": 39,
     "metadata": {},
     "output_type": "execute_result"
    }
   ],
   "source": [
    "log.head()"
   ]
  },
  {
   "cell_type": "code",
   "execution_count": 123,
   "metadata": {},
   "outputs": [
    {
     "data": {
      "text/html": [
       "<div>\n",
       "<style scoped>\n",
       "    .dataframe tbody tr th:only-of-type {\n",
       "        vertical-align: middle;\n",
       "    }\n",
       "\n",
       "    .dataframe tbody tr th {\n",
       "        vertical-align: top;\n",
       "    }\n",
       "\n",
       "    .dataframe thead th {\n",
       "        text-align: right;\n",
       "    }\n",
       "</style>\n",
       "<table border=\"1\" class=\"dataframe\">\n",
       "  <thead>\n",
       "    <tr style=\"text-align: right;\">\n",
       "      <th></th>\n",
       "      <th>user_id</th>\n",
       "      <th>time</th>\n",
       "    </tr>\n",
       "  </thead>\n",
       "  <tbody>\n",
       "    <tr>\n",
       "      <th>0</th>\n",
       "      <td>user_919</td>\n",
       "      <td>[2019-01-01 14:06:51</td>\n",
       "    </tr>\n",
       "    <tr>\n",
       "      <th>1</th>\n",
       "      <td>user_973</td>\n",
       "      <td>[2019-01-01 14:51:16</td>\n",
       "    </tr>\n",
       "    <tr>\n",
       "      <th>2</th>\n",
       "      <td>user_903</td>\n",
       "      <td>[2019-01-01 16:31:16</td>\n",
       "    </tr>\n",
       "    <tr>\n",
       "      <th>3</th>\n",
       "      <td>user_954</td>\n",
       "      <td>[2019-01-01 17:17:51</td>\n",
       "    </tr>\n",
       "    <tr>\n",
       "      <th>4</th>\n",
       "      <td>user_954</td>\n",
       "      <td>[2019-01-01 21:31:18</td>\n",
       "    </tr>\n",
       "    <tr>\n",
       "      <th>...</th>\n",
       "      <td>...</td>\n",
       "      <td>...</td>\n",
       "    </tr>\n",
       "    <tr>\n",
       "      <th>991</th>\n",
       "      <td>user_965</td>\n",
       "      <td>[2019-04-20 12:55:41</td>\n",
       "    </tr>\n",
       "    <tr>\n",
       "      <th>992</th>\n",
       "      <td>user_967</td>\n",
       "      <td>[2019-04-20 14:59:36</td>\n",
       "    </tr>\n",
       "    <tr>\n",
       "      <th>993</th>\n",
       "      <td>user_973</td>\n",
       "      <td>[2019-04-20 17:09:56</td>\n",
       "    </tr>\n",
       "    <tr>\n",
       "      <th>994</th>\n",
       "      <td>user_977</td>\n",
       "      <td>[2019-04-20 18:10:07</td>\n",
       "    </tr>\n",
       "    <tr>\n",
       "      <th>995</th>\n",
       "      <td>user_984</td>\n",
       "      <td>[2019-04-20 9:59:58</td>\n",
       "    </tr>\n",
       "  </tbody>\n",
       "</table>\n",
       "<p>985 rows × 2 columns</p>\n",
       "</div>"
      ],
      "text/plain": [
       "      user_id                  time\n",
       "0    user_919  [2019-01-01 14:06:51\n",
       "1    user_973  [2019-01-01 14:51:16\n",
       "2    user_903  [2019-01-01 16:31:16\n",
       "3    user_954  [2019-01-01 17:17:51\n",
       "4    user_954  [2019-01-01 21:31:18\n",
       "..        ...                   ...\n",
       "991  user_965  [2019-04-20 12:55:41\n",
       "992  user_967  [2019-04-20 14:59:36\n",
       "993  user_973  [2019-04-20 17:09:56\n",
       "994  user_977  [2019-04-20 18:10:07\n",
       "995  user_984   [2019-04-20 9:59:58\n",
       "\n",
       "[985 rows x 2 columns]"
      ]
     },
     "execution_count": 123,
     "metadata": {},
     "output_type": "execute_result"
    }
   ],
   "source": [
    "log2 = log.copy()\n",
    "log2.dropna(axis=1)"
   ]
  },
  {
   "cell_type": "markdown",
   "metadata": {},
   "source": [
    "### Дубли\n",
    "\n",
    "Дубликаты (дубли) — это повторяющиеся строки в данных.\n",
    "\n",
    "В Pandas есть метод для удаления дублей — drop_duplicates(). Он просто удаляет повторяющиеся строки.\n",
    "\n",
    "У этого метода тоже есть параметр subset, но в этом случае ему нужно передавать список названий столбцов, а не их номера.\n",
    "\n",
    "Одна из проблем при изучении библиотеки Pandas — её неконсистентность. Например, недавно мы передавали номера столбцов в параметр subset, а сейчас мы передаём названия столбцов. Это нужно просто запомнить."
   ]
  },
  {
   "cell_type": "code",
   "execution_count": 4,
   "metadata": {},
   "outputs": [
    {
     "data": {
      "text/html": [
       "<div>\n",
       "<style scoped>\n",
       "    .dataframe tbody tr th:only-of-type {\n",
       "        vertical-align: middle;\n",
       "    }\n",
       "\n",
       "    .dataframe tbody tr th {\n",
       "        vertical-align: top;\n",
       "    }\n",
       "\n",
       "    .dataframe thead th {\n",
       "        text-align: right;\n",
       "    }\n",
       "</style>\n",
       "<table border=\"1\" class=\"dataframe\">\n",
       "  <thead>\n",
       "    <tr style=\"text-align: right;\">\n",
       "      <th></th>\n",
       "      <th>user_id</th>\n",
       "      <th>time</th>\n",
       "      <th>bet</th>\n",
       "      <th>win</th>\n",
       "    </tr>\n",
       "  </thead>\n",
       "  <tbody>\n",
       "    <tr>\n",
       "      <th>0</th>\n",
       "      <td>user_919</td>\n",
       "      <td>2019-01-01 14:06:51</td>\n",
       "      <td>NaN</td>\n",
       "      <td>NaN</td>\n",
       "    </tr>\n",
       "    <tr>\n",
       "      <th>1</th>\n",
       "      <td>user_973</td>\n",
       "      <td>2019-01-01 14:51:16</td>\n",
       "      <td>NaN</td>\n",
       "      <td>NaN</td>\n",
       "    </tr>\n",
       "    <tr>\n",
       "      <th>2</th>\n",
       "      <td>user_903</td>\n",
       "      <td>2019-01-01 16:31:16</td>\n",
       "      <td>NaN</td>\n",
       "      <td>NaN</td>\n",
       "    </tr>\n",
       "    <tr>\n",
       "      <th>3</th>\n",
       "      <td>user_954</td>\n",
       "      <td>2019-01-01 17:17:51</td>\n",
       "      <td>NaN</td>\n",
       "      <td>NaN</td>\n",
       "    </tr>\n",
       "    <tr>\n",
       "      <th>4</th>\n",
       "      <td>user_954</td>\n",
       "      <td>2019-01-01 21:31:18</td>\n",
       "      <td>NaN</td>\n",
       "      <td>NaN</td>\n",
       "    </tr>\n",
       "    <tr>\n",
       "      <th>...</th>\n",
       "      <td>...</td>\n",
       "      <td>...</td>\n",
       "      <td>...</td>\n",
       "      <td>...</td>\n",
       "    </tr>\n",
       "    <tr>\n",
       "      <th>991</th>\n",
       "      <td>user_965</td>\n",
       "      <td>2019-04-20 12:55:41</td>\n",
       "      <td>800.0</td>\n",
       "      <td>6927.0</td>\n",
       "    </tr>\n",
       "    <tr>\n",
       "      <th>992</th>\n",
       "      <td>user_967</td>\n",
       "      <td>2019-04-20 14:59:36</td>\n",
       "      <td>10154.0</td>\n",
       "      <td>NaN</td>\n",
       "    </tr>\n",
       "    <tr>\n",
       "      <th>993</th>\n",
       "      <td>user_973</td>\n",
       "      <td>2019-04-20 17:09:56</td>\n",
       "      <td>10254.0</td>\n",
       "      <td>NaN</td>\n",
       "    </tr>\n",
       "    <tr>\n",
       "      <th>994</th>\n",
       "      <td>user_977</td>\n",
       "      <td>2019-04-20 18:10:07</td>\n",
       "      <td>10354.0</td>\n",
       "      <td>NaN</td>\n",
       "    </tr>\n",
       "    <tr>\n",
       "      <th>995</th>\n",
       "      <td>user_984</td>\n",
       "      <td>2019-04-20 9:59:58</td>\n",
       "      <td>9754.0</td>\n",
       "      <td>NaN</td>\n",
       "    </tr>\n",
       "  </tbody>\n",
       "</table>\n",
       "<p>985 rows × 4 columns</p>\n",
       "</div>"
      ],
      "text/plain": [
       "      user_id                 time      bet     win\n",
       "0    user_919  2019-01-01 14:06:51      NaN     NaN\n",
       "1    user_973  2019-01-01 14:51:16      NaN     NaN\n",
       "2    user_903  2019-01-01 16:31:16      NaN     NaN\n",
       "3    user_954  2019-01-01 17:17:51      NaN     NaN\n",
       "4    user_954  2019-01-01 21:31:18      NaN     NaN\n",
       "..        ...                  ...      ...     ...\n",
       "991  user_965  2019-04-20 12:55:41    800.0  6927.0\n",
       "992  user_967  2019-04-20 14:59:36  10154.0     NaN\n",
       "993  user_973  2019-04-20 17:09:56  10254.0     NaN\n",
       "994  user_977  2019-04-20 18:10:07  10354.0     NaN\n",
       "995  user_984   2019-04-20 9:59:58   9754.0     NaN\n",
       "\n",
       "[985 rows x 4 columns]"
      ]
     },
     "execution_count": 4,
     "metadata": {},
     "output_type": "execute_result"
    }
   ],
   "source": [
    "log2 = log.copy()\n",
    "log2.drop_duplicates(subset=['time','user_id'])"
   ]
  },
  {
   "cell_type": "markdown",
   "metadata": {},
   "source": [
    "### Преобразование в datetime\n",
    "\n",
    "Ранее вы узнали, как преобразовывать столбец с датой в виде текста в дату в формате datetime.  Напомним, что это делается с помощью метода to_datetime() в библиотеке Pandas.\n",
    "\n",
    "Внутрь метода нужно передать тот столбец, который нужно преобразовать.\n",
    "\n",
    "Компьютеры понимают числа, но не понимают текст (хотя дата-сайентисты найдут, что на это ответить). Поэтому если у вас время записано в виде строки, нужно вытащить из него числа.\n",
    "\n",
    "Благодаря этому вы можете получить много полезной информации в виде чисел: не только конкретное время (часы, минуты, секунды) и даты (год, месяц, день), но и более сложные вещи: например время дня, время года и др.\n",
    "\n",
    "Если мы храним время в виде специальных объектов типа Timestamp, с ним можно проводить и другие операции, например, сложение и вычитание."
   ]
  },
  {
   "cell_type": "code",
   "execution_count": 79,
   "metadata": {},
   "outputs": [],
   "source": [
    "log['time'] = pd.to_datetime(log['time'])"
   ]
  },
  {
   "cell_type": "code",
   "execution_count": null,
   "metadata": {},
   "outputs": [],
   "source": [
    "# пример\n",
    "log = pd.read_csv(\"log.csv\")\n",
    "log = log.dropna()\n",
    "log.columns = [\"user_id\", \"time\", \"bet\", \"win\"]\n",
    "log[\"time\"] = log[\"time\"].apply(lambda x: x[1:])\n",
    "log[\"time\"] = pd.to_datetime(log[\"time\"])\n",
    "log['time'] = log.time.apply(lambda x: x.minute)\n",
    "log[\"time\"].head()"
   ]
  },
  {
   "cell_type": "markdown",
   "metadata": {},
   "source": [
    "### Извлечение признаков времени\n",
    "\n",
    "1. Повторяем Timestamp\n",
    "\n",
    "Для начала вспомним, что мы можем делать с datetime.\n",
    "\n",
    "Приведём примеры атрибутов, по которым мы можем обращаться к данным объектам:\n",
    "* year возвращает год;\n",
    "* month возвращает месяц;\n",
    "* day возвращает день;\n",
    "* hour, minute, second — час, минута, секунда;\n",
    "* dayofweek — день недели от 0 до 6, где 0 — понедельник, 6 — воскресенье.\n",
    "\n",
    "2. Повторяем apply/dt\n",
    "\n",
    "Ранее в курсе вы разбирали метод apply(). Он позволяет применить какую-то функцию к каждому элементу в столбце.\n",
    "\n",
    "В метод apply() можно передавать и обычные lambda-функции.\n",
    "\n",
    "Например, мы хотим получить столбец, в котором каждым значением будет год из другого столбца. Это и есть Feature Engineering — создание новых признаков из старых. Мы можем сделать следующее:\n",
    "\n",
    "year_column = log[\"time\"].apply(lambda x: x.year)\n",
    "\n",
    "Библиотека Pandas позволяет использовать аксессор dt для упрощения подобной работы:\n",
    "\n",
    "year_column = log[\"time\"].dt.year\n",
    "\n",
    "Если вы попытаетесь обратиться к dt у столбца, в котором лежит что-то отличное от времени, вы получите ошибку.\n",
    "\n",
    "Вы можете пользоваться любым из предложенных выше способов. \n",
    "\n",
    "3. Повторяем value_counts()\n",
    "\n",
    "Одним из часто используемых методов в Pandas является value_counts().\n",
    "\n",
    "Этот метод возвращает серию (Series), которая содержит количество уникальных элементов.\n",
    "\n",
    "value_counts() возвращает значения отсортированными по убыванию.\n",
    "\n",
    "Если в value_counts() передать значение параметра ascending=True, метод вернёт значения, отсортированные по возрастанию."
   ]
  },
  {
   "cell_type": "code",
   "execution_count": 12,
   "metadata": {},
   "outputs": [],
   "source": [
    "#year_column = log['time'].apply(lambda x: x.year)\n",
    "year_column = log[\"time\"].dt.year"
   ]
  },
  {
   "cell_type": "code",
   "execution_count": 16,
   "metadata": {},
   "outputs": [
    {
     "data": {
      "text/plain": [
       "1    3\n",
       "4    2\n",
       "2    1\n",
       "3    1\n",
       "dtype: int64"
      ]
     },
     "execution_count": 16,
     "metadata": {},
     "output_type": "execute_result"
    }
   ],
   "source": [
    "test = pd.Series([1, 1, 1, 2, 3, 4, 4])\n",
    "test.value_counts()"
   ]
  },
  {
   "cell_type": "code",
   "execution_count": 19,
   "metadata": {},
   "outputs": [],
   "source": [
    "minute_column = log[\"time\"].dt.minute\n",
    "test = pd.Series(minute_column)\n",
    "#test.value_counts()"
   ]
  },
  {
   "cell_type": "code",
   "execution_count": 22,
   "metadata": {},
   "outputs": [
    {
     "data": {
      "text/plain": [
       "4    170\n",
       "2    259\n",
       "3    264\n",
       "1    292\n",
       "Name: time, dtype: int64"
      ]
     },
     "execution_count": 22,
     "metadata": {},
     "output_type": "execute_result"
    }
   ],
   "source": [
    "month_column = log[\"time\"].dt.month\n",
    "test = pd.Series(month_column)\n",
    "test.value_counts(ascending=True)"
   ]
  },
  {
   "cell_type": "code",
   "execution_count": 28,
   "metadata": {},
   "outputs": [
    {
     "data": {
      "text/plain": [
       "5    152\n",
       "1    150\n",
       "2    150\n",
       "4    135\n",
       "0    135\n",
       "3    132\n",
       "6    131\n",
       "Name: time, dtype: int64"
      ]
     },
     "execution_count": 28,
     "metadata": {},
     "output_type": "execute_result"
    }
   ],
   "source": [
    "dayofweek_column = log[\"time\"].dt.dayofweek\n",
    "test = pd.Series(dayofweek_column)\n",
    "test.value_counts()"
   ]
  },
  {
   "cell_type": "code",
   "execution_count": 34,
   "metadata": {},
   "outputs": [
    {
     "name": "stdout",
     "output_type": "stream",
     "text": [
      "                              user_id                time        bet  \\\n",
      "14   Запись пользователя № - user_917 2019-01-02 08:57:36   145732.0   \n",
      "29   Запись пользователя № - user_942 2019-01-04 13:59:42  1678321.0   \n",
      "151  Запись пользователя № - user_982 2019-01-16 21:54:22      100.0   \n",
      "189  Запись пользователя № - user_964 2019-01-21 18:34:44      200.0   \n",
      "205  Запись пользователя № - user_931 2019-01-22 05:26:59      300.0   \n",
      "..                                ...                 ...        ...   \n",
      "967  Запись пользователя № - user_975 2019-04-19 22:25:15     1000.0   \n",
      "971  Запись пользователя № - user_912 2019-04-20 10:35:49    10554.0   \n",
      "972  Запись пользователя № - user_926 2019-04-20 10:35:50    10354.0   \n",
      "976  Запись пользователя № - user_970 2019-04-20 10:35:54    10354.0   \n",
      "991  Запись пользователя № - user_965 2019-04-20 12:55:41      800.0   \n",
      "\n",
      "           win  hour  \n",
      "14   1987653.0     8  \n",
      "29   9876543.0    13  \n",
      "151     4749.0    21  \n",
      "189     4667.0    18  \n",
      "205     4319.0     5  \n",
      "..         ...   ...  \n",
      "967     6108.0    22  \n",
      "971    31799.0    10  \n",
      "972    30244.0    10  \n",
      "976    30691.0    10  \n",
      "991     6927.0    12  \n",
      "\n",
      "[133 rows x 5 columns]\n"
     ]
    }
   ],
   "source": [
    "log = pd.read_csv('data/log.csv', header = None)\n",
    "log.columns = [\"user_id\", \"time\", \"bet\", \"win\"]\n",
    "log = log.dropna()\n",
    "log[\"time\"] = log[\"time\"].apply(lambda x: x[1:])\n",
    "log[\"time\"] = pd.to_datetime(log[\"time\"])\n",
    "log['hour'] = log.time.apply(lambda x: x.hour)"
   ]
  },
  {
   "cell_type": "markdown",
   "metadata": {},
   "source": [
    "#### Пропуски\n",
    "\n",
    "ЗАПОЛНЕНИЕ КОНСТАНТОЙ\n",
    "\n",
    "\n",
    "Это значит, что каждый пропуск в столбце мы заполним одним и тем же числом.\n",
    "\n",
    "Чтобы заполнить пропуски в столбце каким-то значением, можно использовать метод fillna() у самого столбца. Аргументом этого метода будет число, которое появится на месте пропусков."
   ]
  },
  {
   "cell_type": "code",
   "execution_count": 80,
   "metadata": {},
   "outputs": [],
   "source": [
    "#log = pd.read_csv('data/log.csv', header = None)\n",
    "#log.columns = [\"user_id\", \"time\", \"bet\", \"win\"]\n",
    "\n",
    "log[\"bet\"] = log[\"bet\"].fillna(0)"
   ]
  },
  {
   "cell_type": "code",
   "execution_count": 55,
   "metadata": {},
   "outputs": [
    {
     "data": {
      "text/plain": [
       "0.0          513\n",
       "500.0         49\n",
       "100.0         48\n",
       "300.0         42\n",
       "800.0         41\n",
       "200.0         40\n",
       "400.0         40\n",
       "700.0         38\n",
       "600.0         37\n",
       "1000.0        35\n",
       "900.0         28\n",
       "9754.0        10\n",
       "10554.0        8\n",
       "10154.0        7\n",
       "10254.0        7\n",
       "9954.0         6\n",
       "10654.0        5\n",
       "10754.0        4\n",
       "10354.0        4\n",
       "10054.0        3\n",
       "10454.0        3\n",
       "9854.0         2\n",
       "8734.0         1\n",
       "12945.0        1\n",
       "27000.0        1\n",
       "12548.0        1\n",
       "9876.0         1\n",
       "156789.0       1\n",
       "950.0          1\n",
       "8700.0         1\n",
       "7650.0         1\n",
       "123981.0       1\n",
       "5000.0         1\n",
       "1678321.0      1\n",
       "98753.0        1\n",
       "145732.0       1\n",
       "104540.0       1\n",
       "Name: bet, dtype: int64"
      ]
     },
     "execution_count": 55,
     "metadata": {},
     "output_type": "execute_result"
    }
   ],
   "source": [
    "test = pd.Series(log[\"bet\"])\n",
    "test.value_counts()"
   ]
  },
  {
   "cell_type": "markdown",
   "metadata": {},
   "source": [
    "ЗАПОЛНЕНИЕ С ПОМОЩЬЮ ФУНКЦИИ\n",
    "\n",
    "Теперь поработаем с признаком win, в котором тоже есть пропуски.\n",
    "\n",
    "Иногда нужно заполнять пропуски не одним и тем же числом, а разными, в зависимости от какого-то условия. Перед нами именно этот случай."
   ]
  },
  {
   "cell_type": "markdown",
   "metadata": {},
   "source": [
    "Давайте напишем метод, который заполнит пропуски в признаке win в соответствии с предположением выше. \n",
    "\n",
    "Для этого можно применить метод apply() ко всей таблице и передать ему функцию, которая вычисляет размер выигрыша (или проигрыша) по следующей схеме:\n",
    "\n",
    "Если значение в столбце win существует (не пропуск), вернуть это же значение. Это значит, что человек выиграл.\n",
    "Если вместо значения в столбце win и в столбце bet — пропуски, вернуть 0.\n",
    "Если в столбце bet нет пропуска, а в столбце win есть пропуск, вернуть отрицательное значение столбца bet (проигрыш).\n",
    "На выходе получится таблица без пропусков в столбце win. Следующим шагом заменим старый столбец win на новый."
   ]
  },
  {
   "cell_type": "code",
   "execution_count": 85,
   "metadata": {},
   "outputs": [
    {
     "data": {
      "text/html": [
       "<div>\n",
       "<style scoped>\n",
       "    .dataframe tbody tr th:only-of-type {\n",
       "        vertical-align: middle;\n",
       "    }\n",
       "\n",
       "    .dataframe tbody tr th {\n",
       "        vertical-align: top;\n",
       "    }\n",
       "\n",
       "    .dataframe thead th {\n",
       "        text-align: right;\n",
       "    }\n",
       "</style>\n",
       "<table border=\"1\" class=\"dataframe\">\n",
       "  <thead>\n",
       "    <tr style=\"text-align: right;\">\n",
       "      <th></th>\n",
       "      <th>user_id</th>\n",
       "      <th>time</th>\n",
       "      <th>bet</th>\n",
       "      <th>win</th>\n",
       "    </tr>\n",
       "  </thead>\n",
       "  <tbody>\n",
       "    <tr>\n",
       "      <th>980</th>\n",
       "      <td>#error</td>\n",
       "      <td>NaN</td>\n",
       "      <td>10454.0</td>\n",
       "      <td>30117.0</td>\n",
       "    </tr>\n",
       "    <tr>\n",
       "      <th>981</th>\n",
       "      <td>#error</td>\n",
       "      <td>NaN</td>\n",
       "      <td>800.0</td>\n",
       "      <td>7035.0</td>\n",
       "    </tr>\n",
       "    <tr>\n",
       "      <th>982</th>\n",
       "      <td>#error</td>\n",
       "      <td>NaN</td>\n",
       "      <td>900.0</td>\n",
       "      <td>-900.0</td>\n",
       "    </tr>\n",
       "    <tr>\n",
       "      <th>983</th>\n",
       "      <td>#error</td>\n",
       "      <td>NaN</td>\n",
       "      <td>500.0</td>\n",
       "      <td>-500.0</td>\n",
       "    </tr>\n",
       "    <tr>\n",
       "      <th>984</th>\n",
       "      <td>Запись пользователя № - user_925</td>\n",
       "      <td>[2019-04-20 12:55:00</td>\n",
       "      <td>1000.0</td>\n",
       "      <td>-1000.0</td>\n",
       "    </tr>\n",
       "    <tr>\n",
       "      <th>985</th>\n",
       "      <td>#error</td>\n",
       "      <td>NaN</td>\n",
       "      <td>900.0</td>\n",
       "      <td>-900.0</td>\n",
       "    </tr>\n",
       "    <tr>\n",
       "      <th>986</th>\n",
       "      <td>#error</td>\n",
       "      <td>NaN</td>\n",
       "      <td>10454.0</td>\n",
       "      <td>29972.0</td>\n",
       "    </tr>\n",
       "    <tr>\n",
       "      <th>987</th>\n",
       "      <td>#error</td>\n",
       "      <td>NaN</td>\n",
       "      <td>10554.0</td>\n",
       "      <td>31634.0</td>\n",
       "    </tr>\n",
       "    <tr>\n",
       "      <th>988</th>\n",
       "      <td>#error</td>\n",
       "      <td>NaN</td>\n",
       "      <td>1000.0</td>\n",
       "      <td>-1000.0</td>\n",
       "    </tr>\n",
       "    <tr>\n",
       "      <th>989</th>\n",
       "      <td>Запись пользователя № - user_953</td>\n",
       "      <td>[2019-04-20 12:55:39</td>\n",
       "      <td>9954.0</td>\n",
       "      <td>-9954.0</td>\n",
       "    </tr>\n",
       "    <tr>\n",
       "      <th>990</th>\n",
       "      <td>Запись пользователя № - user_954</td>\n",
       "      <td>[2019-04-20 12:55:40</td>\n",
       "      <td>9854.0</td>\n",
       "      <td>-9854.0</td>\n",
       "    </tr>\n",
       "    <tr>\n",
       "      <th>991</th>\n",
       "      <td>Запись пользователя № - user_965</td>\n",
       "      <td>[2019-04-20 12:55:41</td>\n",
       "      <td>800.0</td>\n",
       "      <td>6927.0</td>\n",
       "    </tr>\n",
       "    <tr>\n",
       "      <th>992</th>\n",
       "      <td>Запись пользователя № - user_967</td>\n",
       "      <td>[2019-04-20 14:59:36</td>\n",
       "      <td>10154.0</td>\n",
       "      <td>-10154.0</td>\n",
       "    </tr>\n",
       "    <tr>\n",
       "      <th>993</th>\n",
       "      <td>Запись пользователя № - user_973</td>\n",
       "      <td>[2019-04-20 17:09:56</td>\n",
       "      <td>10254.0</td>\n",
       "      <td>-10254.0</td>\n",
       "    </tr>\n",
       "    <tr>\n",
       "      <th>994</th>\n",
       "      <td>Запись пользователя № - user_977</td>\n",
       "      <td>[2019-04-20 18:10:07</td>\n",
       "      <td>10354.0</td>\n",
       "      <td>-10354.0</td>\n",
       "    </tr>\n",
       "    <tr>\n",
       "      <th>995</th>\n",
       "      <td>Запись пользователя № - user_984</td>\n",
       "      <td>[2019-04-20 9:59:58</td>\n",
       "      <td>9754.0</td>\n",
       "      <td>-9754.0</td>\n",
       "    </tr>\n",
       "    <tr>\n",
       "      <th>996</th>\n",
       "      <td>#error</td>\n",
       "      <td>NaN</td>\n",
       "      <td>10054.0</td>\n",
       "      <td>29265.0</td>\n",
       "    </tr>\n",
       "    <tr>\n",
       "      <th>997</th>\n",
       "      <td>#error</td>\n",
       "      <td>NaN</td>\n",
       "      <td>10454.0</td>\n",
       "      <td>-10454.0</td>\n",
       "    </tr>\n",
       "    <tr>\n",
       "      <th>998</th>\n",
       "      <td>#error</td>\n",
       "      <td>NaN</td>\n",
       "      <td>1000.0</td>\n",
       "      <td>-1000.0</td>\n",
       "    </tr>\n",
       "    <tr>\n",
       "      <th>999</th>\n",
       "      <td>#error</td>\n",
       "      <td>NaN</td>\n",
       "      <td>10754.0</td>\n",
       "      <td>-10754.0</td>\n",
       "    </tr>\n",
       "  </tbody>\n",
       "</table>\n",
       "</div>"
      ],
      "text/plain": [
       "                              user_id                  time      bet      win\n",
       "980                            #error                   NaN  10454.0  30117.0\n",
       "981                            #error                   NaN    800.0   7035.0\n",
       "982                            #error                   NaN    900.0   -900.0\n",
       "983                            #error                   NaN    500.0   -500.0\n",
       "984  Запись пользователя № - user_925  [2019-04-20 12:55:00   1000.0  -1000.0\n",
       "985                            #error                   NaN    900.0   -900.0\n",
       "986                            #error                   NaN  10454.0  29972.0\n",
       "987                            #error                   NaN  10554.0  31634.0\n",
       "988                            #error                   NaN   1000.0  -1000.0\n",
       "989  Запись пользователя № - user_953  [2019-04-20 12:55:39   9954.0  -9954.0\n",
       "990  Запись пользователя № - user_954  [2019-04-20 12:55:40   9854.0  -9854.0\n",
       "991  Запись пользователя № - user_965  [2019-04-20 12:55:41    800.0   6927.0\n",
       "992  Запись пользователя № - user_967  [2019-04-20 14:59:36  10154.0 -10154.0\n",
       "993  Запись пользователя № - user_973  [2019-04-20 17:09:56  10254.0 -10254.0\n",
       "994  Запись пользователя № - user_977  [2019-04-20 18:10:07  10354.0 -10354.0\n",
       "995  Запись пользователя № - user_984   [2019-04-20 9:59:58   9754.0  -9754.0\n",
       "996                            #error                   NaN  10054.0  29265.0\n",
       "997                            #error                   NaN  10454.0 -10454.0\n",
       "998                            #error                   NaN   1000.0  -1000.0\n",
       "999                            #error                   NaN  10754.0 -10754.0"
      ]
     },
     "execution_count": 85,
     "metadata": {},
     "output_type": "execute_result"
    }
   ],
   "source": [
    "log = pd.read_csv('data/log.csv', header = None)\n",
    "log.columns = [\"user_id\", \"time\", \"bet\", \"win\"]\n",
    "\n",
    "log.bet=log['bet'].fillna(0)\n",
    "log.win=log['win'].fillna(0)\n",
    "\n",
    "def fillna_win(row):\n",
    "    if row.win>0:\n",
    "        return row.win\n",
    "    elif row.bet==0:\n",
    "        row.win=0\n",
    "        return row.win\n",
    "    elif row.bet>0 and row.win==0:\n",
    "        return -row.bet  \n",
    "  \n",
    "# Применяем функцию   \n",
    "log['win'] = log.apply(lambda row: fillna_win(row), axis=1)\n",
    "log.head(20)"
   ]
  },
  {
   "cell_type": "code",
   "execution_count": 58,
   "metadata": {},
   "outputs": [
    {
     "data": {
      "text/plain": [
       "user_id    347\n",
       "time       339\n",
       "bet        347\n",
       "win        347\n",
       "dtype: int64"
      ]
     },
     "execution_count": 58,
     "metadata": {},
     "output_type": "execute_result"
    }
   ],
   "source": [
    "log[log['win']<0].count()"
   ]
  },
  {
   "cell_type": "markdown",
   "metadata": {},
   "source": [
    "Напомним, что добавить новый столбец (признак) в Pandas очень просто: нужно обратиться к нему по имени и присвоить значение.\n",
    "\n",
    "log['net'] = # здесь должен быть код, создающий новый признак  \n",
    "\n",
    "Кроме этого, в Pandas (как и в numpy) столбцы можно складывать друг с другом поэлементно."
   ]
  },
  {
   "cell_type": "code",
   "execution_count": 86,
   "metadata": {},
   "outputs": [
    {
     "name": "stderr",
     "output_type": "stream",
     "text": [
      "C:\\Users\\User\\AppData\\Local\\Temp/ipykernel_10780/371600001.py:2: FutureWarning: Dropping of nuisance columns in DataFrame reductions (with 'numeric_only=None') is deprecated; in a future version this will raise TypeError.  Select only valid columns before calling the reduction.\n",
      "  log[log['net']>0].median()\n"
     ]
    },
    {
     "data": {
      "text/plain": [
       "bet     600.0\n",
       "win    5935.0\n",
       "net    5347.0\n",
       "dtype: float64"
      ]
     },
     "execution_count": 86,
     "metadata": {},
     "output_type": "execute_result"
    }
   ],
   "source": [
    "log['net'] = log['win']-log['bet']\n",
    "log[log['net']>0].median()"
   ]
  },
  {
   "cell_type": "code",
   "execution_count": 100,
   "metadata": {},
   "outputs": [
    {
     "data": {
      "text/html": [
       "<div>\n",
       "<style scoped>\n",
       "    .dataframe tbody tr th:only-of-type {\n",
       "        vertical-align: middle;\n",
       "    }\n",
       "\n",
       "    .dataframe tbody tr th {\n",
       "        vertical-align: top;\n",
       "    }\n",
       "\n",
       "    .dataframe thead th {\n",
       "        text-align: right;\n",
       "    }\n",
       "</style>\n",
       "<table border=\"1\" class=\"dataframe\">\n",
       "  <thead>\n",
       "    <tr style=\"text-align: right;\">\n",
       "      <th></th>\n",
       "      <th>user_id</th>\n",
       "      <th>time</th>\n",
       "      <th>bet</th>\n",
       "      <th>win</th>\n",
       "      <th>net</th>\n",
       "      <th>net2</th>\n",
       "    </tr>\n",
       "  </thead>\n",
       "  <tbody>\n",
       "    <tr>\n",
       "      <th>980</th>\n",
       "      <td>#error</td>\n",
       "      <td>NaN</td>\n",
       "      <td>10454.0</td>\n",
       "      <td>30117.0</td>\n",
       "      <td>19663.0</td>\n",
       "      <td>19663.0</td>\n",
       "    </tr>\n",
       "    <tr>\n",
       "      <th>981</th>\n",
       "      <td>#error</td>\n",
       "      <td>NaN</td>\n",
       "      <td>800.0</td>\n",
       "      <td>7035.0</td>\n",
       "      <td>6235.0</td>\n",
       "      <td>6235.0</td>\n",
       "    </tr>\n",
       "    <tr>\n",
       "      <th>982</th>\n",
       "      <td>#error</td>\n",
       "      <td>NaN</td>\n",
       "      <td>900.0</td>\n",
       "      <td>-900.0</td>\n",
       "      <td>-1800.0</td>\n",
       "      <td>0.0</td>\n",
       "    </tr>\n",
       "    <tr>\n",
       "      <th>983</th>\n",
       "      <td>#error</td>\n",
       "      <td>NaN</td>\n",
       "      <td>500.0</td>\n",
       "      <td>-500.0</td>\n",
       "      <td>-1000.0</td>\n",
       "      <td>0.0</td>\n",
       "    </tr>\n",
       "    <tr>\n",
       "      <th>984</th>\n",
       "      <td>Запись пользователя № - user_925</td>\n",
       "      <td>[2019-04-20 12:55:00</td>\n",
       "      <td>1000.0</td>\n",
       "      <td>-1000.0</td>\n",
       "      <td>-2000.0</td>\n",
       "      <td>0.0</td>\n",
       "    </tr>\n",
       "    <tr>\n",
       "      <th>985</th>\n",
       "      <td>#error</td>\n",
       "      <td>NaN</td>\n",
       "      <td>900.0</td>\n",
       "      <td>-900.0</td>\n",
       "      <td>-1800.0</td>\n",
       "      <td>0.0</td>\n",
       "    </tr>\n",
       "    <tr>\n",
       "      <th>986</th>\n",
       "      <td>#error</td>\n",
       "      <td>NaN</td>\n",
       "      <td>10454.0</td>\n",
       "      <td>29972.0</td>\n",
       "      <td>19518.0</td>\n",
       "      <td>19518.0</td>\n",
       "    </tr>\n",
       "    <tr>\n",
       "      <th>987</th>\n",
       "      <td>#error</td>\n",
       "      <td>NaN</td>\n",
       "      <td>10554.0</td>\n",
       "      <td>31634.0</td>\n",
       "      <td>21080.0</td>\n",
       "      <td>21080.0</td>\n",
       "    </tr>\n",
       "    <tr>\n",
       "      <th>988</th>\n",
       "      <td>#error</td>\n",
       "      <td>NaN</td>\n",
       "      <td>1000.0</td>\n",
       "      <td>-1000.0</td>\n",
       "      <td>-2000.0</td>\n",
       "      <td>0.0</td>\n",
       "    </tr>\n",
       "    <tr>\n",
       "      <th>989</th>\n",
       "      <td>Запись пользователя № - user_953</td>\n",
       "      <td>[2019-04-20 12:55:39</td>\n",
       "      <td>9954.0</td>\n",
       "      <td>-9954.0</td>\n",
       "      <td>-19908.0</td>\n",
       "      <td>0.0</td>\n",
       "    </tr>\n",
       "    <tr>\n",
       "      <th>990</th>\n",
       "      <td>Запись пользователя № - user_954</td>\n",
       "      <td>[2019-04-20 12:55:40</td>\n",
       "      <td>9854.0</td>\n",
       "      <td>-9854.0</td>\n",
       "      <td>-19708.0</td>\n",
       "      <td>0.0</td>\n",
       "    </tr>\n",
       "    <tr>\n",
       "      <th>991</th>\n",
       "      <td>Запись пользователя № - user_965</td>\n",
       "      <td>[2019-04-20 12:55:41</td>\n",
       "      <td>800.0</td>\n",
       "      <td>6927.0</td>\n",
       "      <td>6127.0</td>\n",
       "      <td>6127.0</td>\n",
       "    </tr>\n",
       "    <tr>\n",
       "      <th>992</th>\n",
       "      <td>Запись пользователя № - user_967</td>\n",
       "      <td>[2019-04-20 14:59:36</td>\n",
       "      <td>10154.0</td>\n",
       "      <td>-10154.0</td>\n",
       "      <td>-20308.0</td>\n",
       "      <td>0.0</td>\n",
       "    </tr>\n",
       "    <tr>\n",
       "      <th>993</th>\n",
       "      <td>Запись пользователя № - user_973</td>\n",
       "      <td>[2019-04-20 17:09:56</td>\n",
       "      <td>10254.0</td>\n",
       "      <td>-10254.0</td>\n",
       "      <td>-20508.0</td>\n",
       "      <td>0.0</td>\n",
       "    </tr>\n",
       "    <tr>\n",
       "      <th>994</th>\n",
       "      <td>Запись пользователя № - user_977</td>\n",
       "      <td>[2019-04-20 18:10:07</td>\n",
       "      <td>10354.0</td>\n",
       "      <td>-10354.0</td>\n",
       "      <td>-20708.0</td>\n",
       "      <td>0.0</td>\n",
       "    </tr>\n",
       "    <tr>\n",
       "      <th>995</th>\n",
       "      <td>Запись пользователя № - user_984</td>\n",
       "      <td>[2019-04-20 9:59:58</td>\n",
       "      <td>9754.0</td>\n",
       "      <td>-9754.0</td>\n",
       "      <td>-19508.0</td>\n",
       "      <td>0.0</td>\n",
       "    </tr>\n",
       "    <tr>\n",
       "      <th>996</th>\n",
       "      <td>#error</td>\n",
       "      <td>NaN</td>\n",
       "      <td>10054.0</td>\n",
       "      <td>29265.0</td>\n",
       "      <td>19211.0</td>\n",
       "      <td>19211.0</td>\n",
       "    </tr>\n",
       "    <tr>\n",
       "      <th>997</th>\n",
       "      <td>#error</td>\n",
       "      <td>NaN</td>\n",
       "      <td>10454.0</td>\n",
       "      <td>-10454.0</td>\n",
       "      <td>-20908.0</td>\n",
       "      <td>0.0</td>\n",
       "    </tr>\n",
       "    <tr>\n",
       "      <th>998</th>\n",
       "      <td>#error</td>\n",
       "      <td>NaN</td>\n",
       "      <td>1000.0</td>\n",
       "      <td>-1000.0</td>\n",
       "      <td>-2000.0</td>\n",
       "      <td>0.0</td>\n",
       "    </tr>\n",
       "    <tr>\n",
       "      <th>999</th>\n",
       "      <td>#error</td>\n",
       "      <td>NaN</td>\n",
       "      <td>10754.0</td>\n",
       "      <td>-10754.0</td>\n",
       "      <td>-21508.0</td>\n",
       "      <td>0.0</td>\n",
       "    </tr>\n",
       "  </tbody>\n",
       "</table>\n",
       "</div>"
      ],
      "text/plain": [
       "                              user_id                  time      bet      win  \\\n",
       "980                            #error                   NaN  10454.0  30117.0   \n",
       "981                            #error                   NaN    800.0   7035.0   \n",
       "982                            #error                   NaN    900.0   -900.0   \n",
       "983                            #error                   NaN    500.0   -500.0   \n",
       "984  Запись пользователя № - user_925  [2019-04-20 12:55:00   1000.0  -1000.0   \n",
       "985                            #error                   NaN    900.0   -900.0   \n",
       "986                            #error                   NaN  10454.0  29972.0   \n",
       "987                            #error                   NaN  10554.0  31634.0   \n",
       "988                            #error                   NaN   1000.0  -1000.0   \n",
       "989  Запись пользователя № - user_953  [2019-04-20 12:55:39   9954.0  -9954.0   \n",
       "990  Запись пользователя № - user_954  [2019-04-20 12:55:40   9854.0  -9854.0   \n",
       "991  Запись пользователя № - user_965  [2019-04-20 12:55:41    800.0   6927.0   \n",
       "992  Запись пользователя № - user_967  [2019-04-20 14:59:36  10154.0 -10154.0   \n",
       "993  Запись пользователя № - user_973  [2019-04-20 17:09:56  10254.0 -10254.0   \n",
       "994  Запись пользователя № - user_977  [2019-04-20 18:10:07  10354.0 -10354.0   \n",
       "995  Запись пользователя № - user_984   [2019-04-20 9:59:58   9754.0  -9754.0   \n",
       "996                            #error                   NaN  10054.0  29265.0   \n",
       "997                            #error                   NaN  10454.0 -10454.0   \n",
       "998                            #error                   NaN   1000.0  -1000.0   \n",
       "999                            #error                   NaN  10754.0 -10754.0   \n",
       "\n",
       "         net     net2  \n",
       "980  19663.0  19663.0  \n",
       "981   6235.0   6235.0  \n",
       "982  -1800.0      0.0  \n",
       "983  -1000.0      0.0  \n",
       "984  -2000.0      0.0  \n",
       "985  -1800.0      0.0  \n",
       "986  19518.0  19518.0  \n",
       "987  21080.0  21080.0  \n",
       "988  -2000.0      0.0  \n",
       "989 -19908.0      0.0  \n",
       "990 -19708.0      0.0  \n",
       "991   6127.0   6127.0  \n",
       "992 -20308.0      0.0  \n",
       "993 -20508.0      0.0  \n",
       "994 -20708.0      0.0  \n",
       "995 -19508.0      0.0  \n",
       "996  19211.0  19211.0  \n",
       "997 -20908.0      0.0  \n",
       "998  -2000.0      0.0  \n",
       "999 -21508.0      0.0  "
      ]
     },
     "execution_count": 100,
     "metadata": {},
     "output_type": "execute_result"
    }
   ],
   "source": [
    "log.bet=log['bet'].fillna(0)\n",
    "log.win=log['win'].fillna(0)\n",
    "\n",
    "def fillna_net(row):\n",
    "    if row.win<0:\n",
    "        row.net=0.0\n",
    "        return row.net\n",
    "    elif row.win>0:\n",
    "        return row.win-row.bet\n",
    "  \n",
    "# Применяем функцию   \n",
    "log['net2'] = log.apply(lambda row: fillna_net(row), axis=1)\n",
    "log.tail(20)"
   ]
  },
  {
   "cell_type": "code",
   "execution_count": 66,
   "metadata": {},
   "outputs": [
    {
     "data": {
      "text/plain": [
       "3291.083"
      ]
     },
     "execution_count": 66,
     "metadata": {},
     "output_type": "execute_result"
    }
   ],
   "source": [
    "import numpy as np\n",
    "\n",
    "# Как можно посчитать среднее значение для столбца bet, не учитывая при подсчёте пропуски?\n",
    "\n",
    "log.bet.mean()\n",
    "log.bet.sum() / log.bet.dropna().shape[0]\n",
    "np.mean(log.bet)\n",
    "log['bet'].dropna().mean()"
   ]
  },
  {
   "cell_type": "markdown",
   "metadata": {},
   "source": [
    "Оцениваем выигрыши и проигрыши\n",
    "\n",
    "Посмотрим, сколько в среднем люди выигрывают и проигрывают."
   ]
  },
  {
   "cell_type": "code",
   "execution_count": 87,
   "metadata": {},
   "outputs": [
    {
     "data": {
      "text/plain": [
       "user_id    0.485000\n",
       "time       0.479188\n",
       "bet        0.485000\n",
       "win        0.485000\n",
       "net        0.485000\n",
       "dtype: float64"
      ]
     },
     "execution_count": 87,
     "metadata": {},
     "output_type": "execute_result"
    }
   ],
   "source": [
    "# Посчитайте, какой процент посещений букмекерской конторы оборачивался ставкой. \n",
    "# Для этого поделите количество ставок (значений больше 0) на общее количество посещений конторы.\n",
    "\n",
    "log[log['bet']>0].count() / log.count()"
   ]
  },
  {
   "cell_type": "code",
   "execution_count": 101,
   "metadata": {},
   "outputs": [
    {
     "data": {
      "text/plain": [
       "6785.738144329897"
      ]
     },
     "execution_count": 101,
     "metadata": {},
     "output_type": "execute_result"
    }
   ],
   "source": [
    "# Каково среднее значение ставки (из столбца bet) в тех случаях, когда ставка была сделана?\n",
    "\n",
    "log[log['bet']>0]['bet'].mean()"
   ]
  },
  {
   "cell_type": "code",
   "execution_count": 102,
   "metadata": {},
   "outputs": [
    {
     "name": "stderr",
     "output_type": "stream",
     "text": [
      "C:\\Users\\User\\AppData\\Local\\Temp/ipykernel_10780/774994742.py:4: FutureWarning: Dropping of nuisance columns in DataFrame reductions (with 'numeric_only=None') is deprecated; in a future version this will raise TypeError.  Select only valid columns before calling the reduction.\n",
      "  log[log['bet']>0].mean()\n"
     ]
    },
    {
     "data": {
      "text/plain": [
       "bet      6785.738144\n",
       "win     24794.554639\n",
       "net     18008.816495\n",
       "net2    22834.969072\n",
       "dtype: float64"
      ]
     },
     "execution_count": 102,
     "metadata": {},
     "output_type": "execute_result"
    }
   ],
   "source": [
    "# Каков средний выигрыш (из столбца net) в тех случаях, когда ставка была сделана?\n",
    "# Выигрышем будем считать любое изменение количества денег, в том числе отрицательное (в таком случае это проигрыш).\n",
    "\n",
    "log[log['bet']>0].mean()"
   ]
  },
  {
   "cell_type": "code",
   "execution_count": 103,
   "metadata": {},
   "outputs": [
    {
     "name": "stderr",
     "output_type": "stream",
     "text": [
      "C:\\Users\\User\\AppData\\Local\\Temp/ipykernel_10780/400618083.py:3: FutureWarning: Dropping of nuisance columns in DataFrame reductions (with 'numeric_only=None') is deprecated; in a future version this will raise TypeError.  Select only valid columns before calling the reduction.\n",
      "  log[log['win']<0].mean()\n"
     ]
    },
    {
     "data": {
      "text/plain": [
       "bet     3372.743516\n",
       "win    -3372.743516\n",
       "net    -6745.487032\n",
       "net2       0.000000\n",
       "dtype: float64"
      ]
     },
     "execution_count": 103,
     "metadata": {},
     "output_type": "execute_result"
    }
   ],
   "source": [
    "# Каков средний размер потерь при проигрыше (из столбца net)?\n",
    "\n",
    "log[log['win']<0].mean()"
   ]
  },
  {
   "cell_type": "code",
   "execution_count": 114,
   "metadata": {},
   "outputs": [
    {
     "data": {
      "text/plain": [
       "48"
      ]
     },
     "execution_count": 114,
     "metadata": {},
     "output_type": "execute_result"
    }
   ],
   "source": [
    "#Посчитайте, чему равна минимальная ставка.\n",
    "#Посчитайте, сколько раз была сделана минимальная ставка и запишите результат в переменную min_bet_amount в виде целого числа.\n",
    "\n",
    "\n",
    "min_bet = log[log['bet']>0]['bet'].min()\n",
    "min_bet_amount = log[log['bet']==min_bet]['bet'].count()"
   ]
  },
  {
   "cell_type": "markdown",
   "metadata": {},
   "source": [
    "Объединяем датасеты\n",
    "\n",
    "Merge\n",
    "\n",
    "Теперь объединим данные с помощью метода pd.merge():\n",
    "\n",
    "Первые два аргумента — таблицы, которые нужно будет объединить.\n",
    "\n",
    "Третий аргумент — название признака, по которому будем объединять данные. Мы уже привели данные к одинаковому виду, и теперь их можно объединить по признаку 'user_id', чтобы получить полную информацию о пользователе. "
   ]
  },
  {
   "cell_type": "code",
   "execution_count": 115,
   "metadata": {},
   "outputs": [],
   "source": [
    "log = pd.read_csv('data/log.csv', header = None)\n",
    "log.columns = [\"user_id\", \"time\", \"bet\", \"win\"]\n",
    "users = pd.read_csv('data/users.csv', sep=\"\\t\", encoding=\"koi8_r\")\n",
    "users.columns = [\"user_id\", \"email\", \"geo\"]\n",
    "\n",
    "# Приведём признак user_id к одному формату в обоих датасетах\n",
    "users.user_id = users.user_id.apply(lambda x: x.lower())\n",
    "# Избавимся от ошибок в user_id\n",
    "log = log[log.user_id != \"#error\"]\n",
    "log.user_id = log.user_id.str.split(\" - \").apply(lambda x: x[1])"
   ]
  },
  {
   "cell_type": "code",
   "execution_count": 119,
   "metadata": {},
   "outputs": [
    {
     "data": {
      "text/html": [
       "<div>\n",
       "<style scoped>\n",
       "    .dataframe tbody tr th:only-of-type {\n",
       "        vertical-align: middle;\n",
       "    }\n",
       "\n",
       "    .dataframe tbody tr th {\n",
       "        vertical-align: top;\n",
       "    }\n",
       "\n",
       "    .dataframe thead th {\n",
       "        text-align: right;\n",
       "    }\n",
       "</style>\n",
       "<table border=\"1\" class=\"dataframe\">\n",
       "  <thead>\n",
       "    <tr style=\"text-align: right;\">\n",
       "      <th></th>\n",
       "      <th>user_id</th>\n",
       "      <th>time</th>\n",
       "      <th>bet</th>\n",
       "      <th>win</th>\n",
       "      <th>email</th>\n",
       "      <th>geo</th>\n",
       "    </tr>\n",
       "  </thead>\n",
       "  <tbody>\n",
       "    <tr>\n",
       "      <th>0</th>\n",
       "      <td>user_919</td>\n",
       "      <td>[2019-01-01 14:06:51</td>\n",
       "      <td>NaN</td>\n",
       "      <td>NaN</td>\n",
       "      <td>Chikkaverle@icloud.com</td>\n",
       "      <td>Хабаровск</td>\n",
       "    </tr>\n",
       "    <tr>\n",
       "      <th>1</th>\n",
       "      <td>user_919</td>\n",
       "      <td>[2019-01-30 10:06:00</td>\n",
       "      <td>NaN</td>\n",
       "      <td>NaN</td>\n",
       "      <td>Chikkaverle@icloud.com</td>\n",
       "      <td>Хабаровск</td>\n",
       "    </tr>\n",
       "    <tr>\n",
       "      <th>2</th>\n",
       "      <td>user_919</td>\n",
       "      <td>[2019-02-05 14:33:44</td>\n",
       "      <td>NaN</td>\n",
       "      <td>NaN</td>\n",
       "      <td>Chikkaverle@icloud.com</td>\n",
       "      <td>Хабаровск</td>\n",
       "    </tr>\n",
       "    <tr>\n",
       "      <th>3</th>\n",
       "      <td>user_919</td>\n",
       "      <td>[2019-02-14 11:38:05</td>\n",
       "      <td>NaN</td>\n",
       "      <td>NaN</td>\n",
       "      <td>Chikkaverle@icloud.com</td>\n",
       "      <td>Хабаровск</td>\n",
       "    </tr>\n",
       "    <tr>\n",
       "      <th>4</th>\n",
       "      <td>user_919</td>\n",
       "      <td>[2019-03-02 4:23:36</td>\n",
       "      <td>300.0</td>\n",
       "      <td>NaN</td>\n",
       "      <td>Chikkaverle@icloud.com</td>\n",
       "      <td>Хабаровск</td>\n",
       "    </tr>\n",
       "    <tr>\n",
       "      <th>...</th>\n",
       "      <td>...</td>\n",
       "      <td>...</td>\n",
       "      <td>...</td>\n",
       "      <td>...</td>\n",
       "      <td>...</td>\n",
       "      <td>...</td>\n",
       "    </tr>\n",
       "    <tr>\n",
       "      <th>970</th>\n",
       "      <td>user_932</td>\n",
       "      <td>[2019-02-24 22:40:06</td>\n",
       "      <td>NaN</td>\n",
       "      <td>NaN</td>\n",
       "      <td>BraceWalker@bk.ru</td>\n",
       "      <td>Красноярск</td>\n",
       "    </tr>\n",
       "    <tr>\n",
       "      <th>971</th>\n",
       "      <td>user_932</td>\n",
       "      <td>[2019-03-15 10:56:14</td>\n",
       "      <td>NaN</td>\n",
       "      <td>NaN</td>\n",
       "      <td>BraceWalker@bk.ru</td>\n",
       "      <td>Красноярск</td>\n",
       "    </tr>\n",
       "    <tr>\n",
       "      <th>972</th>\n",
       "      <td>user_932</td>\n",
       "      <td>[2019-03-18 10:13:24</td>\n",
       "      <td>NaN</td>\n",
       "      <td>NaN</td>\n",
       "      <td>BraceWalker@bk.ru</td>\n",
       "      <td>Красноярск</td>\n",
       "    </tr>\n",
       "    <tr>\n",
       "      <th>973</th>\n",
       "      <td>user_932</td>\n",
       "      <td>[2019-03-27 12:18:24</td>\n",
       "      <td>NaN</td>\n",
       "      <td>NaN</td>\n",
       "      <td>BraceWalker@bk.ru</td>\n",
       "      <td>Красноярск</td>\n",
       "    </tr>\n",
       "    <tr>\n",
       "      <th>974</th>\n",
       "      <td>user_932</td>\n",
       "      <td>[2019-04-18 14:55:26</td>\n",
       "      <td>700.0</td>\n",
       "      <td>6640.0</td>\n",
       "      <td>BraceWalker@bk.ru</td>\n",
       "      <td>Красноярск</td>\n",
       "    </tr>\n",
       "  </tbody>\n",
       "</table>\n",
       "<p>975 rows × 6 columns</p>\n",
       "</div>"
      ],
      "text/plain": [
       "      user_id                  time    bet     win                   email  \\\n",
       "0    user_919  [2019-01-01 14:06:51    NaN     NaN  Chikkaverle@icloud.com   \n",
       "1    user_919  [2019-01-30 10:06:00    NaN     NaN  Chikkaverle@icloud.com   \n",
       "2    user_919  [2019-02-05 14:33:44    NaN     NaN  Chikkaverle@icloud.com   \n",
       "3    user_919  [2019-02-14 11:38:05    NaN     NaN  Chikkaverle@icloud.com   \n",
       "4    user_919   [2019-03-02 4:23:36  300.0     NaN  Chikkaverle@icloud.com   \n",
       "..        ...                   ...    ...     ...                     ...   \n",
       "970  user_932  [2019-02-24 22:40:06    NaN     NaN       BraceWalker@bk.ru   \n",
       "971  user_932  [2019-03-15 10:56:14    NaN     NaN       BraceWalker@bk.ru   \n",
       "972  user_932  [2019-03-18 10:13:24    NaN     NaN       BraceWalker@bk.ru   \n",
       "973  user_932  [2019-03-27 12:18:24    NaN     NaN       BraceWalker@bk.ru   \n",
       "974  user_932  [2019-04-18 14:55:26  700.0  6640.0       BraceWalker@bk.ru   \n",
       "\n",
       "            geo  \n",
       "0     Хабаровск  \n",
       "1     Хабаровск  \n",
       "2     Хабаровск  \n",
       "3     Хабаровск  \n",
       "4     Хабаровск  \n",
       "..          ...  \n",
       "970  Красноярск  \n",
       "971  Красноярск  \n",
       "972  Красноярск  \n",
       "973  Красноярск  \n",
       "974  Красноярск  \n",
       "\n",
       "[975 rows x 6 columns]"
      ]
     },
     "execution_count": 119,
     "metadata": {},
     "output_type": "execute_result"
    }
   ],
   "source": [
    "pd.merge(log, users, on='user_id')  "
   ]
  },
  {
   "cell_type": "markdown",
   "metadata": {},
   "source": [
    "Groupby\n",
    "\n",
    "Теперь повторим groupby.\n",
    "\n",
    "Данный метод позволяет сгруппировать данные и применить к ним методы агрегации:\n",
    "\n",
    "В данном случае мы группируем данные по признаку user_id.\n",
    "\n",
    "После этого в каждой группе выбираем признак win.\n",
    "\n",
    "Затем берём медиану по каждой группе по признаку win и на выходе получаем таблицу, где индексом является признак user_id. В этой таблице единственный столбец — медиана по каждой группе (то есть по каждому пользователю).\n",
    "\n",
    "Наконец, последний вызов median() даёт нам медиану по предыдущему столбцу, то есть возвращает одно число."
   ]
  },
  {
   "cell_type": "code",
   "execution_count": 121,
   "metadata": {},
   "outputs": [
    {
     "data": {
      "text/plain": [
       "5951.75"
      ]
     },
     "execution_count": 121,
     "metadata": {},
     "output_type": "execute_result"
    }
   ],
   "source": [
    "log_user = pd.merge(log, users, on='user_id')  \n",
    "log_user.groupby('user_id').win.median().median() "
   ]
  },
  {
   "cell_type": "code",
   "execution_count": 131,
   "metadata": {},
   "outputs": [],
   "source": [
    "# Мой вариант\n",
    "\n",
    "log = pd.read_csv('data/log.csv', header = None)\n",
    "log.columns = [\"user_id\", \"time\", \"bet\", \"win\"]\n",
    "users = pd.read_csv('data/users.csv', sep=\"\\t\", encoding=\"koi8_r\")\n",
    "users.columns = [\"user_id\", \"email\", \"geo\"]\n",
    "\n",
    "def correct_user_id (new_id):\n",
    "    if new_id == '#error':\n",
    "        return ''\n",
    "    else:\n",
    "        return new_id[24:]\n",
    "\n",
    "log = log.query('user_id != \"#error\"')\n",
    "log['user_id'] = log.user_id.apply(correct_user_id)\n",
    "log.time = log.time.str.strip('[')\n",
    "\n",
    "log.drop_duplicates(subset=['time','user_id'])\n",
    "\n",
    "log['time'] = pd.to_datetime(log['time'])\n",
    "\n",
    "log.bet=log['bet'].fillna(0)\n",
    "log.win=log['win'].fillna(0)\n",
    "\n",
    "def fillna_win(row):\n",
    "    if row.win>0:\n",
    "        return row.win\n",
    "    elif row.bet==0:\n",
    "        row.win=0\n",
    "        return row.win\n",
    "    elif row.bet>0 and row.win==0:\n",
    "        return -row.bet  \n",
    "   \n",
    "log['win'] = log.apply(lambda row: fillna_win(row), axis=1)\n",
    "\n",
    "def fillna_net(row):\n",
    "    if row.win<0:\n",
    "        row.net=0.0\n",
    "        return row.net\n",
    "    elif row.win>0:\n",
    "        return row.win-row.bet\n",
    " \n",
    "log['net'] = log.apply(lambda row: fillna_net(row), axis=1)"
   ]
  },
  {
   "cell_type": "code",
   "execution_count": 135,
   "metadata": {},
   "outputs": [],
   "source": [
    "import pandas as pd\n",
    "\n",
    "log = pd.read_csv('data/log.csv', header = None)\n",
    "log.columns = [\"user_id\", \"time\", \"bet\", \"win\"]\n",
    "users = pd.read_csv('data/users.csv', sep=\"\\t\", encoding=\"koi8_r\")\n",
    "users.columns = [\"user_id\", \"email\", \"geo\"]\n",
    "\n",
    "log = log[log.user_id != '#error']  \n",
    "log.time = log.time.str.strip('[')\n",
    "log.user_id = log.user_id.str.split(' - ').apply(lambda x: x[1])\n",
    "users.user_id = users.user_id.apply(lambda x: x.lower()) \n",
    "\n",
    "log.drop_duplicates(subset=['time','user_id'])\n",
    "\n",
    "log['time'] = pd.to_datetime(log['time'])\n",
    "\n",
    "log.bet=log['bet'].fillna(0)\n",
    "log.win=log['win'].fillna(0)\n",
    "\n",
    "log['net'] = log['win'] - log['bet']"
   ]
  },
  {
   "cell_type": "code",
   "execution_count": null,
   "metadata": {},
   "outputs": [],
   "source": [
    "def fillna_win(row):\n",
    "    if row.win>0:\n",
    "        return row.win\n",
    "    elif row.bet==0:\n",
    "        row.win=0\n",
    "        return row.win\n",
    "    elif row.bet>0 and row.win==0:\n",
    "        return -row.bet  \n",
    "   \n",
    "log['win'] = log.apply(lambda row: fillna_win(row), axis=1)"
   ]
  },
  {
   "cell_type": "code",
   "execution_count": 136,
   "metadata": {},
   "outputs": [
    {
     "data": {
      "text/plain": [
       "2202.0"
      ]
     },
     "execution_count": 136,
     "metadata": {},
     "output_type": "execute_result"
    }
   ],
   "source": [
    "# Какова медиана баланса по каждому пользователю?\n",
    "# Для решения задачи сделайте группировку по пользователям, возьмите признак net, просуммируйте по каждому пользователю и возьмите медиану.\n",
    "\n",
    "log.groupby('user_id').net.sum().median()"
   ]
  },
  {
   "cell_type": "code",
   "execution_count": null,
   "metadata": {},
   "outputs": [],
   "source": [
    "# Во сколько раз различаются максимальное и минимальное значения средней ставки по городам?\n",
    "\n",
    "df = pd.merge(log, users, on='user_id')\n",
    "\n",
    "group = df.groupby('geo').bet.mean().sort_values()\n",
    "(group.max())/(group.min())"
   ]
  },
  {
   "cell_type": "code",
   "execution_count": 130,
   "metadata": {},
   "outputs": [
    {
     "data": {
      "text/plain": [
       "5709.0"
      ]
     },
     "execution_count": 130,
     "metadata": {},
     "output_type": "execute_result"
    }
   ],
   "source": [
    "log.groupby('user_id').net.sum().median() "
   ]
  },
  {
   "cell_type": "code",
   "execution_count": null,
   "metadata": {},
   "outputs": [],
   "source": []
  }
 ],
 "metadata": {
  "interpreter": {
   "hash": "aecd030d4c8316a52bf122072e28f84bcc79844c2684e041fef2e3f1d9f59078"
  },
  "kernelspec": {
   "display_name": "Python 3.10.0 64-bit",
   "language": "python",
   "name": "python3"
  },
  "language_info": {
   "codemirror_mode": {
    "name": "ipython",
    "version": 3
   },
   "file_extension": ".py",
   "mimetype": "text/x-python",
   "name": "python",
   "nbconvert_exporter": "python",
   "pygments_lexer": "ipython3",
   "version": "3.10.0"
  },
  "orig_nbformat": 4
 },
 "nbformat": 4,
 "nbformat_minor": 2
}
