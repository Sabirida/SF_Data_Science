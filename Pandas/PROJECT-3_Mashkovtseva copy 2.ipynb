{
 "cells": [
  {
   "cell_type": "markdown",
   "metadata": {},
   "source": [
    "## PROJECT-3. Анализ воронки\n",
    "\n",
    "*Работу подготовила: Машковцева Дарья.*"
   ]
  },
  {
   "cell_type": "markdown",
   "metadata": {},
   "source": [
    "ЦЕЛЬ\n",
    "\n",
    "Исследовать поведение пользователей в обновлённом приложении.\n",
    "\n",
    "ЗАДАЧИ\n",
    "\n",
    "В рамках проверки гипотез вам необходимо решить три задачи:\n",
    "1. Определить, насколько обучение сокращает время прохождения этапов игры.\n",
    "2. Доказать, что успешное обучение само по себе влияет на оплату и не имеет значения то, каким этапом оно шло.\n",
    "3. Определить, насколько прозрачен процесс взаимодействия с игрой.\n",
    "\n",
    "КОНКРЕТНЫЕ ШАГИ (ФОРМАЛИЗОВАННЫЕ ЗАДАЧИ)\n",
    "1. Сравнить время прохождения различных этапов для пользователей, которые завершили обучение, и пользователей, не начинавших обучение. Если показатель отличается, выяснить, насколько.\n",
    "2. Проверить, существует ли зависимость между вероятностью оплаты вопросов и количеством обучений, которые начинал или завершал пользователь. \n",
    "3. Выяснить, как часто пользователи начинают обучение после выбора уровня сложности. (Это позволит оценить прозрачность процесса взаимодействия с игрой: если пользователи после выбора уровня сложности обращаются к обучению, значит, работа с приложением непонятна.)"
   ]
  },
  {
   "cell_type": "code",
   "execution_count": 122,
   "metadata": {},
   "outputs": [],
   "source": [
    "import pandas as pd\n",
    "\n",
    "events_data = pd.read_csv('data/7_4_Events.csv', sep=',')\n",
    "purchase_data = pd.read_csv('data/purchase.csv', sep=',')"
   ]
  },
  {
   "cell_type": "markdown",
   "metadata": {},
   "source": [
    "*Подготовка данных*"
   ]
  },
  {
   "cell_type": "code",
   "execution_count": 123,
   "metadata": {},
   "outputs": [
    {
     "name": "stderr",
     "output_type": "stream",
     "text": [
      "C:\\Users\\User\\AppData\\Local\\Programs\\Python\\Python310\\lib\\site-packages\\pandas\\core\\generic.py:5516: SettingWithCopyWarning: \n",
      "A value is trying to be set on a copy of a slice from a DataFrame.\n",
      "Try using .loc[row_indexer,col_indexer] = value instead\n",
      "\n",
      "See the caveats in the documentation: https://pandas.pydata.org/pandas-docs/stable/user_guide/indexing.html#returning-a-view-versus-a-copy\n",
      "  self[name] = value\n"
     ]
    }
   ],
   "source": [
    "cond = (events_data.start_time>='2018-01-01') & (events_data.start_time<'2019-01-01') & (events_data.event_type=='registration')\n",
    "registered = events_data[cond]['user_id'].to_list() # список пользователей, зарег. в 2018\n",
    "events_df = events_data[events_data.user_id.isin(registered)]\n",
    "events_df.start_time = pd.to_datetime(events_df.start_time, format='%Y-%m-%dT%H:%M:%S')\n",
    "\n",
    "cond2 = (purchase_data.event_datetime>='2018-01-01') & (purchase_data.event_datetime<'2019-01-01')\n",
    "registered2 = purchase_data[cond2]['user_id'].to_list()\n",
    "purchase_df = purchase_data[purchase_data['user_id'].isin(registered)]\n",
    "purchase_df.event_datetime = pd.to_datetime(purchase_df.event_datetime, format='%Y-%m-%dT%H:%M:%S')"
   ]
  },
  {
   "cell_type": "markdown",
   "metadata": {},
   "source": [
    "*Объединяем таблицы*"
   ]
  },
  {
   "cell_type": "code",
   "execution_count": 124,
   "metadata": {},
   "outputs": [
    {
     "name": "stderr",
     "output_type": "stream",
     "text": [
      "C:\\Users\\User\\AppData\\Local\\Temp/ipykernel_7224/3386485996.py:1: SettingWithCopyWarning: \n",
      "A value is trying to be set on a copy of a slice from a DataFrame.\n",
      "Try using .loc[row_indexer,col_indexer] = value instead\n",
      "\n",
      "See the caveats in the documentation: https://pandas.pydata.org/pandas-docs/stable/user_guide/indexing.html#returning-a-view-versus-a-copy\n",
      "  purchase_df['event_type'] = 'purchase'\n"
     ]
    }
   ],
   "source": [
    "purchase_df['event_type'] = 'purchase'\n",
    "events_df = events_df.rename(columns={\"id\": \"event_id\"})\n",
    "purchase_df = purchase_df.rename(columns={\"id\": \"purchase_id\"})\n",
    "purchase_df = purchase_df.rename(columns={\"event_datetime\": \"start_time\"})\n",
    "total_events_df = pd.concat([events_df,purchase_df],sort=False)\n",
    "\n",
    "total_events_df = total_events_df.reset_index(drop=True).sort_values('start_time')"
   ]
  },
  {
   "cell_type": "markdown",
   "metadata": {},
   "source": [
    "#### 1. Насколько обучение сокращает время прохождения этапов игры?"
   ]
  },
  {
   "cell_type": "markdown",
   "metadata": {},
   "source": [
    "*Получаем список уникальных пользователей*"
   ]
  },
  {
   "cell_type": "code",
   "execution_count": 125,
   "metadata": {},
   "outputs": [],
   "source": [
    "all_users = total_events_df[\"user_id\"].unique()\n",
    "users_df = pd.DataFrame(all_users, columns = ['user_id'])"
   ]
  },
  {
   "cell_type": "markdown",
   "metadata": {},
   "source": [
    "*Ищем пользователей, прошедших обучение хотя бы раз*"
   ]
  },
  {
   "cell_type": "code",
   "execution_count": 126,
   "metadata": {},
   "outputs": [],
   "source": [
    "users_with_finished_tutorial = total_events_df[total_events_df[\"event_type\"] == \"tutorial_finish\"][\"user_id\"].unique()\n",
    "users_with_finished_tutorial_df = total_events_df[total_events_df[\"user_id\"].isin(set(users_with_finished_tutorial))]\n",
    "\n",
    "df1 = pd.DataFrame(users_with_finished_tutorial_df[\"user_id\"].unique(), columns = ['user_id'])\n",
    "df1['status'] = 'tutorial_finish'"
   ]
  },
  {
   "cell_type": "markdown",
   "metadata": {},
   "source": [
    "*Ищем пользователей, которые начали, но не закончили обучение*"
   ]
  },
  {
   "cell_type": "code",
   "execution_count": 127,
   "metadata": {},
   "outputs": [],
   "source": [
    "users_with_started_tutorial = total_events_df[total_events_df[\"event_type\"] == \"tutorial_start\"][\"user_id\"].unique()\n",
    "set_users_with_started_tutorial = set(users_with_started_tutorial)\n",
    "set_users_not_finished_but_started_tutorial = (set_users_with_started_tutorial.difference(set(users_with_finished_tutorial)))\n",
    "users_not_finished_but_started_tutorial_df = total_events_df[total_events_df[\"user_id\"].isin(set_users_not_finished_but_started_tutorial)]\n",
    "\n",
    "df2 = pd.DataFrame(users_not_finished_but_started_tutorial_df[\"user_id\"].unique(), columns = ['user_id'])\n",
    "df2['status'] = 'not_tutorial_start'"
   ]
  },
  {
   "cell_type": "markdown",
   "metadata": {},
   "source": [
    "*Ищем пользователей, ни разу не начинавших обучение*"
   ]
  },
  {
   "cell_type": "code",
   "execution_count": 128,
   "metadata": {},
   "outputs": [],
   "source": [
    "set_all_users = set(all_users)\n",
    "set_users_not_started_tutorial = set_all_users.difference(set(users_with_started_tutorial))\n",
    "users_not_started_tutorial_df = total_events_df[total_events_df[\"user_id\"].isin(set_users_not_started_tutorial)]\n",
    "\n",
    "df3 = pd.DataFrame(users_not_started_tutorial_df[\"user_id\"].unique(), columns = ['user_id'])\n",
    "df3['status'] = 'not_tutorial_start'"
   ]
  },
  {
   "cell_type": "markdown",
   "metadata": {},
   "source": [
    "*У последних двух групп будет один статус not_tutorial_start, так как все такие пользователи не закончили обучение, и неважно, начинали они его или нет*"
   ]
  },
  {
   "cell_type": "markdown",
   "metadata": {},
   "source": [
    "*Объединяем датафреймы со статусами*"
   ]
  },
  {
   "cell_type": "code",
   "execution_count": 129,
   "metadata": {},
   "outputs": [],
   "source": [
    "users_with_status_not_finished_tutorial_df = df2.merge(df3, how='outer')\n",
    "users_with_status_df = users_with_status_not_finished_tutorial_df.merge(df1, how='outer')"
   ]
  },
  {
   "cell_type": "markdown",
   "metadata": {},
   "source": [
    "*Определяем время этапа*"
   ]
  },
  {
   "cell_type": "code",
   "execution_count": 130,
   "metadata": {},
   "outputs": [
    {
     "data": {
      "text/html": [
       "<div>\n",
       "<style scoped>\n",
       "    .dataframe tbody tr th:only-of-type {\n",
       "        vertical-align: middle;\n",
       "    }\n",
       "\n",
       "    .dataframe tbody tr th {\n",
       "        vertical-align: top;\n",
       "    }\n",
       "\n",
       "    .dataframe thead th {\n",
       "        text-align: right;\n",
       "    }\n",
       "</style>\n",
       "<table border=\"1\" class=\"dataframe\">\n",
       "  <thead>\n",
       "    <tr style=\"text-align: right;\">\n",
       "      <th></th>\n",
       "      <th>user_id</th>\n",
       "      <th>status</th>\n",
       "      <th>registration_time</th>\n",
       "      <th>tutorial_start_time</th>\n",
       "      <th>level_choice_time</th>\n",
       "      <th>pack_choice_time</th>\n",
       "      <th>purchase_time</th>\n",
       "    </tr>\n",
       "  </thead>\n",
       "  <tbody>\n",
       "    <tr>\n",
       "      <th>0</th>\n",
       "      <td>27840</td>\n",
       "      <td>not_tutorial_start</td>\n",
       "      <td>2018-01-01 20:53:21</td>\n",
       "      <td>2018-01-02 02:07:07</td>\n",
       "      <td>2018-01-02 05:18:42</td>\n",
       "      <td>NaT</td>\n",
       "      <td>NaT</td>\n",
       "    </tr>\n",
       "    <tr>\n",
       "      <th>1</th>\n",
       "      <td>27856</td>\n",
       "      <td>not_tutorial_start</td>\n",
       "      <td>2018-01-02 21:18:21</td>\n",
       "      <td>2018-01-03 04:36:55</td>\n",
       "      <td>2018-01-03 08:31:35</td>\n",
       "      <td>2018-01-03 08:33:35</td>\n",
       "      <td>NaT</td>\n",
       "    </tr>\n",
       "    <tr>\n",
       "      <th>2</th>\n",
       "      <td>27857</td>\n",
       "      <td>not_tutorial_start</td>\n",
       "      <td>2018-01-02 21:25:30</td>\n",
       "      <td>2018-01-03 07:18:57</td>\n",
       "      <td>NaT</td>\n",
       "      <td>NaT</td>\n",
       "      <td>NaT</td>\n",
       "    </tr>\n",
       "    <tr>\n",
       "      <th>3</th>\n",
       "      <td>27859</td>\n",
       "      <td>not_tutorial_start</td>\n",
       "      <td>2018-01-02 21:30:27</td>\n",
       "      <td>2018-01-02 21:37:44</td>\n",
       "      <td>2018-01-03 01:11:45</td>\n",
       "      <td>NaT</td>\n",
       "      <td>NaT</td>\n",
       "    </tr>\n",
       "    <tr>\n",
       "      <th>4</th>\n",
       "      <td>27865</td>\n",
       "      <td>not_tutorial_start</td>\n",
       "      <td>2018-01-03 11:14:57</td>\n",
       "      <td>2018-01-03 23:30:17</td>\n",
       "      <td>2018-01-04 05:56:32</td>\n",
       "      <td>2018-01-04 06:03:20</td>\n",
       "      <td>2018-01-04 14:46:10</td>\n",
       "    </tr>\n",
       "  </tbody>\n",
       "</table>\n",
       "</div>"
      ],
      "text/plain": [
       "   user_id              status   registration_time tutorial_start_time  \\\n",
       "0    27840  not_tutorial_start 2018-01-01 20:53:21 2018-01-02 02:07:07   \n",
       "1    27856  not_tutorial_start 2018-01-02 21:18:21 2018-01-03 04:36:55   \n",
       "2    27857  not_tutorial_start 2018-01-02 21:25:30 2018-01-03 07:18:57   \n",
       "3    27859  not_tutorial_start 2018-01-02 21:30:27 2018-01-02 21:37:44   \n",
       "4    27865  not_tutorial_start 2018-01-03 11:14:57 2018-01-03 23:30:17   \n",
       "\n",
       "    level_choice_time    pack_choice_time       purchase_time  \n",
       "0 2018-01-02 05:18:42                 NaT                 NaT  \n",
       "1 2018-01-03 08:31:35 2018-01-03 08:33:35                 NaT  \n",
       "2                 NaT                 NaT                 NaT  \n",
       "3 2018-01-03 01:11:45                 NaT                 NaT  \n",
       "4 2018-01-04 05:56:32 2018-01-04 06:03:20 2018-01-04 14:46:10  "
      ]
     },
     "execution_count": 130,
     "metadata": {},
     "output_type": "execute_result"
    }
   ],
   "source": [
    "registration_df = total_events_df[total_events_df['event_type'] == 'registration']\n",
    "registration_df = registration_df[[\"user_id\", \"start_time\"]].rename(columns={\"start_time\": \"registration_time\"})\n",
    "\n",
    "users_with_status_df = users_with_status_df.merge(registration_df, on=\"user_id\", how=\"inner\")\n",
    "\n",
    "tutorial_start_df = total_events_df[total_events_df['event_type'] == 'tutorial_start']\n",
    "tutorial_start_df_wo_duplicates = tutorial_start_df.sort_values(\"start_time\").drop_duplicates(\"user_id\")\n",
    "tutorial_start_df_wo_duplicates = tutorial_start_df_wo_duplicates[[\"user_id\", \"start_time\"]].rename(columns={\"start_time\": \"tutorial_start_time\"})\n",
    "\n",
    "users_with_status_df = users_with_status_df.merge(tutorial_start_df_wo_duplicates, on=\"user_id\", how=\"left\")\n",
    "\n",
    "level_choice_df = total_events_df[total_events_df[\"event_type\"] == \"level_choice\"]\n",
    "level_choice_df = level_choice_df[[\"user_id\", \"start_time\"]].rename(columns={\"start_time\": \"level_choice_time\"})\n",
    "\n",
    "users_with_status_df = users_with_status_df.merge(level_choice_df, on=\"user_id\", how=\"left\")\n",
    "\n",
    "pack_choice_df = total_events_df[total_events_df[\"event_type\"] == \"pack_choice\"]\n",
    "pack_choice_df = pack_choice_df[[\"user_id\", \"start_time\"]].rename(columns={\"start_time\": \"pack_choice_time\"})\n",
    "\n",
    "users_with_status_df = users_with_status_df.merge(pack_choice_df, on=\"user_id\", how=\"left\")\n",
    "\n",
    "stage_purchase_df = total_events_df[total_events_df[\"event_type\"] == \"purchase\"]\n",
    "stage_purchase_df = stage_purchase_df[[\"user_id\", \"start_time\"]].rename(columns={\"start_time\": \"purchase_time\"})\n",
    "\n",
    "users_with_status_df = users_with_status_df.merge(stage_purchase_df, on=\"user_id\", how=\"left\")\n",
    "users_with_status_df.head(5)"
   ]
  },
  {
   "cell_type": "markdown",
   "metadata": {},
   "source": [
    "*Определяем время между этапами*"
   ]
  },
  {
   "cell_type": "code",
   "execution_count": 131,
   "metadata": {},
   "outputs": [],
   "source": [
    "df_tutorial_finish = users_with_status_df[users_with_status_df['status'] == 'tutorial_finish']\n",
    "df_tutorial_finish = df_tutorial_finish[[\"user_id\", \"registration_time\", 'tutorial_start_time']]\n",
    "df_tutorial_finish['timedelta_reg_1'] = df_tutorial_finish['tutorial_start_time'] - df_tutorial_finish['registration_time']\n",
    "\n",
    "df_not_tutorial_start = users_with_status_df[users_with_status_df['status'] == 'not_tutorial_start']\n",
    "df_not_tutorial_start = df_not_tutorial_start[[\"user_id\", \"registration_time\", 'level_choice_time']]\n",
    "df_not_tutorial_start['timedelta_reg_2'] = df_not_tutorial_start['level_choice_time'] - df_not_tutorial_start['registration_time']\n",
    "\n",
    "df_timedelta_reg = df_tutorial_finish.merge(df_not_tutorial_start, how=\"outer\")\n",
    "df_timedelta_reg['timedelta_reg'] = pd.concat([df_timedelta_reg['timedelta_reg_1'].dropna(), df_timedelta_reg['timedelta_reg_2'].dropna()]).reindex_like(df_timedelta_reg)\n",
    "df_timedelta_reg = df_timedelta_reg[['user_id', 'timedelta_reg']]"
   ]
  },
  {
   "cell_type": "code",
   "execution_count": 132,
   "metadata": {},
   "outputs": [
    {
     "data": {
      "text/html": [
       "<div>\n",
       "<style scoped>\n",
       "    .dataframe tbody tr th:only-of-type {\n",
       "        vertical-align: middle;\n",
       "    }\n",
       "\n",
       "    .dataframe tbody tr th {\n",
       "        vertical-align: top;\n",
       "    }\n",
       "\n",
       "    .dataframe thead th {\n",
       "        text-align: right;\n",
       "    }\n",
       "</style>\n",
       "<table border=\"1\" class=\"dataframe\">\n",
       "  <thead>\n",
       "    <tr style=\"text-align: right;\">\n",
       "      <th></th>\n",
       "      <th>user_id</th>\n",
       "      <th>status</th>\n",
       "      <th>timedelta_reg</th>\n",
       "      <th>timedelta_lev</th>\n",
       "      <th>timedelta_pack</th>\n",
       "      <th>timedelta_purchase</th>\n",
       "    </tr>\n",
       "  </thead>\n",
       "  <tbody>\n",
       "    <tr>\n",
       "      <th>0</th>\n",
       "      <td>27840</td>\n",
       "      <td>not_tutorial_start</td>\n",
       "      <td>0 days 08:25:21</td>\n",
       "      <td>NaT</td>\n",
       "      <td>NaT</td>\n",
       "      <td>NaT</td>\n",
       "    </tr>\n",
       "    <tr>\n",
       "      <th>1</th>\n",
       "      <td>27856</td>\n",
       "      <td>not_tutorial_start</td>\n",
       "      <td>0 days 11:13:14</td>\n",
       "      <td>0 days 00:02:00</td>\n",
       "      <td>NaT</td>\n",
       "      <td>NaT</td>\n",
       "    </tr>\n",
       "    <tr>\n",
       "      <th>2</th>\n",
       "      <td>27857</td>\n",
       "      <td>not_tutorial_start</td>\n",
       "      <td>NaT</td>\n",
       "      <td>NaT</td>\n",
       "      <td>NaT</td>\n",
       "      <td>NaT</td>\n",
       "    </tr>\n",
       "    <tr>\n",
       "      <th>3</th>\n",
       "      <td>27859</td>\n",
       "      <td>not_tutorial_start</td>\n",
       "      <td>0 days 03:41:18</td>\n",
       "      <td>NaT</td>\n",
       "      <td>NaT</td>\n",
       "      <td>NaT</td>\n",
       "    </tr>\n",
       "    <tr>\n",
       "      <th>4</th>\n",
       "      <td>27865</td>\n",
       "      <td>not_tutorial_start</td>\n",
       "      <td>0 days 18:41:35</td>\n",
       "      <td>0 days 00:06:48</td>\n",
       "      <td>0 days 08:42:50</td>\n",
       "      <td>1 days 03:31:13</td>\n",
       "    </tr>\n",
       "  </tbody>\n",
       "</table>\n",
       "</div>"
      ],
      "text/plain": [
       "   user_id              status   timedelta_reg   timedelta_lev  \\\n",
       "0    27840  not_tutorial_start 0 days 08:25:21             NaT   \n",
       "1    27856  not_tutorial_start 0 days 11:13:14 0 days 00:02:00   \n",
       "2    27857  not_tutorial_start             NaT             NaT   \n",
       "3    27859  not_tutorial_start 0 days 03:41:18             NaT   \n",
       "4    27865  not_tutorial_start 0 days 18:41:35 0 days 00:06:48   \n",
       "\n",
       "   timedelta_pack timedelta_purchase  \n",
       "0             NaT                NaT  \n",
       "1             NaT                NaT  \n",
       "2             NaT                NaT  \n",
       "3             NaT                NaT  \n",
       "4 0 days 08:42:50    1 days 03:31:13  "
      ]
     },
     "execution_count": 132,
     "metadata": {},
     "output_type": "execute_result"
    }
   ],
   "source": [
    "timedelta_df = users_with_status_df.merge(df_timedelta_reg, on=\"user_id\", how=\"left\")\n",
    "timedelta_df = timedelta_df[['user_id', 'status', 'timedelta_reg']]\n",
    "\n",
    "timedelta_df['timedelta_lev'] = users_with_status_df['pack_choice_time'] - users_with_status_df['level_choice_time']\n",
    "timedelta_df['timedelta_pack'] = users_with_status_df['purchase_time'] - users_with_status_df['pack_choice_time']\n",
    "timedelta_df['timedelta_purchase'] = users_with_status_df['purchase_time'] - users_with_status_df['registration_time']\n",
    "timedelta_df.head(5)"
   ]
  },
  {
   "cell_type": "markdown",
   "metadata": {},
   "source": [
    "*Рассчитываем среднее время прохождения этапов в секундах для каждой группы с разными статусами*"
   ]
  },
  {
   "cell_type": "code",
   "execution_count": 133,
   "metadata": {},
   "outputs": [
    {
     "data": {
      "text/html": [
       "<div>\n",
       "<style scoped>\n",
       "    .dataframe tbody tr th:only-of-type {\n",
       "        vertical-align: middle;\n",
       "    }\n",
       "\n",
       "    .dataframe tbody tr th {\n",
       "        vertical-align: top;\n",
       "    }\n",
       "\n",
       "    .dataframe thead th {\n",
       "        text-align: right;\n",
       "    }\n",
       "</style>\n",
       "<table border=\"1\" class=\"dataframe\">\n",
       "  <thead>\n",
       "    <tr style=\"text-align: right;\">\n",
       "      <th></th>\n",
       "      <th>status</th>\n",
       "      <th>registration</th>\n",
       "      <th>level_choice</th>\n",
       "      <th>pack_choice</th>\n",
       "      <th>purchase</th>\n",
       "    </tr>\n",
       "  </thead>\n",
       "  <tbody>\n",
       "    <tr>\n",
       "      <th>0</th>\n",
       "      <td>tutorial_finish</td>\n",
       "      <td>16264</td>\n",
       "      <td>318</td>\n",
       "      <td>62279</td>\n",
       "      <td>1803</td>\n",
       "    </tr>\n",
       "    <tr>\n",
       "      <th>1</th>\n",
       "      <td>not_tutorial_start</td>\n",
       "      <td>28337</td>\n",
       "      <td>307</td>\n",
       "      <td>80410</td>\n",
       "      <td>21812</td>\n",
       "    </tr>\n",
       "  </tbody>\n",
       "</table>\n",
       "</div>"
      ],
      "text/plain": [
       "               status  registration  level_choice  pack_choice  purchase\n",
       "0     tutorial_finish         16264           318        62279      1803\n",
       "1  not_tutorial_start         28337           307        80410     21812"
      ]
     },
     "metadata": {},
     "output_type": "display_data"
    }
   ],
   "source": [
    "#переведем время прохождения этапов из timedelta в число - время в секундах\n",
    "average_timedelta_users = pd.DataFrame(\n",
    "    data = [\n",
    "        ['tutorial_finish', \n",
    "         timedelta_df[timedelta_df['status']=='tutorial_finish']['timedelta_reg'].mean().seconds,\n",
    "         timedelta_df[timedelta_df['status']=='tutorial_finish']['timedelta_lev'].mean().seconds,\n",
    "         timedelta_df[timedelta_df['status']=='tutorial_finish']['timedelta_pack'].mean().seconds,\n",
    "         timedelta_df[timedelta_df['status']=='tutorial_finish']['timedelta_purchase'].mean().seconds],\n",
    "        ['not_tutorial_start',\n",
    "         timedelta_df[timedelta_df['status']=='not_tutorial_start']['timedelta_reg'].mean().seconds,\n",
    "         timedelta_df[timedelta_df['status']=='not_tutorial_start']['timedelta_lev'].mean().seconds,\n",
    "         timedelta_df[timedelta_df['status']=='not_tutorial_start']['timedelta_pack'].mean().seconds,\n",
    "         timedelta_df[timedelta_df['status']=='not_tutorial_start']['timedelta_purchase'].mean().seconds]\n",
    "    ],\n",
    "    columns= ['status', 'registration', 'level_choice', 'pack_choice', 'purchase'])\n",
    "\n",
    "display(average_timedelta_users)"
   ]
  },
  {
   "cell_type": "markdown",
   "metadata": {},
   "source": [
    "*Строим визуализацию с помощью библиотеки Matplotlib*"
   ]
  },
  {
   "cell_type": "code",
   "execution_count": 134,
   "metadata": {},
   "outputs": [
    {
     "data": {
      "text/plain": [
       "Text(0.5, 1.0, 'Среднее время от регистрации до покупки')"
      ]
     },
     "execution_count": 134,
     "metadata": {},
     "output_type": "execute_result"
    },
    {
     "data": {
      "image/png": "[encoded data removed]",
      "text/plain": [
       "<Figure size 1080x720 with 4 Axes>"
      ]
     },
     "metadata": {
      "needs_background": "light"
     },
     "output_type": "display_data"
    }
   ],
   "source": [
    "import matplotlib.pyplot as plt\n",
    "import numpy as np\n",
    "\n",
    "#визуализация систем координат\n",
    "fig, axes = plt.subplots(nrows=2, ncols=2, figsize=(15, 10))\n",
    "\n",
    "axes[0][0].bar(x=average_timedelta_users['status'], \n",
    "            height=average_timedelta_users['registration'],\n",
    "            label='Время в секундах')\n",
    "axes[0][0].set_title('Среднее время прохождения этапа \"Регистрация\"')\n",
    "\n",
    "axes[0][1].bar(x=average_timedelta_users['status'], \n",
    "            height=average_timedelta_users['level_choice'],\n",
    "            label='Время в секундах')\n",
    "axes[0][1].set_title('Среднее время прохождения этапа \"Выбор уровня сложности\"')\n",
    "\n",
    "axes[1][0].bar(x=average_timedelta_users['status'], \n",
    "            height=average_timedelta_users['pack_choice'],\n",
    "            label='Время в секундах')\n",
    "axes[1][0].set_title('Среднее время прохождения этапа \"Выбор пакетов вопросов\"')\n",
    "\n",
    "axes[1][1].bar(x=average_timedelta_users['status'], \n",
    "            height=average_timedelta_users['purchase'],\n",
    "            label='Время в секундах')\n",
    "axes[1][1].set_title('Среднее время от регистрации до покупки')"
   ]
  },
  {
   "cell_type": "markdown",
   "metadata": {},
   "source": [
    "*Найдем разницу в показателях*"
   ]
  },
  {
   "cell_type": "code",
   "execution_count": 135,
   "metadata": {},
   "outputs": [
    {
     "data": {
      "text/html": [
       "<div>\n",
       "<style scoped>\n",
       "    .dataframe tbody tr th:only-of-type {\n",
       "        vertical-align: middle;\n",
       "    }\n",
       "\n",
       "    .dataframe tbody tr th {\n",
       "        vertical-align: top;\n",
       "    }\n",
       "\n",
       "    .dataframe thead th {\n",
       "        text-align: right;\n",
       "    }\n",
       "</style>\n",
       "<table border=\"1\" class=\"dataframe\">\n",
       "  <thead>\n",
       "    <tr style=\"text-align: right;\">\n",
       "      <th></th>\n",
       "      <th>status</th>\n",
       "      <th>registration</th>\n",
       "      <th>level_choice</th>\n",
       "      <th>pack_choice</th>\n",
       "      <th>purchase</th>\n",
       "    </tr>\n",
       "  </thead>\n",
       "  <tbody>\n",
       "    <tr>\n",
       "      <th>0</th>\n",
       "      <td>tutorial_finish</td>\n",
       "      <td>16264</td>\n",
       "      <td>318</td>\n",
       "      <td>62279</td>\n",
       "      <td>1803</td>\n",
       "    </tr>\n",
       "    <tr>\n",
       "      <th>1</th>\n",
       "      <td>not_tutorial_start</td>\n",
       "      <td>28337</td>\n",
       "      <td>307</td>\n",
       "      <td>80410</td>\n",
       "      <td>21812</td>\n",
       "    </tr>\n",
       "    <tr>\n",
       "      <th>2</th>\n",
       "      <td>difference</td>\n",
       "      <td>12073</td>\n",
       "      <td>11</td>\n",
       "      <td>18131</td>\n",
       "      <td>20009</td>\n",
       "    </tr>\n",
       "  </tbody>\n",
       "</table>\n",
       "</div>"
      ],
      "text/plain": [
       "               status  registration  level_choice  pack_choice  purchase\n",
       "0     tutorial_finish         16264           318        62279      1803\n",
       "1  not_tutorial_start         28337           307        80410     21812\n",
       "2          difference         12073            11        18131     20009"
      ]
     },
     "metadata": {},
     "output_type": "display_data"
    }
   ],
   "source": [
    "new_row = {'status':'difference', \n",
    "           'registration': abs(average_timedelta_users['registration'][0] - average_timedelta_users['registration'][1]), \n",
    "           'level_choice': abs(average_timedelta_users['level_choice'][0] - average_timedelta_users['level_choice'][1]), \n",
    "           'pack_choice': abs(average_timedelta_users['pack_choice'][0] - average_timedelta_users['pack_choice'][1]), \n",
    "           'purchase': abs(average_timedelta_users['purchase'][0] - average_timedelta_users['purchase'][1])}\n",
    "\n",
    "average_timedelta_users = average_timedelta_users.append(new_row, ignore_index=True)\n",
    "\n",
    "display(average_timedelta_users)"
   ]
  },
  {
   "cell_type": "markdown",
   "metadata": {},
   "source": [
    "#### 2. Доказать, что успешное обучение само по себе влияет на оплату и не имеет значения то, каким этапом оно шло.\n",
    "\n",
    "*Выделим группу пользователей, не проходивших обучение ни разу (не начинавших и начинавших, но не заканчивающих)*"
   ]
  },
  {
   "cell_type": "code",
   "execution_count": 136,
   "metadata": {},
   "outputs": [],
   "source": [
    "amount_users_not_finished_tutorial = users_with_status_not_finished_tutorial_df[\"user_id\"].nunique()\n",
    "\n",
    "users_not_finished_tutorial_and_purchase_df = users_with_status_not_finished_tutorial_df.merge(purchase_df, on=\"user_id\", how=\"inner\")\n",
    "amount_users_not_finished_tutorial_and_purchase = users_not_finished_tutorial_and_purchase_df[\"user_id\"].nunique()\n",
    "\n",
    "attempts_0 = pd.DataFrame(data = [[0, amount_users_not_finished_tutorial_and_purchase]], columns= ['count_attempts', 'count_users'])"
   ]
  },
  {
   "cell_type": "markdown",
   "metadata": {},
   "source": [
    "*Остальный пользователей разобьем на группы по количеству прохождений обучения*"
   ]
  },
  {
   "cell_type": "code",
   "execution_count": 137,
   "metadata": {},
   "outputs": [
    {
     "data": {
      "text/html": [
       "<div>\n",
       "<style scoped>\n",
       "    .dataframe tbody tr th:only-of-type {\n",
       "        vertical-align: middle;\n",
       "    }\n",
       "\n",
       "    .dataframe tbody tr th {\n",
       "        vertical-align: top;\n",
       "    }\n",
       "\n",
       "    .dataframe thead th {\n",
       "        text-align: right;\n",
       "    }\n",
       "</style>\n",
       "<table border=\"1\" class=\"dataframe\">\n",
       "  <thead>\n",
       "    <tr style=\"text-align: right;\">\n",
       "      <th></th>\n",
       "      <th>count_attempts</th>\n",
       "      <th>count_users</th>\n",
       "    </tr>\n",
       "  </thead>\n",
       "  <tbody>\n",
       "    <tr>\n",
       "      <th>0</th>\n",
       "      <td>0</td>\n",
       "      <td>153</td>\n",
       "    </tr>\n",
       "    <tr>\n",
       "      <th>1</th>\n",
       "      <td>1</td>\n",
       "      <td>1143</td>\n",
       "    </tr>\n",
       "    <tr>\n",
       "      <th>2</th>\n",
       "      <td>2</td>\n",
       "      <td>182</td>\n",
       "    </tr>\n",
       "    <tr>\n",
       "      <th>3</th>\n",
       "      <td>3</td>\n",
       "      <td>44</td>\n",
       "    </tr>\n",
       "    <tr>\n",
       "      <th>4</th>\n",
       "      <td>4</td>\n",
       "      <td>19</td>\n",
       "    </tr>\n",
       "    <tr>\n",
       "      <th>5</th>\n",
       "      <td>5</td>\n",
       "      <td>19</td>\n",
       "    </tr>\n",
       "    <tr>\n",
       "      <th>6</th>\n",
       "      <td>6</td>\n",
       "      <td>15</td>\n",
       "    </tr>\n",
       "    <tr>\n",
       "      <th>7</th>\n",
       "      <td>7</td>\n",
       "      <td>15</td>\n",
       "    </tr>\n",
       "    <tr>\n",
       "      <th>8</th>\n",
       "      <td>8</td>\n",
       "      <td>6</td>\n",
       "    </tr>\n",
       "    <tr>\n",
       "      <th>9</th>\n",
       "      <td>9</td>\n",
       "      <td>4</td>\n",
       "    </tr>\n",
       "  </tbody>\n",
       "</table>\n",
       "</div>"
      ],
      "text/plain": [
       "   count_attempts  count_users\n",
       "0               0          153\n",
       "1               1         1143\n",
       "2               2          182\n",
       "3               3           44\n",
       "4               4           19\n",
       "5               5           19\n",
       "6               6           15\n",
       "7               7           15\n",
       "8               8            6\n",
       "9               9            4"
      ]
     },
     "metadata": {},
     "output_type": "display_data"
    }
   ],
   "source": [
    "df = users_with_finished_tutorial_df[users_with_finished_tutorial_df[\"event_type\"] == \"tutorial_finish\"]\n",
    "df = df[[\"user_id\", \"tutorial_id\"]]\n",
    "\n",
    "users_finished_tutorial_and_purchase_df = df.merge(purchase_df, on=\"user_id\", how=\"inner\")\n",
    "users_finished_tutorial_and_purchase_df = users_finished_tutorial_and_purchase_df[['user_id', 'tutorial_id']]\n",
    "\n",
    "users_attempts = users_finished_tutorial_and_purchase_df.groupby(['user_id']).agg('nunique').reset_index()\n",
    "\n",
    "attempts = users_attempts.groupby(['tutorial_id']).agg('nunique').reset_index()\n",
    "attempts = attempts.rename(columns={\"tutorial_id\": \"count_attempts\", \"user_id\": \"count_users\"})\n",
    "\n",
    "attempts = attempts_0.append(attempts, ignore_index=True)\n",
    "\n",
    "display(attempts)"
   ]
  },
  {
   "cell_type": "markdown",
   "metadata": {},
   "source": [
    "*Строим визуализацию с помощью библиотеки Matplotlib*"
   ]
  },
  {
   "cell_type": "code",
   "execution_count": 138,
   "metadata": {},
   "outputs": [
    {
     "data": {
      "image/png": "[encoded data removed]",
      "text/plain": [
       "<Figure size 360x360 with 1 Axes>"
      ]
     },
     "metadata": {},
     "output_type": "display_data"
    }
   ],
   "source": [
    "import matplotlib.pyplot as plt\n",
    "import numpy as np\n",
    "\n",
    "big_attempts = attempts[attempts['count_users'] > 16]\n",
    "other_attempts = attempts[attempts['count_users'] < 16]\n",
    "other_attempts_sums = pd.DataFrame(data = [['Other', other_attempts['count_users'].sum()]], columns= ['count_attempts', 'count_users'])\n",
    "combinations_attempts = big_attempts.append(other_attempts_sums, ignore_index=True)\n",
    "\n",
    "fig = plt.figure(figsize=(5, 5))\n",
    "axes = fig.add_axes([0, 0, 1, 1])\n",
    "axes.pie(\n",
    "    combinations_attempts['count_users'],\n",
    "    labels=combinations_attempts['count_attempts'],\n",
    "    autopct='%.1f%%'\n",
    ");"
   ]
  },
  {
   "cell_type": "markdown",
   "metadata": {},
   "source": [
    "#### 3. Определить, насколько прозрачен процесс взаимодействия с игрой."
   ]
  },
  {
   "cell_type": "code",
   "execution_count": 139,
   "metadata": {},
   "outputs": [],
   "source": [
    "user_path_df = (total_events_df.groupby([\"user_id\"])[\"event_type\"].apply(list).reset_index())\n",
    "\n",
    "user_path_df[\"event_path\"] = user_path_df[\"event_type\"].apply(lambda x: \" > \".join(x))\n",
    "\n",
    "user_paths = (\n",
    "    user_path_df.groupby([\"event_path\"])[\"user_id\"]\n",
    "    .nunique()\n",
    "    .sort_values(ascending=False)\n",
    ")"
   ]
  },
  {
   "cell_type": "markdown",
   "metadata": {},
   "source": [
    "*Определим все возможные пути, когда после выбора уровня пользователь возвращался к обучению (начинал обучение) и посчитаем долю пользователей с такими путями от количества всех зарегистрированных пользователей*"
   ]
  },
  {
   "cell_type": "code",
   "execution_count": 140,
   "metadata": {},
   "outputs": [
    {
     "name": "stdout",
     "output_type": "stream",
     "text": [
      "Процент пользователей, начавших свое обучение после выбора уровня (от общего числа зарегистрировавшихся): 2.46%\n"
     ]
    }
   ],
   "source": [
    "user_paths_level_choice_tutorial_start = user_paths[user_paths.index.str.contains('level_choice > tutorial_start')]\n",
    "\n",
    "user_paths_level_choice_tutorial_start_df = pd.DataFrame(user_paths_level_choice_tutorial_start)\n",
    "count_user_paths_level_choice_tutorial_start = user_paths_level_choice_tutorial_start_df ['user_id'].sum()\n",
    "\n",
    "registered_users_count = events_df[events_df[\"event_type\"] == \"registration\"][\"user_id\"].nunique()\n",
    "\n",
    "print(\n",
    "    \"Процент пользователей, начавших свое обучение после выбора уровня (от общего числа зарегистрировавшихся): {:.2%}\".format(\n",
    "        count_user_paths_level_choice_tutorial_start / registered_users_count\n",
    "    )\n",
    ")"
   ]
  },
  {
   "cell_type": "markdown",
   "metadata": {},
   "source": [
    "### Выводы\n",
    "\n",
    "**1. Определить, насколько обучение сокращает время прохождения этапов игры.**\n",
    "\n",
    "Обучение не сокращается время прохождения этапов игры. Обучение влияет только на среднее время прохождения этапа \"Выбор уровня сложности\".\n",
    "\n",
    "**2. Доказать, что успешное обучение само по себе влияет на оплату и не имеет значения то, каким этапом оно шло.**\n",
    "\n",
    "Доказано, что около 90% пользователей, купивших вопросы, успешно прошли обучение. И больше всего таких пользователей проходили обучение только один раз - 70% пользователей.\n",
    "\n",
    "**3. Определить, насколько прозрачен процесс взаимодействия с игрой.**\n",
    "\n",
    "Доказано, что порядок прохождения этапов игры понятен пользователям. Только 2,5% зарегистрированных пользователей вернулись к обучению после выбора уровня сложности."
   ]
  }
 ],
 "metadata": {
  "interpreter": {
   "hash": "aecd030d4c8316a52bf122072e28f84bcc79844c2684e041fef2e3f1d9f59078"
  },
  "kernelspec": {
   "display_name": "Python 3.10.0 64-bit",
   "language": "python",
   "name": "python3"
  },
  "language_info": {
   "codemirror_mode": {
    "name": "ipython",
    "version": 3
   },
   "file_extension": ".py",
   "mimetype": "text/x-python",
   "name": "python",
   "nbconvert_exporter": "python",
   "pygments_lexer": "ipython3",
   "version": "3.10.0"
  },
  "orig_nbformat": 4
 },
 "nbformat": 4,
 "nbformat_minor": 2
}
